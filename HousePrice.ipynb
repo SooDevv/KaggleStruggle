{
 "cells": [
  {
   "cell_type": "markdown",
   "metadata": {},
   "source": [
    "## Kaggle :  House Prices - Advanced Regression Techniques\n",
    "- Kernel : Detailed Data Analysis & Ensemble Modeling\n",
    "- Worker : Kim Soojung \n",
    "- 2018 - 04- 18 "
   ]
  },
  {
   "cell_type": "code",
   "execution_count": 112,
   "metadata": {},
   "outputs": [
    {
     "name": "stderr",
     "output_type": "stream",
     "text": [
      "Loading required package: glmnet\n",
      "Warning message in library(package, lib.loc = lib.loc, character.only = TRUE, logical.return = TRUE, :\n",
      "\"there is no package called 'glmnet'\"Loading required package: Metrics\n",
      "Warning message in library(package, lib.loc = lib.loc, character.only = TRUE, logical.return = TRUE, :\n",
      "\"there is no package called 'Metrics'\"Loading required package: GGally\n",
      "Warning message in library(package, lib.loc = lib.loc, character.only = TRUE, logical.return = TRUE, :\n",
      "\"there is no package called 'GGally'\""
     ]
    }
   ],
   "source": [
    "# 필요한 패키지 다운로드\n",
    "require(ggplot2) # for data visualization\n",
    "require(stringr) #extracting string patterns\n",
    "require(Matrix) # matrix transformations\n",
    "require(glmnet) # ridge, lasso & elastinet\n",
    "require(xgboost) # gbm\n",
    "require(randomForest)\n",
    "require(Metrics) # rmse\n",
    "require(dplyr) # load this in last so plyr doens't overlap it\n",
    "require(caret) # one hot encoding\n",
    "require(scales) # plotting $$\n",
    "require(e1071) # skewness\n",
    "require(corrplot) # correlation plot\n",
    "require(magrittr) # function '%>%'\n",
    "library(dplyr) # function 'group by'\n",
    "require(GGally)"
   ]
  },
  {
   "cell_type": "code",
   "execution_count": 8,
   "metadata": {},
   "outputs": [
    {
     "name": "stdout",
     "output_type": "stream",
     "text": [
      "data frame :  2919 79"
     ]
    }
   ],
   "source": [
    "# 데이터 다운로드\n",
    "# 1.분석을 의미있게하기 위해 train set 과 test set 을 병합하여 분석한다. \n",
    "# 2.model 을 학습하기 전에 다시 원래대로 나눈다. \n",
    "\n",
    "train <- read.csv('C:/WORK/Kaggle/Project_House Price/HousePrice/Data/train.csv', stringsAsFactors = FALSE)\n",
    "test <- read.csv('C:/WORK/Kaggle/Project_House Price/HousePrice/Data/test.csv', stringsAsFactors = FALSE)\n",
    "\n",
    "# 1.combine the train set and test set (with rbind)\n",
    "# Id, SalePrice 삭제\n",
    "df.combined <- rbind(within(train, rm('Id','SalePrice')), within(test, rm('Id')))\n",
    "cat(\"data frame : \",dim(df.combined))"
   ]
  },
  {
   "cell_type": "code",
   "execution_count": 9,
   "metadata": {
    "scrolled": false
   },
   "outputs": [
    {
     "data": {
      "text/html": [
       "<table>\n",
       "<thead><tr><th scope=col>Id</th><th scope=col>MSSubClass</th><th scope=col>MSZoning</th><th scope=col>LotFrontage</th><th scope=col>LotArea</th><th scope=col>Street</th><th scope=col>Alley</th><th scope=col>LotShape</th><th scope=col>LandContour</th><th scope=col>Utilities</th><th scope=col>...</th><th scope=col>PoolArea</th><th scope=col>PoolQC</th><th scope=col>Fence</th><th scope=col>MiscFeature</th><th scope=col>MiscVal</th><th scope=col>MoSold</th><th scope=col>YrSold</th><th scope=col>SaleType</th><th scope=col>SaleCondition</th><th scope=col>SalePrice</th></tr></thead>\n",
       "<tbody>\n",
       "\t<tr><td>1      </td><td>60     </td><td>RL     </td><td>65     </td><td> 8450  </td><td>Pave   </td><td>NA     </td><td>Reg    </td><td>Lvl    </td><td>AllPub </td><td>...    </td><td>0      </td><td>NA     </td><td>NA     </td><td>NA     </td><td>  0    </td><td> 2     </td><td>2008   </td><td>WD     </td><td>Normal </td><td>208500 </td></tr>\n",
       "\t<tr><td>2      </td><td>20     </td><td>RL     </td><td>80     </td><td> 9600  </td><td>Pave   </td><td>NA     </td><td>Reg    </td><td>Lvl    </td><td>AllPub </td><td>...    </td><td>0      </td><td>NA     </td><td>NA     </td><td>NA     </td><td>  0    </td><td> 5     </td><td>2007   </td><td>WD     </td><td>Normal </td><td>181500 </td></tr>\n",
       "\t<tr><td>3      </td><td>60     </td><td>RL     </td><td>68     </td><td>11250  </td><td>Pave   </td><td>NA     </td><td>IR1    </td><td>Lvl    </td><td>AllPub </td><td>...    </td><td>0      </td><td>NA     </td><td>NA     </td><td>NA     </td><td>  0    </td><td> 9     </td><td>2008   </td><td>WD     </td><td>Normal </td><td>223500 </td></tr>\n",
       "\t<tr><td>4      </td><td>70     </td><td>RL     </td><td>60     </td><td> 9550  </td><td>Pave   </td><td>NA     </td><td>IR1    </td><td>Lvl    </td><td>AllPub </td><td>...    </td><td>0      </td><td>NA     </td><td>NA     </td><td>NA     </td><td>  0    </td><td> 2     </td><td>2006   </td><td>WD     </td><td>Abnorml</td><td>140000 </td></tr>\n",
       "\t<tr><td>5      </td><td>60     </td><td>RL     </td><td>84     </td><td>14260  </td><td>Pave   </td><td>NA     </td><td>IR1    </td><td>Lvl    </td><td>AllPub </td><td>...    </td><td>0      </td><td>NA     </td><td>NA     </td><td>NA     </td><td>  0    </td><td>12     </td><td>2008   </td><td>WD     </td><td>Normal </td><td>250000 </td></tr>\n",
       "\t<tr><td>6      </td><td>50     </td><td>RL     </td><td>85     </td><td>14115  </td><td>Pave   </td><td>NA     </td><td>IR1    </td><td>Lvl    </td><td>AllPub </td><td>...    </td><td>0      </td><td>NA     </td><td>MnPrv  </td><td>Shed   </td><td>700    </td><td>10     </td><td>2009   </td><td>WD     </td><td>Normal </td><td>143000 </td></tr>\n",
       "</tbody>\n",
       "</table>\n"
      ],
      "text/latex": [
       "\\begin{tabular}{r|lllllllllllllllllllllllllllllllllllllllllllllllllllllllllllllllllllllllllllllllll}\n",
       " Id & MSSubClass & MSZoning & LotFrontage & LotArea & Street & Alley & LotShape & LandContour & Utilities & ... & PoolArea & PoolQC & Fence & MiscFeature & MiscVal & MoSold & YrSold & SaleType & SaleCondition & SalePrice\\\\\n",
       "\\hline\n",
       "\t 1       & 60      & RL      & 65      &  8450   & Pave    & NA      & Reg     & Lvl     & AllPub  & ...     & 0       & NA      & NA      & NA      &   0     &  2      & 2008    & WD      & Normal  & 208500 \\\\\n",
       "\t 2       & 20      & RL      & 80      &  9600   & Pave    & NA      & Reg     & Lvl     & AllPub  & ...     & 0       & NA      & NA      & NA      &   0     &  5      & 2007    & WD      & Normal  & 181500 \\\\\n",
       "\t 3       & 60      & RL      & 68      & 11250   & Pave    & NA      & IR1     & Lvl     & AllPub  & ...     & 0       & NA      & NA      & NA      &   0     &  9      & 2008    & WD      & Normal  & 223500 \\\\\n",
       "\t 4       & 70      & RL      & 60      &  9550   & Pave    & NA      & IR1     & Lvl     & AllPub  & ...     & 0       & NA      & NA      & NA      &   0     &  2      & 2006    & WD      & Abnorml & 140000 \\\\\n",
       "\t 5       & 60      & RL      & 84      & 14260   & Pave    & NA      & IR1     & Lvl     & AllPub  & ...     & 0       & NA      & NA      & NA      &   0     & 12      & 2008    & WD      & Normal  & 250000 \\\\\n",
       "\t 6       & 50      & RL      & 85      & 14115   & Pave    & NA      & IR1     & Lvl     & AllPub  & ...     & 0       & NA      & MnPrv   & Shed    & 700     & 10      & 2009    & WD      & Normal  & 143000 \\\\\n",
       "\\end{tabular}\n"
      ],
      "text/markdown": [
       "\n",
       "Id | MSSubClass | MSZoning | LotFrontage | LotArea | Street | Alley | LotShape | LandContour | Utilities | ... | PoolArea | PoolQC | Fence | MiscFeature | MiscVal | MoSold | YrSold | SaleType | SaleCondition | SalePrice | \n",
       "|---|---|---|---|---|---|\n",
       "| 1       | 60      | RL      | 65      |  8450   | Pave    | NA      | Reg     | Lvl     | AllPub  | ...     | 0       | NA      | NA      | NA      |   0     |  2      | 2008    | WD      | Normal  | 208500  | \n",
       "| 2       | 20      | RL      | 80      |  9600   | Pave    | NA      | Reg     | Lvl     | AllPub  | ...     | 0       | NA      | NA      | NA      |   0     |  5      | 2007    | WD      | Normal  | 181500  | \n",
       "| 3       | 60      | RL      | 68      | 11250   | Pave    | NA      | IR1     | Lvl     | AllPub  | ...     | 0       | NA      | NA      | NA      |   0     |  9      | 2008    | WD      | Normal  | 223500  | \n",
       "| 4       | 70      | RL      | 60      |  9550   | Pave    | NA      | IR1     | Lvl     | AllPub  | ...     | 0       | NA      | NA      | NA      |   0     |  2      | 2006    | WD      | Abnorml | 140000  | \n",
       "| 5       | 60      | RL      | 84      | 14260   | Pave    | NA      | IR1     | Lvl     | AllPub  | ...     | 0       | NA      | NA      | NA      |   0     | 12      | 2008    | WD      | Normal  | 250000  | \n",
       "| 6       | 50      | RL      | 85      | 14115   | Pave    | NA      | IR1     | Lvl     | AllPub  | ...     | 0       | NA      | MnPrv   | Shed    | 700     | 10      | 2009    | WD      | Normal  | 143000  | \n",
       "\n",
       "\n"
      ],
      "text/plain": [
       "  Id MSSubClass MSZoning LotFrontage LotArea Street Alley LotShape LandContour\n",
       "1 1  60         RL       65           8450   Pave   NA    Reg      Lvl        \n",
       "2 2  20         RL       80           9600   Pave   NA    Reg      Lvl        \n",
       "3 3  60         RL       68          11250   Pave   NA    IR1      Lvl        \n",
       "4 4  70         RL       60           9550   Pave   NA    IR1      Lvl        \n",
       "5 5  60         RL       84          14260   Pave   NA    IR1      Lvl        \n",
       "6 6  50         RL       85          14115   Pave   NA    IR1      Lvl        \n",
       "  Utilities ... PoolArea PoolQC Fence MiscFeature MiscVal MoSold YrSold\n",
       "1 AllPub    ... 0        NA     NA    NA            0      2     2008  \n",
       "2 AllPub    ... 0        NA     NA    NA            0      5     2007  \n",
       "3 AllPub    ... 0        NA     NA    NA            0      9     2008  \n",
       "4 AllPub    ... 0        NA     NA    NA            0      2     2006  \n",
       "5 AllPub    ... 0        NA     NA    NA            0     12     2008  \n",
       "6 AllPub    ... 0        NA     MnPrv Shed        700     10     2009  \n",
       "  SaleType SaleCondition SalePrice\n",
       "1 WD       Normal        208500   \n",
       "2 WD       Normal        181500   \n",
       "3 WD       Normal        223500   \n",
       "4 WD       Abnorml       140000   \n",
       "5 WD       Normal        250000   \n",
       "6 WD       Normal        143000   "
      ]
     },
     "metadata": {},
     "output_type": "display_data"
    }
   ],
   "source": [
    "head(train)"
   ]
  },
  {
   "cell_type": "markdown",
   "metadata": {},
   "source": [
    "- # 데이터 전처리"
   ]
  },
  {
   "cell_type": "code",
   "execution_count": 10,
   "metadata": {},
   "outputs": [
    {
     "data": {
      "text/html": [
       "<dl class=dl-horizontal>\n",
       "\t<dt>PoolQC</dt>\n",
       "\t\t<dd>2909</dd>\n",
       "\t<dt>MiscFeature</dt>\n",
       "\t\t<dd>2814</dd>\n",
       "\t<dt>Alley</dt>\n",
       "\t\t<dd>2721</dd>\n",
       "\t<dt>Fence</dt>\n",
       "\t\t<dd>2348</dd>\n",
       "\t<dt>FireplaceQu</dt>\n",
       "\t\t<dd>1420</dd>\n",
       "\t<dt>LotFrontage</dt>\n",
       "\t\t<dd>486</dd>\n",
       "\t<dt>GarageYrBlt</dt>\n",
       "\t\t<dd>159</dd>\n",
       "\t<dt>GarageFinish</dt>\n",
       "\t\t<dd>159</dd>\n",
       "\t<dt>GarageQual</dt>\n",
       "\t\t<dd>159</dd>\n",
       "\t<dt>GarageCond</dt>\n",
       "\t\t<dd>159</dd>\n",
       "\t<dt>GarageType</dt>\n",
       "\t\t<dd>157</dd>\n",
       "\t<dt>BsmtCond</dt>\n",
       "\t\t<dd>82</dd>\n",
       "\t<dt>BsmtExposure</dt>\n",
       "\t\t<dd>82</dd>\n",
       "\t<dt>BsmtQual</dt>\n",
       "\t\t<dd>81</dd>\n",
       "\t<dt>BsmtFinType2</dt>\n",
       "\t\t<dd>80</dd>\n",
       "\t<dt>BsmtFinType1</dt>\n",
       "\t\t<dd>79</dd>\n",
       "\t<dt>MasVnrType</dt>\n",
       "\t\t<dd>24</dd>\n",
       "\t<dt>MasVnrArea</dt>\n",
       "\t\t<dd>23</dd>\n",
       "\t<dt>MSZoning</dt>\n",
       "\t\t<dd>4</dd>\n",
       "\t<dt>Utilities</dt>\n",
       "\t\t<dd>2</dd>\n",
       "\t<dt>BsmtFullBath</dt>\n",
       "\t\t<dd>2</dd>\n",
       "\t<dt>BsmtHalfBath</dt>\n",
       "\t\t<dd>2</dd>\n",
       "\t<dt>Functional</dt>\n",
       "\t\t<dd>2</dd>\n",
       "\t<dt>Exterior1st</dt>\n",
       "\t\t<dd>1</dd>\n",
       "\t<dt>Exterior2nd</dt>\n",
       "\t\t<dd>1</dd>\n",
       "\t<dt>BsmtFinSF1</dt>\n",
       "\t\t<dd>1</dd>\n",
       "\t<dt>BsmtFinSF2</dt>\n",
       "\t\t<dd>1</dd>\n",
       "\t<dt>BsmtUnfSF</dt>\n",
       "\t\t<dd>1</dd>\n",
       "\t<dt>TotalBsmtSF</dt>\n",
       "\t\t<dd>1</dd>\n",
       "\t<dt>Electrical</dt>\n",
       "\t\t<dd>1</dd>\n",
       "\t<dt>KitchenQual</dt>\n",
       "\t\t<dd>1</dd>\n",
       "\t<dt>GarageCars</dt>\n",
       "\t\t<dd>1</dd>\n",
       "\t<dt>GarageArea</dt>\n",
       "\t\t<dd>1</dd>\n",
       "\t<dt>SaleType</dt>\n",
       "\t\t<dd>1</dd>\n",
       "</dl>\n"
      ],
      "text/latex": [
       "\\begin{description*}\n",
       "\\item[PoolQC] 2909\n",
       "\\item[MiscFeature] 2814\n",
       "\\item[Alley] 2721\n",
       "\\item[Fence] 2348\n",
       "\\item[FireplaceQu] 1420\n",
       "\\item[LotFrontage] 486\n",
       "\\item[GarageYrBlt] 159\n",
       "\\item[GarageFinish] 159\n",
       "\\item[GarageQual] 159\n",
       "\\item[GarageCond] 159\n",
       "\\item[GarageType] 157\n",
       "\\item[BsmtCond] 82\n",
       "\\item[BsmtExposure] 82\n",
       "\\item[BsmtQual] 81\n",
       "\\item[BsmtFinType2] 80\n",
       "\\item[BsmtFinType1] 79\n",
       "\\item[MasVnrType] 24\n",
       "\\item[MasVnrArea] 23\n",
       "\\item[MSZoning] 4\n",
       "\\item[Utilities] 2\n",
       "\\item[BsmtFullBath] 2\n",
       "\\item[BsmtHalfBath] 2\n",
       "\\item[Functional] 2\n",
       "\\item[Exterior1st] 1\n",
       "\\item[Exterior2nd] 1\n",
       "\\item[BsmtFinSF1] 1\n",
       "\\item[BsmtFinSF2] 1\n",
       "\\item[BsmtUnfSF] 1\n",
       "\\item[TotalBsmtSF] 1\n",
       "\\item[Electrical] 1\n",
       "\\item[KitchenQual] 1\n",
       "\\item[GarageCars] 1\n",
       "\\item[GarageArea] 1\n",
       "\\item[SaleType] 1\n",
       "\\end{description*}\n"
      ],
      "text/markdown": [
       "PoolQC\n",
       ":   2909MiscFeature\n",
       ":   2814Alley\n",
       ":   2721Fence\n",
       ":   2348FireplaceQu\n",
       ":   1420LotFrontage\n",
       ":   486GarageYrBlt\n",
       ":   159GarageFinish\n",
       ":   159GarageQual\n",
       ":   159GarageCond\n",
       ":   159GarageType\n",
       ":   157BsmtCond\n",
       ":   82BsmtExposure\n",
       ":   82BsmtQual\n",
       ":   81BsmtFinType2\n",
       ":   80BsmtFinType1\n",
       ":   79MasVnrType\n",
       ":   24MasVnrArea\n",
       ":   23MSZoning\n",
       ":   4Utilities\n",
       ":   2BsmtFullBath\n",
       ":   2BsmtHalfBath\n",
       ":   2Functional\n",
       ":   2Exterior1st\n",
       ":   1Exterior2nd\n",
       ":   1BsmtFinSF1\n",
       ":   1BsmtFinSF2\n",
       ":   1BsmtUnfSF\n",
       ":   1TotalBsmtSF\n",
       ":   1Electrical\n",
       ":   1KitchenQual\n",
       ":   1GarageCars\n",
       ":   1GarageArea\n",
       ":   1SaleType\n",
       ":   1\n",
       "\n"
      ],
      "text/plain": [
       "      PoolQC  MiscFeature        Alley        Fence  FireplaceQu  LotFrontage \n",
       "        2909         2814         2721         2348         1420          486 \n",
       " GarageYrBlt GarageFinish   GarageQual   GarageCond   GarageType     BsmtCond \n",
       "         159          159          159          159          157           82 \n",
       "BsmtExposure     BsmtQual BsmtFinType2 BsmtFinType1   MasVnrType   MasVnrArea \n",
       "          82           81           80           79           24           23 \n",
       "    MSZoning    Utilities BsmtFullBath BsmtHalfBath   Functional  Exterior1st \n",
       "           4            2            2            2            2            1 \n",
       " Exterior2nd   BsmtFinSF1   BsmtFinSF2    BsmtUnfSF  TotalBsmtSF   Electrical \n",
       "           1            1            1            1            1            1 \n",
       " KitchenQual   GarageCars   GarageArea     SaleType \n",
       "           1            1            1            1 "
      ]
     },
     "metadata": {},
     "output_type": "display_data"
    },
    {
     "data": {
      "text/html": [
       "'There are 34 columns with missing values'"
      ],
      "text/latex": [
       "'There are 34 columns with missing values'"
      ],
      "text/markdown": [
       "'There are 34 columns with missing values'"
      ],
      "text/plain": [
       "[1] \"There are 34 columns with missing values\""
      ]
     },
     "metadata": {},
     "output_type": "display_data"
    }
   ],
   "source": [
    "# 결측치를 가진 feature 확인 \n",
    "# 데이터 셋에서 na가 있는 컬럼이 0이상일 조건을 만족하는 변수 => na.cols\n",
    "na.cols <- which(colSums(is.na(df.combined)) >0)\n",
    "\n",
    "# 데이터 셋의 na.col 중에서 na의 개수를 세서 내림차순으로 벡터화.\n",
    "sort(colSums(sapply(df.combined[na.cols], is.na)), decreasing = TRUE)\n",
    "\n",
    "# 총 na가 포함된 col 수\n",
    "paste('There are', length(na.cols), 'columns with missing values')"
   ]
  },
  {
   "cell_type": "code",
   "execution_count": 11,
   "metadata": {},
   "outputs": [],
   "source": [
    "# categoric 데이터를 시각화하는 plot\n",
    "plot.categoric <- function(cols, df){\n",
    "        for(col in cols){\n",
    "                order.cols <- names(sort(table(df.combined[,col]), decreasing =TRUE))\n",
    "                \n",
    "                num.plot <- qplot(df[,col]) +\n",
    "                        geom_bar(fill = 'cornflowerblue') +\n",
    "                        geom_text(aes(label = ..count..), stat ='count', vjust=-0.5) +\n",
    "                        theme_minimal() +\n",
    "                        scale_y_continuous(limits = c(0, max(table(df[,col]))*1.1)) +\n",
    "                        scale_x_discrete(limits = order.cols) +\n",
    "                        xlab(col) +\n",
    "                        theme(axis.text.x = element_text(angle = 30, size=12))\n",
    "                \n",
    "                 print(num.plot)\n",
    "        }\n",
    "}"
   ]
  },
  {
   "cell_type": "markdown",
   "metadata": {},
   "source": [
    "- ## PoolQC : Pool Quality"
   ]
  },
  {
   "cell_type": "code",
   "execution_count": 12,
   "metadata": {},
   "outputs": [
    {
     "name": "stderr",
     "output_type": "stream",
     "text": [
      "Warning message:\n",
      "\"Removed 2909 rows containing non-finite values (stat_count).\"Warning message:\n",
      "\"Removed 2909 rows containing non-finite values (stat_count).\"Warning message:\n",
      "\"Removed 2909 rows containing non-finite values (stat_count).\""
     ]
    },
    {
     "data": {
      "image/png": "[encoded data removed]",
      "text/plain": [
       "plot without title"
      ]
     },
     "metadata": {},
     "output_type": "display_data"
    }
   ],
   "source": [
    "plot.categoric('PoolQC', df.combined)"
   ]
  },
  {
   "cell_type": "code",
   "execution_count": 13,
   "metadata": {},
   "outputs": [
    {
     "data": {
      "text/html": [
       "<table>\n",
       "<thead><tr><th></th><th scope=col>PoolQC</th><th scope=col>PoolArea</th></tr></thead>\n",
       "<tbody>\n",
       "\t<tr><th scope=row>2421</th><td>NA </td><td>368</td></tr>\n",
       "\t<tr><th scope=row>2504</th><td>NA </td><td>444</td></tr>\n",
       "\t<tr><th scope=row>2600</th><td>NA </td><td>561</td></tr>\n",
       "</tbody>\n",
       "</table>\n"
      ],
      "text/latex": [
       "\\begin{tabular}{r|ll}\n",
       "  & PoolQC & PoolArea\\\\\n",
       "\\hline\n",
       "\t2421 & NA  & 368\\\\\n",
       "\t2504 & NA  & 444\\\\\n",
       "\t2600 & NA  & 561\\\\\n",
       "\\end{tabular}\n"
      ],
      "text/markdown": [
       "\n",
       "| <!--/--> | PoolQC | PoolArea | \n",
       "|---|---|---|\n",
       "| 2421 | NA  | 368 | \n",
       "| 2504 | NA  | 444 | \n",
       "| 2600 | NA  | 561 | \n",
       "\n",
       "\n"
      ],
      "text/plain": [
       "     PoolQC PoolArea\n",
       "2421 NA     368     \n",
       "2504 NA     444     \n",
       "2600 NA     561     "
      ]
     },
     "metadata": {},
     "output_type": "display_data"
    },
    {
     "data": {
      "text/html": [
       "<table>\n",
       "<thead><tr><th scope=col>PoolQC</th><th scope=col>mean</th><th scope=col>counts</th></tr></thead>\n",
       "<tbody>\n",
       "\t<tr><td>Ex         </td><td>359.7500000</td><td>   4       </td></tr>\n",
       "\t<tr><td>Fa         </td><td>583.5000000</td><td>   2       </td></tr>\n",
       "\t<tr><td>Gd         </td><td>648.5000000</td><td>   4       </td></tr>\n",
       "\t<tr><td>NA         </td><td>  0.4719835</td><td>2909       </td></tr>\n",
       "</tbody>\n",
       "</table>\n"
      ],
      "text/latex": [
       "\\begin{tabular}{r|lll}\n",
       " PoolQC & mean & counts\\\\\n",
       "\\hline\n",
       "\t Ex          & 359.7500000 &    4       \\\\\n",
       "\t Fa          & 583.5000000 &    2       \\\\\n",
       "\t Gd          & 648.5000000 &    4       \\\\\n",
       "\t NA          &   0.4719835 & 2909       \\\\\n",
       "\\end{tabular}\n"
      ],
      "text/markdown": [
       "\n",
       "PoolQC | mean | counts | \n",
       "|---|---|---|---|\n",
       "| Ex          | 359.7500000 |    4        | \n",
       "| Fa          | 583.5000000 |    2        | \n",
       "| Gd          | 648.5000000 |    4        | \n",
       "| NA          |   0.4719835 | 2909        | \n",
       "\n",
       "\n"
      ],
      "text/plain": [
       "  PoolQC mean        counts\n",
       "1 Ex     359.7500000    4  \n",
       "2 Fa     583.5000000    2  \n",
       "3 Gd     648.5000000    4  \n",
       "4 NA       0.4719835 2909  "
      ]
     },
     "metadata": {},
     "output_type": "display_data"
    }
   ],
   "source": [
    "#PoolArea >0 인 것 중에서 PoolQC 가 na 인것 확인\n",
    "df.combined[(df.combined$PoolArea >0) & is.na(df.combined$PoolQC), c('PoolQC', 'PoolArea')]\n",
    "\n",
    "# 위의 조건을 만족하는 것(NA)의 결측치 처리과정 \n",
    "# PoolArea 와 비교하여 대체. \n",
    "df.combined[,c('PoolQC', 'PoolArea')] %>% \n",
    "        group_by(PoolQC) %>%\n",
    "        summarise(mean = mean(PoolArea), counts = n())\n",
    "df.combined[2421,'PoolQC'] = 'Ex'\n",
    "df.combined[2504,'PoolQC'] = 'Ex'\n",
    "df.combined[2600,'PoolQC'] = 'Fa'\n",
    "df.combined$PoolQC[is.na(df.combined$PoolQC)] = 'None'"
   ]
  },
  {
   "cell_type": "markdown",
   "metadata": {},
   "source": [
    "- ## Garage : garage(차고) 관련 변수 \n",
    "    - GarageYrBlt's NA: 159"
   ]
  },
  {
   "cell_type": "code",
   "execution_count": 14,
   "metadata": {},
   "outputs": [
    {
     "data": {
      "text/html": [
       "2216"
      ],
      "text/latex": [
       "2216"
      ],
      "text/markdown": [
       "2216"
      ],
      "text/plain": [
       "[1] 2216"
      ]
     },
     "metadata": {},
     "output_type": "display_data"
    }
   ],
   "source": [
    "# 상식적으로 집이 지어진 날과 차고가 지어진 날은 같을 것이다.\n",
    "length(which(df.combined$GarageYrBlt == df.combined$YearBuilt))\n",
    "\n",
    "# GarageBYrBlt 의 결측값을 YearBuilt 와 비교하여 채운다. \n",
    "# GarageBYrBlt 의 na 값을 idx로 딴 후 YearBuilt 와 idx가 같은 값을 넣어준다.\n",
    "idx <- which(is.na(df.combined$GarageYrBlt))\n",
    "df.combined[idx, 'GarageYrBlt'] <- df.combined[idx, 'YearBuilt']"
   ]
  },
  {
   "cell_type": "code",
   "execution_count": 15,
   "metadata": {
    "scrolled": true
   },
   "outputs": [
    {
     "data": {
      "text/html": [
       "<table>\n",
       "<thead><tr><th></th><th scope=col>GarageArea</th><th scope=col>GarageCars</th><th scope=col>GarageQual</th><th scope=col>GarageFinish</th><th scope=col>GarageCond</th><th scope=col>GarageType</th></tr></thead>\n",
       "<tbody>\n",
       "\t<tr><th scope=row>40</th><td>0 </td><td>0 </td><td>NA</td><td>NA</td><td>NA</td><td>NA</td></tr>\n",
       "\t<tr><th scope=row>49</th><td>0 </td><td>0 </td><td>NA</td><td>NA</td><td>NA</td><td>NA</td></tr>\n",
       "\t<tr><th scope=row>79</th><td>0 </td><td>0 </td><td>NA</td><td>NA</td><td>NA</td><td>NA</td></tr>\n",
       "\t<tr><th scope=row>89</th><td>0 </td><td>0 </td><td>NA</td><td>NA</td><td>NA</td><td>NA</td></tr>\n",
       "\t<tr><th scope=row>90</th><td>0 </td><td>0 </td><td>NA</td><td>NA</td><td>NA</td><td>NA</td></tr>\n",
       "\t<tr><th scope=row>100</th><td>0 </td><td>0 </td><td>NA</td><td>NA</td><td>NA</td><td>NA</td></tr>\n",
       "\t<tr><th scope=row>109</th><td>0 </td><td>0 </td><td>NA</td><td>NA</td><td>NA</td><td>NA</td></tr>\n",
       "\t<tr><th scope=row>126</th><td>0 </td><td>0 </td><td>NA</td><td>NA</td><td>NA</td><td>NA</td></tr>\n",
       "\t<tr><th scope=row>128</th><td>0 </td><td>0 </td><td>NA</td><td>NA</td><td>NA</td><td>NA</td></tr>\n",
       "\t<tr><th scope=row>141</th><td>0 </td><td>0 </td><td>NA</td><td>NA</td><td>NA</td><td>NA</td></tr>\n",
       "\t<tr><th scope=row>149</th><td>0 </td><td>0 </td><td>NA</td><td>NA</td><td>NA</td><td>NA</td></tr>\n",
       "\t<tr><th scope=row>156</th><td>0 </td><td>0 </td><td>NA</td><td>NA</td><td>NA</td><td>NA</td></tr>\n",
       "\t<tr><th scope=row>164</th><td>0 </td><td>0 </td><td>NA</td><td>NA</td><td>NA</td><td>NA</td></tr>\n",
       "\t<tr><th scope=row>166</th><td>0 </td><td>0 </td><td>NA</td><td>NA</td><td>NA</td><td>NA</td></tr>\n",
       "\t<tr><th scope=row>199</th><td>0 </td><td>0 </td><td>NA</td><td>NA</td><td>NA</td><td>NA</td></tr>\n",
       "\t<tr><th scope=row>211</th><td>0 </td><td>0 </td><td>NA</td><td>NA</td><td>NA</td><td>NA</td></tr>\n",
       "\t<tr><th scope=row>242</th><td>0 </td><td>0 </td><td>NA</td><td>NA</td><td>NA</td><td>NA</td></tr>\n",
       "\t<tr><th scope=row>251</th><td>0 </td><td>0 </td><td>NA</td><td>NA</td><td>NA</td><td>NA</td></tr>\n",
       "\t<tr><th scope=row>288</th><td>0 </td><td>0 </td><td>NA</td><td>NA</td><td>NA</td><td>NA</td></tr>\n",
       "\t<tr><th scope=row>292</th><td>0 </td><td>0 </td><td>NA</td><td>NA</td><td>NA</td><td>NA</td></tr>\n",
       "\t<tr><th scope=row>308</th><td>0 </td><td>0 </td><td>NA</td><td>NA</td><td>NA</td><td>NA</td></tr>\n",
       "\t<tr><th scope=row>376</th><td>0 </td><td>0 </td><td>NA</td><td>NA</td><td>NA</td><td>NA</td></tr>\n",
       "\t<tr><th scope=row>387</th><td>0 </td><td>0 </td><td>NA</td><td>NA</td><td>NA</td><td>NA</td></tr>\n",
       "\t<tr><th scope=row>394</th><td>0 </td><td>0 </td><td>NA</td><td>NA</td><td>NA</td><td>NA</td></tr>\n",
       "\t<tr><th scope=row>432</th><td>0 </td><td>0 </td><td>NA</td><td>NA</td><td>NA</td><td>NA</td></tr>\n",
       "\t<tr><th scope=row>435</th><td>0 </td><td>0 </td><td>NA</td><td>NA</td><td>NA</td><td>NA</td></tr>\n",
       "\t<tr><th scope=row>442</th><td>0 </td><td>0 </td><td>NA</td><td>NA</td><td>NA</td><td>NA</td></tr>\n",
       "\t<tr><th scope=row>465</th><td>0 </td><td>0 </td><td>NA</td><td>NA</td><td>NA</td><td>NA</td></tr>\n",
       "\t<tr><th scope=row>496</th><td>0 </td><td>0 </td><td>NA</td><td>NA</td><td>NA</td><td>NA</td></tr>\n",
       "\t<tr><th scope=row>521</th><td>0 </td><td>0 </td><td>NA</td><td>NA</td><td>NA</td><td>NA</td></tr>\n",
       "\t<tr><th scope=row>...</th><td>...</td><td>...</td><td>...</td><td>...</td><td>...</td><td>...</td></tr>\n",
       "\t<tr><th scope=row>2400</th><td> 0    </td><td> 0    </td><td>NA    </td><td>NA    </td><td>NA    </td><td>NA    </td></tr>\n",
       "\t<tr><th scope=row>2423</th><td> 0    </td><td> 0    </td><td>NA    </td><td>NA    </td><td>NA    </td><td>NA    </td></tr>\n",
       "\t<tr><th scope=row>2427</th><td> 0    </td><td> 0    </td><td>NA    </td><td>NA    </td><td>NA    </td><td>NA    </td></tr>\n",
       "\t<tr><th scope=row>2553</th><td> 0    </td><td> 0    </td><td>NA    </td><td>NA    </td><td>NA    </td><td>NA    </td></tr>\n",
       "\t<tr><th scope=row>2554</th><td> 0    </td><td> 0    </td><td>NA    </td><td>NA    </td><td>NA    </td><td>NA    </td></tr>\n",
       "\t<tr><th scope=row>2558</th><td> 0    </td><td> 0    </td><td>NA    </td><td>NA    </td><td>NA    </td><td>NA    </td></tr>\n",
       "\t<tr><th scope=row>2576</th><td> 0    </td><td> 0    </td><td>NA    </td><td>NA    </td><td>NA    </td><td>NA    </td></tr>\n",
       "\t<tr><th scope=row>2577</th><td>NA    </td><td>NA    </td><td>NA    </td><td>NA    </td><td>NA    </td><td>Detchd</td></tr>\n",
       "\t<tr><th scope=row>2580</th><td> 0    </td><td> 0    </td><td>NA    </td><td>NA    </td><td>NA    </td><td>NA    </td></tr>\n",
       "\t<tr><th scope=row>2604</th><td> 0    </td><td> 0    </td><td>NA    </td><td>NA    </td><td>NA    </td><td>NA    </td></tr>\n",
       "\t<tr><th scope=row>2610</th><td> 0    </td><td> 0    </td><td>NA    </td><td>NA    </td><td>NA    </td><td>NA    </td></tr>\n",
       "\t<tr><th scope=row>2692</th><td> 0    </td><td> 0    </td><td>NA    </td><td>NA    </td><td>NA    </td><td>NA    </td></tr>\n",
       "\t<tr><th scope=row>2694</th><td> 0    </td><td> 0    </td><td>NA    </td><td>NA    </td><td>NA    </td><td>NA    </td></tr>\n",
       "\t<tr><th scope=row>2709</th><td> 0    </td><td> 0    </td><td>NA    </td><td>NA    </td><td>NA    </td><td>NA    </td></tr>\n",
       "\t<tr><th scope=row>2768</th><td> 0    </td><td> 0    </td><td>NA    </td><td>NA    </td><td>NA    </td><td>NA    </td></tr>\n",
       "\t<tr><th scope=row>2772</th><td> 0    </td><td> 0    </td><td>NA    </td><td>NA    </td><td>NA    </td><td>NA    </td></tr>\n",
       "\t<tr><th scope=row>2790</th><td> 0    </td><td> 0    </td><td>NA    </td><td>NA    </td><td>NA    </td><td>NA    </td></tr>\n",
       "\t<tr><th scope=row>2792</th><td> 0    </td><td> 0    </td><td>NA    </td><td>NA    </td><td>NA    </td><td>NA    </td></tr>\n",
       "\t<tr><th scope=row>2800</th><td> 0    </td><td> 0    </td><td>NA    </td><td>NA    </td><td>NA    </td><td>NA    </td></tr>\n",
       "\t<tr><th scope=row>2860</th><td> 0    </td><td> 0    </td><td>NA    </td><td>NA    </td><td>NA    </td><td>NA    </td></tr>\n",
       "\t<tr><th scope=row>2863</th><td> 0    </td><td> 0    </td><td>NA    </td><td>NA    </td><td>NA    </td><td>NA    </td></tr>\n",
       "\t<tr><th scope=row>2871</th><td> 0    </td><td> 0    </td><td>NA    </td><td>NA    </td><td>NA    </td><td>NA    </td></tr>\n",
       "\t<tr><th scope=row>2889</th><td> 0    </td><td> 0    </td><td>NA    </td><td>NA    </td><td>NA    </td><td>NA    </td></tr>\n",
       "\t<tr><th scope=row>2892</th><td> 0    </td><td> 0    </td><td>NA    </td><td>NA    </td><td>NA    </td><td>NA    </td></tr>\n",
       "\t<tr><th scope=row>2893</th><td> 0    </td><td> 0    </td><td>NA    </td><td>NA    </td><td>NA    </td><td>NA    </td></tr>\n",
       "\t<tr><th scope=row>2894</th><td> 0    </td><td> 0    </td><td>NA    </td><td>NA    </td><td>NA    </td><td>NA    </td></tr>\n",
       "\t<tr><th scope=row>2910</th><td> 0    </td><td> 0    </td><td>NA    </td><td>NA    </td><td>NA    </td><td>NA    </td></tr>\n",
       "\t<tr><th scope=row>2914</th><td> 0    </td><td> 0    </td><td>NA    </td><td>NA    </td><td>NA    </td><td>NA    </td></tr>\n",
       "\t<tr><th scope=row>2915</th><td> 0    </td><td> 0    </td><td>NA    </td><td>NA    </td><td>NA    </td><td>NA    </td></tr>\n",
       "\t<tr><th scope=row>2918</th><td> 0    </td><td> 0    </td><td>NA    </td><td>NA    </td><td>NA    </td><td>NA    </td></tr>\n",
       "</tbody>\n",
       "</table>\n"
      ],
      "text/latex": [
       "\\begin{tabular}{r|llllll}\n",
       "  & GarageArea & GarageCars & GarageQual & GarageFinish & GarageCond & GarageType\\\\\n",
       "\\hline\n",
       "\t40 & 0  & 0  & NA & NA & NA & NA\\\\\n",
       "\t49 & 0  & 0  & NA & NA & NA & NA\\\\\n",
       "\t79 & 0  & 0  & NA & NA & NA & NA\\\\\n",
       "\t89 & 0  & 0  & NA & NA & NA & NA\\\\\n",
       "\t90 & 0  & 0  & NA & NA & NA & NA\\\\\n",
       "\t100 & 0  & 0  & NA & NA & NA & NA\\\\\n",
       "\t109 & 0  & 0  & NA & NA & NA & NA\\\\\n",
       "\t126 & 0  & 0  & NA & NA & NA & NA\\\\\n",
       "\t128 & 0  & 0  & NA & NA & NA & NA\\\\\n",
       "\t141 & 0  & 0  & NA & NA & NA & NA\\\\\n",
       "\t149 & 0  & 0  & NA & NA & NA & NA\\\\\n",
       "\t156 & 0  & 0  & NA & NA & NA & NA\\\\\n",
       "\t164 & 0  & 0  & NA & NA & NA & NA\\\\\n",
       "\t166 & 0  & 0  & NA & NA & NA & NA\\\\\n",
       "\t199 & 0  & 0  & NA & NA & NA & NA\\\\\n",
       "\t211 & 0  & 0  & NA & NA & NA & NA\\\\\n",
       "\t242 & 0  & 0  & NA & NA & NA & NA\\\\\n",
       "\t251 & 0  & 0  & NA & NA & NA & NA\\\\\n",
       "\t288 & 0  & 0  & NA & NA & NA & NA\\\\\n",
       "\t292 & 0  & 0  & NA & NA & NA & NA\\\\\n",
       "\t308 & 0  & 0  & NA & NA & NA & NA\\\\\n",
       "\t376 & 0  & 0  & NA & NA & NA & NA\\\\\n",
       "\t387 & 0  & 0  & NA & NA & NA & NA\\\\\n",
       "\t394 & 0  & 0  & NA & NA & NA & NA\\\\\n",
       "\t432 & 0  & 0  & NA & NA & NA & NA\\\\\n",
       "\t435 & 0  & 0  & NA & NA & NA & NA\\\\\n",
       "\t442 & 0  & 0  & NA & NA & NA & NA\\\\\n",
       "\t465 & 0  & 0  & NA & NA & NA & NA\\\\\n",
       "\t496 & 0  & 0  & NA & NA & NA & NA\\\\\n",
       "\t521 & 0  & 0  & NA & NA & NA & NA\\\\\n",
       "\t... & ... & ... & ... & ... & ... & ...\\\\\n",
       "\t2400 &  0     &  0     & NA     & NA     & NA     & NA    \\\\\n",
       "\t2423 &  0     &  0     & NA     & NA     & NA     & NA    \\\\\n",
       "\t2427 &  0     &  0     & NA     & NA     & NA     & NA    \\\\\n",
       "\t2553 &  0     &  0     & NA     & NA     & NA     & NA    \\\\\n",
       "\t2554 &  0     &  0     & NA     & NA     & NA     & NA    \\\\\n",
       "\t2558 &  0     &  0     & NA     & NA     & NA     & NA    \\\\\n",
       "\t2576 &  0     &  0     & NA     & NA     & NA     & NA    \\\\\n",
       "\t2577 & NA     & NA     & NA     & NA     & NA     & Detchd\\\\\n",
       "\t2580 &  0     &  0     & NA     & NA     & NA     & NA    \\\\\n",
       "\t2604 &  0     &  0     & NA     & NA     & NA     & NA    \\\\\n",
       "\t2610 &  0     &  0     & NA     & NA     & NA     & NA    \\\\\n",
       "\t2692 &  0     &  0     & NA     & NA     & NA     & NA    \\\\\n",
       "\t2694 &  0     &  0     & NA     & NA     & NA     & NA    \\\\\n",
       "\t2709 &  0     &  0     & NA     & NA     & NA     & NA    \\\\\n",
       "\t2768 &  0     &  0     & NA     & NA     & NA     & NA    \\\\\n",
       "\t2772 &  0     &  0     & NA     & NA     & NA     & NA    \\\\\n",
       "\t2790 &  0     &  0     & NA     & NA     & NA     & NA    \\\\\n",
       "\t2792 &  0     &  0     & NA     & NA     & NA     & NA    \\\\\n",
       "\t2800 &  0     &  0     & NA     & NA     & NA     & NA    \\\\\n",
       "\t2860 &  0     &  0     & NA     & NA     & NA     & NA    \\\\\n",
       "\t2863 &  0     &  0     & NA     & NA     & NA     & NA    \\\\\n",
       "\t2871 &  0     &  0     & NA     & NA     & NA     & NA    \\\\\n",
       "\t2889 &  0     &  0     & NA     & NA     & NA     & NA    \\\\\n",
       "\t2892 &  0     &  0     & NA     & NA     & NA     & NA    \\\\\n",
       "\t2893 &  0     &  0     & NA     & NA     & NA     & NA    \\\\\n",
       "\t2894 &  0     &  0     & NA     & NA     & NA     & NA    \\\\\n",
       "\t2910 &  0     &  0     & NA     & NA     & NA     & NA    \\\\\n",
       "\t2914 &  0     &  0     & NA     & NA     & NA     & NA    \\\\\n",
       "\t2915 &  0     &  0     & NA     & NA     & NA     & NA    \\\\\n",
       "\t2918 &  0     &  0     & NA     & NA     & NA     & NA    \\\\\n",
       "\\end{tabular}\n"
      ],
      "text/markdown": [
       "\n",
       "| <!--/--> | GarageArea | GarageCars | GarageQual | GarageFinish | GarageCond | GarageType | \n",
       "|---|---|---|---|---|---|---|---|---|---|---|---|---|---|---|---|---|---|---|---|---|---|---|---|---|---|---|---|---|---|---|---|---|---|---|---|---|---|---|---|---|---|---|---|---|---|---|---|---|---|---|---|---|---|---|---|---|---|---|---|---|\n",
       "| 40 | 0  | 0  | NA | NA | NA | NA | \n",
       "| 49 | 0  | 0  | NA | NA | NA | NA | \n",
       "| 79 | 0  | 0  | NA | NA | NA | NA | \n",
       "| 89 | 0  | 0  | NA | NA | NA | NA | \n",
       "| 90 | 0  | 0  | NA | NA | NA | NA | \n",
       "| 100 | 0  | 0  | NA | NA | NA | NA | \n",
       "| 109 | 0  | 0  | NA | NA | NA | NA | \n",
       "| 126 | 0  | 0  | NA | NA | NA | NA | \n",
       "| 128 | 0  | 0  | NA | NA | NA | NA | \n",
       "| 141 | 0  | 0  | NA | NA | NA | NA | \n",
       "| 149 | 0  | 0  | NA | NA | NA | NA | \n",
       "| 156 | 0  | 0  | NA | NA | NA | NA | \n",
       "| 164 | 0  | 0  | NA | NA | NA | NA | \n",
       "| 166 | 0  | 0  | NA | NA | NA | NA | \n",
       "| 199 | 0  | 0  | NA | NA | NA | NA | \n",
       "| 211 | 0  | 0  | NA | NA | NA | NA | \n",
       "| 242 | 0  | 0  | NA | NA | NA | NA | \n",
       "| 251 | 0  | 0  | NA | NA | NA | NA | \n",
       "| 288 | 0  | 0  | NA | NA | NA | NA | \n",
       "| 292 | 0  | 0  | NA | NA | NA | NA | \n",
       "| 308 | 0  | 0  | NA | NA | NA | NA | \n",
       "| 376 | 0  | 0  | NA | NA | NA | NA | \n",
       "| 387 | 0  | 0  | NA | NA | NA | NA | \n",
       "| 394 | 0  | 0  | NA | NA | NA | NA | \n",
       "| 432 | 0  | 0  | NA | NA | NA | NA | \n",
       "| 435 | 0  | 0  | NA | NA | NA | NA | \n",
       "| 442 | 0  | 0  | NA | NA | NA | NA | \n",
       "| 465 | 0  | 0  | NA | NA | NA | NA | \n",
       "| 496 | 0  | 0  | NA | NA | NA | NA | \n",
       "| 521 | 0  | 0  | NA | NA | NA | NA | \n",
       "| ... | ... | ... | ... | ... | ... | ... | \n",
       "| 2400 |  0     |  0     | NA     | NA     | NA     | NA     | \n",
       "| 2423 |  0     |  0     | NA     | NA     | NA     | NA     | \n",
       "| 2427 |  0     |  0     | NA     | NA     | NA     | NA     | \n",
       "| 2553 |  0     |  0     | NA     | NA     | NA     | NA     | \n",
       "| 2554 |  0     |  0     | NA     | NA     | NA     | NA     | \n",
       "| 2558 |  0     |  0     | NA     | NA     | NA     | NA     | \n",
       "| 2576 |  0     |  0     | NA     | NA     | NA     | NA     | \n",
       "| 2577 | NA     | NA     | NA     | NA     | NA     | Detchd | \n",
       "| 2580 |  0     |  0     | NA     | NA     | NA     | NA     | \n",
       "| 2604 |  0     |  0     | NA     | NA     | NA     | NA     | \n",
       "| 2610 |  0     |  0     | NA     | NA     | NA     | NA     | \n",
       "| 2692 |  0     |  0     | NA     | NA     | NA     | NA     | \n",
       "| 2694 |  0     |  0     | NA     | NA     | NA     | NA     | \n",
       "| 2709 |  0     |  0     | NA     | NA     | NA     | NA     | \n",
       "| 2768 |  0     |  0     | NA     | NA     | NA     | NA     | \n",
       "| 2772 |  0     |  0     | NA     | NA     | NA     | NA     | \n",
       "| 2790 |  0     |  0     | NA     | NA     | NA     | NA     | \n",
       "| 2792 |  0     |  0     | NA     | NA     | NA     | NA     | \n",
       "| 2800 |  0     |  0     | NA     | NA     | NA     | NA     | \n",
       "| 2860 |  0     |  0     | NA     | NA     | NA     | NA     | \n",
       "| 2863 |  0     |  0     | NA     | NA     | NA     | NA     | \n",
       "| 2871 |  0     |  0     | NA     | NA     | NA     | NA     | \n",
       "| 2889 |  0     |  0     | NA     | NA     | NA     | NA     | \n",
       "| 2892 |  0     |  0     | NA     | NA     | NA     | NA     | \n",
       "| 2893 |  0     |  0     | NA     | NA     | NA     | NA     | \n",
       "| 2894 |  0     |  0     | NA     | NA     | NA     | NA     | \n",
       "| 2910 |  0     |  0     | NA     | NA     | NA     | NA     | \n",
       "| 2914 |  0     |  0     | NA     | NA     | NA     | NA     | \n",
       "| 2915 |  0     |  0     | NA     | NA     | NA     | NA     | \n",
       "| 2918 |  0     |  0     | NA     | NA     | NA     | NA     | \n",
       "\n",
       "\n"
      ],
      "text/plain": [
       "     GarageArea GarageCars GarageQual GarageFinish GarageCond GarageType\n",
       "40   0          0          NA         NA           NA         NA        \n",
       "49   0          0          NA         NA           NA         NA        \n",
       "79   0          0          NA         NA           NA         NA        \n",
       "89   0          0          NA         NA           NA         NA        \n",
       "90   0          0          NA         NA           NA         NA        \n",
       "100  0          0          NA         NA           NA         NA        \n",
       "109  0          0          NA         NA           NA         NA        \n",
       "126  0          0          NA         NA           NA         NA        \n",
       "128  0          0          NA         NA           NA         NA        \n",
       "141  0          0          NA         NA           NA         NA        \n",
       "149  0          0          NA         NA           NA         NA        \n",
       "156  0          0          NA         NA           NA         NA        \n",
       "164  0          0          NA         NA           NA         NA        \n",
       "166  0          0          NA         NA           NA         NA        \n",
       "199  0          0          NA         NA           NA         NA        \n",
       "211  0          0          NA         NA           NA         NA        \n",
       "242  0          0          NA         NA           NA         NA        \n",
       "251  0          0          NA         NA           NA         NA        \n",
       "288  0          0          NA         NA           NA         NA        \n",
       "292  0          0          NA         NA           NA         NA        \n",
       "308  0          0          NA         NA           NA         NA        \n",
       "376  0          0          NA         NA           NA         NA        \n",
       "387  0          0          NA         NA           NA         NA        \n",
       "394  0          0          NA         NA           NA         NA        \n",
       "432  0          0          NA         NA           NA         NA        \n",
       "435  0          0          NA         NA           NA         NA        \n",
       "442  0          0          NA         NA           NA         NA        \n",
       "465  0          0          NA         NA           NA         NA        \n",
       "496  0          0          NA         NA           NA         NA        \n",
       "521  0          0          NA         NA           NA         NA        \n",
       "...  ...        ...        ...        ...          ...        ...       \n",
       "2400  0          0         NA         NA           NA         NA        \n",
       "2423  0          0         NA         NA           NA         NA        \n",
       "2427  0          0         NA         NA           NA         NA        \n",
       "2553  0          0         NA         NA           NA         NA        \n",
       "2554  0          0         NA         NA           NA         NA        \n",
       "2558  0          0         NA         NA           NA         NA        \n",
       "2576  0          0         NA         NA           NA         NA        \n",
       "2577 NA         NA         NA         NA           NA         Detchd    \n",
       "2580  0          0         NA         NA           NA         NA        \n",
       "2604  0          0         NA         NA           NA         NA        \n",
       "2610  0          0         NA         NA           NA         NA        \n",
       "2692  0          0         NA         NA           NA         NA        \n",
       "2694  0          0         NA         NA           NA         NA        \n",
       "2709  0          0         NA         NA           NA         NA        \n",
       "2768  0          0         NA         NA           NA         NA        \n",
       "2772  0          0         NA         NA           NA         NA        \n",
       "2790  0          0         NA         NA           NA         NA        \n",
       "2792  0          0         NA         NA           NA         NA        \n",
       "2800  0          0         NA         NA           NA         NA        \n",
       "2860  0          0         NA         NA           NA         NA        \n",
       "2863  0          0         NA         NA           NA         NA        \n",
       "2871  0          0         NA         NA           NA         NA        \n",
       "2889  0          0         NA         NA           NA         NA        \n",
       "2892  0          0         NA         NA           NA         NA        \n",
       "2893  0          0         NA         NA           NA         NA        \n",
       "2894  0          0         NA         NA           NA         NA        \n",
       "2910  0          0         NA         NA           NA         NA        \n",
       "2914  0          0         NA         NA           NA         NA        \n",
       "2915  0          0         NA         NA           NA         NA        \n",
       "2918  0          0         NA         NA           NA         NA        "
      ]
     },
     "metadata": {},
     "output_type": "display_data"
    }
   ],
   "source": [
    "# garage 관련 변수들 중에서 na값이 포함되어있는 데이터형태로 구성\n",
    "# --> GarageCond\n",
    "\n",
    "garage.cols <- c('GarageArea', 'GarageCars', 'GarageQual', 'GarageFinish', 'GarageCond', 'GarageType')\n",
    "df.combined[is.na(df.combined$GarageCond),garage.cols]"
   ]
  },
  {
   "cell_type": "code",
   "execution_count": 16,
   "metadata": {},
   "outputs": [
    {
     "name": "stdout",
     "output_type": "stream",
     "text": [
      "13 15 60 99 195 243 331 388 428 439 460 463 544 580 628 839 894 997 1054 1171 1214 1363 1542 1555 1572 1590 1618 1782 1792 1818 1918 1963 2120 2127 2200 2215 2216 2279 2286 2419 2431 2435 2556 2559 2588 2744 2861"
     ]
    },
    {
     "data": {
      "text/html": [
       "<ol class=list-inline>\n",
       "\t<li>'GarageArea.352'</li>\n",
       "\t<li>'GarageCars.1'</li>\n",
       "\t<li>'GarageQual.TA'</li>\n",
       "\t<li>'GarageFinish.Unf'</li>\n",
       "\t<li>'GarageCond.TA'</li>\n",
       "\t<li>'GarageType.Attchd'</li>\n",
       "</ol>\n"
      ],
      "text/latex": [
       "\\begin{enumerate*}\n",
       "\\item 'GarageArea.352'\n",
       "\\item 'GarageCars.1'\n",
       "\\item 'GarageQual.TA'\n",
       "\\item 'GarageFinish.Unf'\n",
       "\\item 'GarageCond.TA'\n",
       "\\item 'GarageType.Attchd'\n",
       "\\end{enumerate*}\n"
      ],
      "text/markdown": [
       "1. 'GarageArea.352'\n",
       "2. 'GarageCars.1'\n",
       "3. 'GarageQual.TA'\n",
       "4. 'GarageFinish.Unf'\n",
       "5. 'GarageCond.TA'\n",
       "6. 'GarageType.Attchd'\n",
       "\n",
       "\n"
      ],
      "text/plain": [
       "[1] \"GarageArea.352\"    \"GarageCars.1\"      \"GarageQual.TA\"    \n",
       "[4] \"GarageFinish.Unf\"  \"GarageCond.TA\"     \"GarageType.Attchd\""
      ]
     },
     "metadata": {},
     "output_type": "display_data"
    }
   ],
   "source": [
    "# Row 2127 은 수동으로 NA의 값을 채워줄 수 있다. \n",
    "\n",
    "idx <-which(((df.combined$GarageArea < 370) & (df.combined$GarageArea > 350)) & (df.combined$GarageCars == 1))\n",
    "cat(idx)\n",
    "\n",
    "names(sapply(df.combined[idx, garage.cols], function(x) sort(table(x), decreasing = TRUE)[1]))\n",
    "             \n",
    "df.combined[2127,'GarageQual'] = 'TA'\n",
    "df.combined[2127, 'GarageFinish'] = 'Unf'\n",
    "df.combined[2127, 'GarageCond'] = 'TA'"
   ]
  },
  {
   "cell_type": "code",
   "execution_count": 17,
   "metadata": {},
   "outputs": [],
   "source": [
    "# garage area 와 garage car가 0인 경우는 garage가 없다고 판단하여 garage 관련한 NA값들을 다 '0'으로 채운다.\n",
    "# garage.cols = garage 관련 변수들 \n",
    "for(col in garage.cols){\n",
    "    if(sapply(df.combined[col], is.numeric) == TRUE){\n",
    "        df.combined[sapply(df.combined[col], is.na), col] = 0\n",
    "    }\n",
    "    else{\n",
    "        df.combined[sapply(df.combined[col], is.na), col] = 'None'\n",
    "    }\n",
    "}"
   ]
  },
  {
   "cell_type": "markdown",
   "metadata": {},
   "source": [
    "- ## KitchenQual: Kitchen quality\n",
    "    - kitchenQual 의 NA 는 한개이다. 이는 최빈값으로 처리."
   ]
  },
  {
   "cell_type": "code",
   "execution_count": 18,
   "metadata": {},
   "outputs": [
    {
     "name": "stderr",
     "output_type": "stream",
     "text": [
      "Warning message:\n",
      "\"Removed 1 rows containing non-finite values (stat_count).\"Warning message:\n",
      "\"Removed 1 rows containing non-finite values (stat_count).\"Warning message:\n",
      "\"Removed 1 rows containing non-finite values (stat_count).\""
     ]
    },
    {
     "data": {
      "image/png": "[encoded data removed]",
      "text/plain": [
       "plot without title"
      ]
     },
     "metadata": {},
     "output_type": "display_data"
    }
   ],
   "source": [
    "plot.categoric('KitchenQual', df.combined)\n",
    "\n",
    "df.combined$KitchenQual[is.na(df.combined$KitchenQual)] = 'TA'\n"
   ]
  },
  {
   "cell_type": "markdown",
   "metadata": {},
   "source": [
    "- ## Electrical \n",
    "    - KitchenQual 과 마찬가지로 NA 값 1개 --> 최빈값 처리"
   ]
  },
  {
   "cell_type": "code",
   "execution_count": 19,
   "metadata": {},
   "outputs": [
    {
     "name": "stderr",
     "output_type": "stream",
     "text": [
      "Warning message:\n",
      "\"Removed 1 rows containing non-finite values (stat_count).\"Warning message:\n",
      "\"Removed 1 rows containing non-finite values (stat_count).\"Warning message:\n",
      "\"Removed 1 rows containing non-finite values (stat_count).\""
     ]
    },
    {
     "data": {
      "image/png": "[encoded data removed]",
      "text/plain": [
       "plot without title"
      ]
     },
     "metadata": {},
     "output_type": "display_data"
    }
   ],
   "source": [
    "plot.categoric('Electrical', df.combined)\n",
    "\n",
    "df.combined$Electrical[is.na(df.combined$Electrical)] = 'SBrkr'"
   ]
  },
  {
   "cell_type": "markdown",
   "metadata": {},
   "source": [
    "- ## Basement 관련 변수\n",
    "    - BsmtQual: Height of the basement\n",
    "    - BsmtCond: General condition of the basement\n",
    "    - BsmtExposure: Walkout or garden level basement walls\n",
    "    - BsmtFinType1: Quality of basement finished area\n",
    "    - BsmtFinSF1: Type 1 finished square feet\n",
    "    - BsmtFinType2: Quality of second finished area (if present)\n",
    "    - BsmtFinSF2: Type 2 finished square feet\n",
    "    - BsmtUnfSF: Unfinished square feet of basement area\n",
    "    - TotalBsmtSF: Total square feet of basement area\n",
    "    - BsmtFullBath: Basement full bathrooms\n",
    "    - BsmtHalfBath: Basement half bathrooms"
   ]
  },
  {
   "cell_type": "code",
   "execution_count": 20,
   "metadata": {},
   "outputs": [
    {
     "data": {
      "text/html": [
       "<table>\n",
       "<thead><tr><th></th><th scope=col>BsmtQual</th><th scope=col>BsmtCond</th><th scope=col>BsmtExposure</th><th scope=col>BsmtFinType1</th><th scope=col>BsmtFinSF1</th><th scope=col>BsmtFinType2</th><th scope=col>BsmtFinSF2</th><th scope=col>BsmtUnfSF</th><th scope=col>TotalBsmtSF</th><th scope=col>BsmtFullBath</th><th scope=col>BsmtHalfBath</th></tr></thead>\n",
       "<tbody>\n",
       "\t<tr><th scope=row>18</th><td>NA </td><td>NA </td><td>NA </td><td>NA </td><td>0  </td><td>NA </td><td>0  </td><td>  0</td><td>  0</td><td>0  </td><td>0  </td></tr>\n",
       "\t<tr><th scope=row>40</th><td>NA </td><td>NA </td><td>NA </td><td>NA </td><td>0  </td><td>NA </td><td>0  </td><td>  0</td><td>  0</td><td>0  </td><td>0  </td></tr>\n",
       "\t<tr><th scope=row>91</th><td>NA </td><td>NA </td><td>NA </td><td>NA </td><td>0  </td><td>NA </td><td>0  </td><td>  0</td><td>  0</td><td>0  </td><td>0  </td></tr>\n",
       "\t<tr><th scope=row>103</th><td>NA </td><td>NA </td><td>NA </td><td>NA </td><td>0  </td><td>NA </td><td>0  </td><td>  0</td><td>  0</td><td>0  </td><td>0  </td></tr>\n",
       "\t<tr><th scope=row>157</th><td>NA </td><td>NA </td><td>NA </td><td>NA </td><td>0  </td><td>NA </td><td>0  </td><td>  0</td><td>  0</td><td>0  </td><td>0  </td></tr>\n",
       "\t<tr><th scope=row>183</th><td>NA </td><td>NA </td><td>NA </td><td>NA </td><td>0  </td><td>NA </td><td>0  </td><td>  0</td><td>  0</td><td>0  </td><td>0  </td></tr>\n",
       "\t<tr><th scope=row>260</th><td>NA </td><td>NA </td><td>NA </td><td>NA </td><td>0  </td><td>NA </td><td>0  </td><td>  0</td><td>  0</td><td>0  </td><td>0  </td></tr>\n",
       "\t<tr><th scope=row>343</th><td>NA </td><td>NA </td><td>NA </td><td>NA </td><td>0  </td><td>NA </td><td>0  </td><td>  0</td><td>  0</td><td>0  </td><td>0  </td></tr>\n",
       "\t<tr><th scope=row>363</th><td>NA </td><td>NA </td><td>NA </td><td>NA </td><td>0  </td><td>NA </td><td>0  </td><td>  0</td><td>  0</td><td>0  </td><td>0  </td></tr>\n",
       "\t<tr><th scope=row>372</th><td>NA </td><td>NA </td><td>NA </td><td>NA </td><td>0  </td><td>NA </td><td>0  </td><td>  0</td><td>  0</td><td>0  </td><td>0  </td></tr>\n",
       "\t<tr><th scope=row>393</th><td>NA </td><td>NA </td><td>NA </td><td>NA </td><td>0  </td><td>NA </td><td>0  </td><td>  0</td><td>  0</td><td>0  </td><td>0  </td></tr>\n",
       "\t<tr><th scope=row>521</th><td>NA </td><td>NA </td><td>NA </td><td>NA </td><td>0  </td><td>NA </td><td>0  </td><td>  0</td><td>  0</td><td>0  </td><td>0  </td></tr>\n",
       "\t<tr><th scope=row>533</th><td>NA </td><td>NA </td><td>NA </td><td>NA </td><td>0  </td><td>NA </td><td>0  </td><td>  0</td><td>  0</td><td>0  </td><td>0  </td></tr>\n",
       "\t<tr><th scope=row>534</th><td>NA </td><td>NA </td><td>NA </td><td>NA </td><td>0  </td><td>NA </td><td>0  </td><td>  0</td><td>  0</td><td>0  </td><td>0  </td></tr>\n",
       "\t<tr><th scope=row>554</th><td>NA </td><td>NA </td><td>NA </td><td>NA </td><td>0  </td><td>NA </td><td>0  </td><td>  0</td><td>  0</td><td>0  </td><td>0  </td></tr>\n",
       "\t<tr><th scope=row>647</th><td>NA </td><td>NA </td><td>NA </td><td>NA </td><td>0  </td><td>NA </td><td>0  </td><td>  0</td><td>  0</td><td>0  </td><td>0  </td></tr>\n",
       "\t<tr><th scope=row>706</th><td>NA </td><td>NA </td><td>NA </td><td>NA </td><td>0  </td><td>NA </td><td>0  </td><td>  0</td><td>  0</td><td>0  </td><td>0  </td></tr>\n",
       "\t<tr><th scope=row>737</th><td>NA </td><td>NA </td><td>NA </td><td>NA </td><td>0  </td><td>NA </td><td>0  </td><td>  0</td><td>  0</td><td>0  </td><td>0  </td></tr>\n",
       "\t<tr><th scope=row>750</th><td>NA </td><td>NA </td><td>NA </td><td>NA </td><td>0  </td><td>NA </td><td>0  </td><td>  0</td><td>  0</td><td>0  </td><td>0  </td></tr>\n",
       "\t<tr><th scope=row>779</th><td>NA </td><td>NA </td><td>NA </td><td>NA </td><td>0  </td><td>NA </td><td>0  </td><td>  0</td><td>  0</td><td>0  </td><td>0  </td></tr>\n",
       "\t<tr><th scope=row>869</th><td>NA </td><td>NA </td><td>NA </td><td>NA </td><td>0  </td><td>NA </td><td>0  </td><td>  0</td><td>  0</td><td>0  </td><td>0  </td></tr>\n",
       "\t<tr><th scope=row>895</th><td>NA </td><td>NA </td><td>NA </td><td>NA </td><td>0  </td><td>NA </td><td>0  </td><td>  0</td><td>  0</td><td>0  </td><td>0  </td></tr>\n",
       "\t<tr><th scope=row>898</th><td>NA </td><td>NA </td><td>NA </td><td>NA </td><td>0  </td><td>NA </td><td>0  </td><td>  0</td><td>  0</td><td>0  </td><td>0  </td></tr>\n",
       "\t<tr><th scope=row>949</th><td>Gd </td><td>TA </td><td>NA </td><td>Unf</td><td>0  </td><td>Unf</td><td>0  </td><td>936</td><td>936</td><td>0  </td><td>0  </td></tr>\n",
       "\t<tr><th scope=row>985</th><td>NA </td><td>NA </td><td>NA </td><td>NA </td><td>0  </td><td>NA </td><td>0  </td><td>  0</td><td>  0</td><td>0  </td><td>0  </td></tr>\n",
       "\t<tr><th scope=row>1001</th><td>NA </td><td>NA </td><td>NA </td><td>NA </td><td>0  </td><td>NA </td><td>0  </td><td>  0</td><td>  0</td><td>0  </td><td>0  </td></tr>\n",
       "\t<tr><th scope=row>1012</th><td>NA </td><td>NA </td><td>NA </td><td>NA </td><td>0  </td><td>NA </td><td>0  </td><td>  0</td><td>  0</td><td>0  </td><td>0  </td></tr>\n",
       "\t<tr><th scope=row>1036</th><td>NA </td><td>NA </td><td>NA </td><td>NA </td><td>0  </td><td>NA </td><td>0  </td><td>  0</td><td>  0</td><td>0  </td><td>0  </td></tr>\n",
       "\t<tr><th scope=row>1046</th><td>NA </td><td>NA </td><td>NA </td><td>NA </td><td>0  </td><td>NA </td><td>0  </td><td>  0</td><td>  0</td><td>0  </td><td>0  </td></tr>\n",
       "\t<tr><th scope=row>1049</th><td>NA </td><td>NA </td><td>NA </td><td>NA </td><td>0  </td><td>NA </td><td>0  </td><td>  0</td><td>  0</td><td>0  </td><td>0  </td></tr>\n",
       "\t<tr><th scope=row>...</th><td>...</td><td>...</td><td>...</td><td>...</td><td>...</td><td>...</td><td>...</td><td>...</td><td>...</td><td>...</td><td>...</td></tr>\n",
       "\t<tr><th scope=row>2067</th><td>NA </td><td>NA </td><td>NA </td><td>NA </td><td> 0 </td><td>NA </td><td> 0 </td><td>  0</td><td>  0</td><td> 0 </td><td> 0 </td></tr>\n",
       "\t<tr><th scope=row>2069</th><td>NA </td><td>NA </td><td>NA </td><td>NA </td><td> 0 </td><td>NA </td><td> 0 </td><td>  0</td><td>  0</td><td> 0 </td><td> 0 </td></tr>\n",
       "\t<tr><th scope=row>2121</th><td>NA </td><td>NA </td><td>NA </td><td>NA </td><td>NA </td><td>NA </td><td>NA </td><td> NA</td><td> NA</td><td>NA </td><td>NA </td></tr>\n",
       "\t<tr><th scope=row>2123</th><td>NA </td><td>NA </td><td>NA </td><td>NA </td><td> 0 </td><td>NA </td><td> 0 </td><td>  0</td><td>  0</td><td> 0 </td><td> 0 </td></tr>\n",
       "\t<tr><th scope=row>2189</th><td>NA </td><td>NA </td><td>NA </td><td>NA </td><td> 0 </td><td>NA </td><td> 0 </td><td>  0</td><td>  0</td><td>NA </td><td>NA </td></tr>\n",
       "\t<tr><th scope=row>2190</th><td>NA </td><td>NA </td><td>NA </td><td>NA </td><td> 0 </td><td>NA </td><td> 0 </td><td>  0</td><td>  0</td><td> 0 </td><td> 0 </td></tr>\n",
       "\t<tr><th scope=row>2191</th><td>NA </td><td>NA </td><td>NA </td><td>NA </td><td> 0 </td><td>NA </td><td> 0 </td><td>  0</td><td>  0</td><td> 0 </td><td> 0 </td></tr>\n",
       "\t<tr><th scope=row>2194</th><td>NA </td><td>NA </td><td>NA </td><td>NA </td><td> 0 </td><td>NA </td><td> 0 </td><td>  0</td><td>  0</td><td> 0 </td><td> 0 </td></tr>\n",
       "\t<tr><th scope=row>2217</th><td>NA </td><td>NA </td><td>NA </td><td>NA </td><td> 0 </td><td>NA </td><td> 0 </td><td>  0</td><td>  0</td><td> 0 </td><td> 0 </td></tr>\n",
       "\t<tr><th scope=row>2225</th><td>NA </td><td>NA </td><td>NA </td><td>NA </td><td> 0 </td><td>NA </td><td> 0 </td><td>  0</td><td>  0</td><td> 0 </td><td> 0 </td></tr>\n",
       "\t<tr><th scope=row>2349</th><td>Gd </td><td>TA </td><td>NA </td><td>Unf</td><td> 0 </td><td>Unf</td><td> 0 </td><td>725</td><td>725</td><td> 0 </td><td> 0 </td></tr>\n",
       "\t<tr><th scope=row>2388</th><td>NA </td><td>NA </td><td>NA </td><td>NA </td><td> 0 </td><td>NA </td><td> 0 </td><td>  0</td><td>  0</td><td> 0 </td><td> 0 </td></tr>\n",
       "\t<tr><th scope=row>2436</th><td>NA </td><td>NA </td><td>NA </td><td>NA </td><td> 0 </td><td>NA </td><td> 0 </td><td>  0</td><td>  0</td><td> 0 </td><td> 0 </td></tr>\n",
       "\t<tr><th scope=row>2453</th><td>NA </td><td>NA </td><td>NA </td><td>NA </td><td> 0 </td><td>NA </td><td> 0 </td><td>  0</td><td>  0</td><td> 0 </td><td> 0 </td></tr>\n",
       "\t<tr><th scope=row>2454</th><td>NA </td><td>NA </td><td>NA </td><td>NA </td><td> 0 </td><td>NA </td><td> 0 </td><td>  0</td><td>  0</td><td> 0 </td><td> 0 </td></tr>\n",
       "\t<tr><th scope=row>2491</th><td>NA </td><td>NA </td><td>NA </td><td>NA </td><td> 0 </td><td>NA </td><td> 0 </td><td>  0</td><td>  0</td><td> 0 </td><td> 0 </td></tr>\n",
       "\t<tr><th scope=row>2499</th><td>NA </td><td>NA </td><td>NA </td><td>NA </td><td> 0 </td><td>NA </td><td> 0 </td><td>  0</td><td>  0</td><td> 0 </td><td> 0 </td></tr>\n",
       "\t<tr><th scope=row>2548</th><td>NA </td><td>NA </td><td>NA </td><td>NA </td><td> 0 </td><td>NA </td><td> 0 </td><td>  0</td><td>  0</td><td> 0 </td><td> 0 </td></tr>\n",
       "\t<tr><th scope=row>2553</th><td>NA </td><td>NA </td><td>NA </td><td>NA </td><td> 0 </td><td>NA </td><td> 0 </td><td>  0</td><td>  0</td><td> 0 </td><td> 0 </td></tr>\n",
       "\t<tr><th scope=row>2565</th><td>NA </td><td>NA </td><td>NA </td><td>NA </td><td> 0 </td><td>NA </td><td> 0 </td><td>  0</td><td>  0</td><td> 0 </td><td> 0 </td></tr>\n",
       "\t<tr><th scope=row>2579</th><td>NA </td><td>NA </td><td>NA </td><td>NA </td><td> 0 </td><td>NA </td><td> 0 </td><td>  0</td><td>  0</td><td> 0 </td><td> 0 </td></tr>\n",
       "\t<tr><th scope=row>2600</th><td>NA </td><td>NA </td><td>NA </td><td>NA </td><td> 0 </td><td>NA </td><td> 0 </td><td>  0</td><td>  0</td><td> 0 </td><td> 0 </td></tr>\n",
       "\t<tr><th scope=row>2703</th><td>NA </td><td>NA </td><td>NA </td><td>NA </td><td> 0 </td><td>NA </td><td> 0 </td><td>  0</td><td>  0</td><td> 0 </td><td> 0 </td></tr>\n",
       "\t<tr><th scope=row>2764</th><td>NA </td><td>NA </td><td>NA </td><td>NA </td><td> 0 </td><td>NA </td><td> 0 </td><td>  0</td><td>  0</td><td> 0 </td><td> 0 </td></tr>\n",
       "\t<tr><th scope=row>2767</th><td>NA </td><td>NA </td><td>NA </td><td>NA </td><td> 0 </td><td>NA </td><td> 0 </td><td>  0</td><td>  0</td><td> 0 </td><td> 0 </td></tr>\n",
       "\t<tr><th scope=row>2804</th><td>NA </td><td>NA </td><td>NA </td><td>NA </td><td> 0 </td><td>NA </td><td> 0 </td><td>  0</td><td>  0</td><td> 0 </td><td> 0 </td></tr>\n",
       "\t<tr><th scope=row>2805</th><td>NA </td><td>NA </td><td>NA </td><td>NA </td><td> 0 </td><td>NA </td><td> 0 </td><td>  0</td><td>  0</td><td> 0 </td><td> 0 </td></tr>\n",
       "\t<tr><th scope=row>2825</th><td>NA </td><td>NA </td><td>NA </td><td>NA </td><td> 0 </td><td>NA </td><td> 0 </td><td>  0</td><td>  0</td><td> 0 </td><td> 0 </td></tr>\n",
       "\t<tr><th scope=row>2892</th><td>NA </td><td>NA </td><td>NA </td><td>NA </td><td> 0 </td><td>NA </td><td> 0 </td><td>  0</td><td>  0</td><td> 0 </td><td> 0 </td></tr>\n",
       "\t<tr><th scope=row>2905</th><td>NA </td><td>NA </td><td>NA </td><td>NA </td><td> 0 </td><td>NA </td><td> 0 </td><td>  0</td><td>  0</td><td> 0 </td><td> 0 </td></tr>\n",
       "</tbody>\n",
       "</table>\n"
      ],
      "text/latex": [
       "\\begin{tabular}{r|lllllllllll}\n",
       "  & BsmtQual & BsmtCond & BsmtExposure & BsmtFinType1 & BsmtFinSF1 & BsmtFinType2 & BsmtFinSF2 & BsmtUnfSF & TotalBsmtSF & BsmtFullBath & BsmtHalfBath\\\\\n",
       "\\hline\n",
       "\t18 & NA  & NA  & NA  & NA  & 0   & NA  & 0   &   0 &   0 & 0   & 0  \\\\\n",
       "\t40 & NA  & NA  & NA  & NA  & 0   & NA  & 0   &   0 &   0 & 0   & 0  \\\\\n",
       "\t91 & NA  & NA  & NA  & NA  & 0   & NA  & 0   &   0 &   0 & 0   & 0  \\\\\n",
       "\t103 & NA  & NA  & NA  & NA  & 0   & NA  & 0   &   0 &   0 & 0   & 0  \\\\\n",
       "\t157 & NA  & NA  & NA  & NA  & 0   & NA  & 0   &   0 &   0 & 0   & 0  \\\\\n",
       "\t183 & NA  & NA  & NA  & NA  & 0   & NA  & 0   &   0 &   0 & 0   & 0  \\\\\n",
       "\t260 & NA  & NA  & NA  & NA  & 0   & NA  & 0   &   0 &   0 & 0   & 0  \\\\\n",
       "\t343 & NA  & NA  & NA  & NA  & 0   & NA  & 0   &   0 &   0 & 0   & 0  \\\\\n",
       "\t363 & NA  & NA  & NA  & NA  & 0   & NA  & 0   &   0 &   0 & 0   & 0  \\\\\n",
       "\t372 & NA  & NA  & NA  & NA  & 0   & NA  & 0   &   0 &   0 & 0   & 0  \\\\\n",
       "\t393 & NA  & NA  & NA  & NA  & 0   & NA  & 0   &   0 &   0 & 0   & 0  \\\\\n",
       "\t521 & NA  & NA  & NA  & NA  & 0   & NA  & 0   &   0 &   0 & 0   & 0  \\\\\n",
       "\t533 & NA  & NA  & NA  & NA  & 0   & NA  & 0   &   0 &   0 & 0   & 0  \\\\\n",
       "\t534 & NA  & NA  & NA  & NA  & 0   & NA  & 0   &   0 &   0 & 0   & 0  \\\\\n",
       "\t554 & NA  & NA  & NA  & NA  & 0   & NA  & 0   &   0 &   0 & 0   & 0  \\\\\n",
       "\t647 & NA  & NA  & NA  & NA  & 0   & NA  & 0   &   0 &   0 & 0   & 0  \\\\\n",
       "\t706 & NA  & NA  & NA  & NA  & 0   & NA  & 0   &   0 &   0 & 0   & 0  \\\\\n",
       "\t737 & NA  & NA  & NA  & NA  & 0   & NA  & 0   &   0 &   0 & 0   & 0  \\\\\n",
       "\t750 & NA  & NA  & NA  & NA  & 0   & NA  & 0   &   0 &   0 & 0   & 0  \\\\\n",
       "\t779 & NA  & NA  & NA  & NA  & 0   & NA  & 0   &   0 &   0 & 0   & 0  \\\\\n",
       "\t869 & NA  & NA  & NA  & NA  & 0   & NA  & 0   &   0 &   0 & 0   & 0  \\\\\n",
       "\t895 & NA  & NA  & NA  & NA  & 0   & NA  & 0   &   0 &   0 & 0   & 0  \\\\\n",
       "\t898 & NA  & NA  & NA  & NA  & 0   & NA  & 0   &   0 &   0 & 0   & 0  \\\\\n",
       "\t949 & Gd  & TA  & NA  & Unf & 0   & Unf & 0   & 936 & 936 & 0   & 0  \\\\\n",
       "\t985 & NA  & NA  & NA  & NA  & 0   & NA  & 0   &   0 &   0 & 0   & 0  \\\\\n",
       "\t1001 & NA  & NA  & NA  & NA  & 0   & NA  & 0   &   0 &   0 & 0   & 0  \\\\\n",
       "\t1012 & NA  & NA  & NA  & NA  & 0   & NA  & 0   &   0 &   0 & 0   & 0  \\\\\n",
       "\t1036 & NA  & NA  & NA  & NA  & 0   & NA  & 0   &   0 &   0 & 0   & 0  \\\\\n",
       "\t1046 & NA  & NA  & NA  & NA  & 0   & NA  & 0   &   0 &   0 & 0   & 0  \\\\\n",
       "\t1049 & NA  & NA  & NA  & NA  & 0   & NA  & 0   &   0 &   0 & 0   & 0  \\\\\n",
       "\t... & ... & ... & ... & ... & ... & ... & ... & ... & ... & ... & ...\\\\\n",
       "\t2067 & NA  & NA  & NA  & NA  &  0  & NA  &  0  &   0 &   0 &  0  &  0 \\\\\n",
       "\t2069 & NA  & NA  & NA  & NA  &  0  & NA  &  0  &   0 &   0 &  0  &  0 \\\\\n",
       "\t2121 & NA  & NA  & NA  & NA  & NA  & NA  & NA  &  NA &  NA & NA  & NA \\\\\n",
       "\t2123 & NA  & NA  & NA  & NA  &  0  & NA  &  0  &   0 &   0 &  0  &  0 \\\\\n",
       "\t2189 & NA  & NA  & NA  & NA  &  0  & NA  &  0  &   0 &   0 & NA  & NA \\\\\n",
       "\t2190 & NA  & NA  & NA  & NA  &  0  & NA  &  0  &   0 &   0 &  0  &  0 \\\\\n",
       "\t2191 & NA  & NA  & NA  & NA  &  0  & NA  &  0  &   0 &   0 &  0  &  0 \\\\\n",
       "\t2194 & NA  & NA  & NA  & NA  &  0  & NA  &  0  &   0 &   0 &  0  &  0 \\\\\n",
       "\t2217 & NA  & NA  & NA  & NA  &  0  & NA  &  0  &   0 &   0 &  0  &  0 \\\\\n",
       "\t2225 & NA  & NA  & NA  & NA  &  0  & NA  &  0  &   0 &   0 &  0  &  0 \\\\\n",
       "\t2349 & Gd  & TA  & NA  & Unf &  0  & Unf &  0  & 725 & 725 &  0  &  0 \\\\\n",
       "\t2388 & NA  & NA  & NA  & NA  &  0  & NA  &  0  &   0 &   0 &  0  &  0 \\\\\n",
       "\t2436 & NA  & NA  & NA  & NA  &  0  & NA  &  0  &   0 &   0 &  0  &  0 \\\\\n",
       "\t2453 & NA  & NA  & NA  & NA  &  0  & NA  &  0  &   0 &   0 &  0  &  0 \\\\\n",
       "\t2454 & NA  & NA  & NA  & NA  &  0  & NA  &  0  &   0 &   0 &  0  &  0 \\\\\n",
       "\t2491 & NA  & NA  & NA  & NA  &  0  & NA  &  0  &   0 &   0 &  0  &  0 \\\\\n",
       "\t2499 & NA  & NA  & NA  & NA  &  0  & NA  &  0  &   0 &   0 &  0  &  0 \\\\\n",
       "\t2548 & NA  & NA  & NA  & NA  &  0  & NA  &  0  &   0 &   0 &  0  &  0 \\\\\n",
       "\t2553 & NA  & NA  & NA  & NA  &  0  & NA  &  0  &   0 &   0 &  0  &  0 \\\\\n",
       "\t2565 & NA  & NA  & NA  & NA  &  0  & NA  &  0  &   0 &   0 &  0  &  0 \\\\\n",
       "\t2579 & NA  & NA  & NA  & NA  &  0  & NA  &  0  &   0 &   0 &  0  &  0 \\\\\n",
       "\t2600 & NA  & NA  & NA  & NA  &  0  & NA  &  0  &   0 &   0 &  0  &  0 \\\\\n",
       "\t2703 & NA  & NA  & NA  & NA  &  0  & NA  &  0  &   0 &   0 &  0  &  0 \\\\\n",
       "\t2764 & NA  & NA  & NA  & NA  &  0  & NA  &  0  &   0 &   0 &  0  &  0 \\\\\n",
       "\t2767 & NA  & NA  & NA  & NA  &  0  & NA  &  0  &   0 &   0 &  0  &  0 \\\\\n",
       "\t2804 & NA  & NA  & NA  & NA  &  0  & NA  &  0  &   0 &   0 &  0  &  0 \\\\\n",
       "\t2805 & NA  & NA  & NA  & NA  &  0  & NA  &  0  &   0 &   0 &  0  &  0 \\\\\n",
       "\t2825 & NA  & NA  & NA  & NA  &  0  & NA  &  0  &   0 &   0 &  0  &  0 \\\\\n",
       "\t2892 & NA  & NA  & NA  & NA  &  0  & NA  &  0  &   0 &   0 &  0  &  0 \\\\\n",
       "\t2905 & NA  & NA  & NA  & NA  &  0  & NA  &  0  &   0 &   0 &  0  &  0 \\\\\n",
       "\\end{tabular}\n"
      ],
      "text/markdown": [
       "\n",
       "| <!--/--> | BsmtQual | BsmtCond | BsmtExposure | BsmtFinType1 | BsmtFinSF1 | BsmtFinType2 | BsmtFinSF2 | BsmtUnfSF | TotalBsmtSF | BsmtFullBath | BsmtHalfBath | \n",
       "|---|---|---|---|---|---|---|---|---|---|---|---|---|---|---|---|---|---|---|---|---|---|---|---|---|---|---|---|---|---|---|---|---|---|---|---|---|---|---|---|---|---|---|---|---|---|---|---|---|---|---|---|---|---|---|---|---|---|---|---|---|\n",
       "| 18 | NA  | NA  | NA  | NA  | 0   | NA  | 0   |   0 |   0 | 0   | 0   | \n",
       "| 40 | NA  | NA  | NA  | NA  | 0   | NA  | 0   |   0 |   0 | 0   | 0   | \n",
       "| 91 | NA  | NA  | NA  | NA  | 0   | NA  | 0   |   0 |   0 | 0   | 0   | \n",
       "| 103 | NA  | NA  | NA  | NA  | 0   | NA  | 0   |   0 |   0 | 0   | 0   | \n",
       "| 157 | NA  | NA  | NA  | NA  | 0   | NA  | 0   |   0 |   0 | 0   | 0   | \n",
       "| 183 | NA  | NA  | NA  | NA  | 0   | NA  | 0   |   0 |   0 | 0   | 0   | \n",
       "| 260 | NA  | NA  | NA  | NA  | 0   | NA  | 0   |   0 |   0 | 0   | 0   | \n",
       "| 343 | NA  | NA  | NA  | NA  | 0   | NA  | 0   |   0 |   0 | 0   | 0   | \n",
       "| 363 | NA  | NA  | NA  | NA  | 0   | NA  | 0   |   0 |   0 | 0   | 0   | \n",
       "| 372 | NA  | NA  | NA  | NA  | 0   | NA  | 0   |   0 |   0 | 0   | 0   | \n",
       "| 393 | NA  | NA  | NA  | NA  | 0   | NA  | 0   |   0 |   0 | 0   | 0   | \n",
       "| 521 | NA  | NA  | NA  | NA  | 0   | NA  | 0   |   0 |   0 | 0   | 0   | \n",
       "| 533 | NA  | NA  | NA  | NA  | 0   | NA  | 0   |   0 |   0 | 0   | 0   | \n",
       "| 534 | NA  | NA  | NA  | NA  | 0   | NA  | 0   |   0 |   0 | 0   | 0   | \n",
       "| 554 | NA  | NA  | NA  | NA  | 0   | NA  | 0   |   0 |   0 | 0   | 0   | \n",
       "| 647 | NA  | NA  | NA  | NA  | 0   | NA  | 0   |   0 |   0 | 0   | 0   | \n",
       "| 706 | NA  | NA  | NA  | NA  | 0   | NA  | 0   |   0 |   0 | 0   | 0   | \n",
       "| 737 | NA  | NA  | NA  | NA  | 0   | NA  | 0   |   0 |   0 | 0   | 0   | \n",
       "| 750 | NA  | NA  | NA  | NA  | 0   | NA  | 0   |   0 |   0 | 0   | 0   | \n",
       "| 779 | NA  | NA  | NA  | NA  | 0   | NA  | 0   |   0 |   0 | 0   | 0   | \n",
       "| 869 | NA  | NA  | NA  | NA  | 0   | NA  | 0   |   0 |   0 | 0   | 0   | \n",
       "| 895 | NA  | NA  | NA  | NA  | 0   | NA  | 0   |   0 |   0 | 0   | 0   | \n",
       "| 898 | NA  | NA  | NA  | NA  | 0   | NA  | 0   |   0 |   0 | 0   | 0   | \n",
       "| 949 | Gd  | TA  | NA  | Unf | 0   | Unf | 0   | 936 | 936 | 0   | 0   | \n",
       "| 985 | NA  | NA  | NA  | NA  | 0   | NA  | 0   |   0 |   0 | 0   | 0   | \n",
       "| 1001 | NA  | NA  | NA  | NA  | 0   | NA  | 0   |   0 |   0 | 0   | 0   | \n",
       "| 1012 | NA  | NA  | NA  | NA  | 0   | NA  | 0   |   0 |   0 | 0   | 0   | \n",
       "| 1036 | NA  | NA  | NA  | NA  | 0   | NA  | 0   |   0 |   0 | 0   | 0   | \n",
       "| 1046 | NA  | NA  | NA  | NA  | 0   | NA  | 0   |   0 |   0 | 0   | 0   | \n",
       "| 1049 | NA  | NA  | NA  | NA  | 0   | NA  | 0   |   0 |   0 | 0   | 0   | \n",
       "| ... | ... | ... | ... | ... | ... | ... | ... | ... | ... | ... | ... | \n",
       "| 2067 | NA  | NA  | NA  | NA  |  0  | NA  |  0  |   0 |   0 |  0  |  0  | \n",
       "| 2069 | NA  | NA  | NA  | NA  |  0  | NA  |  0  |   0 |   0 |  0  |  0  | \n",
       "| 2121 | NA  | NA  | NA  | NA  | NA  | NA  | NA  |  NA |  NA | NA  | NA  | \n",
       "| 2123 | NA  | NA  | NA  | NA  |  0  | NA  |  0  |   0 |   0 |  0  |  0  | \n",
       "| 2189 | NA  | NA  | NA  | NA  |  0  | NA  |  0  |   0 |   0 | NA  | NA  | \n",
       "| 2190 | NA  | NA  | NA  | NA  |  0  | NA  |  0  |   0 |   0 |  0  |  0  | \n",
       "| 2191 | NA  | NA  | NA  | NA  |  0  | NA  |  0  |   0 |   0 |  0  |  0  | \n",
       "| 2194 | NA  | NA  | NA  | NA  |  0  | NA  |  0  |   0 |   0 |  0  |  0  | \n",
       "| 2217 | NA  | NA  | NA  | NA  |  0  | NA  |  0  |   0 |   0 |  0  |  0  | \n",
       "| 2225 | NA  | NA  | NA  | NA  |  0  | NA  |  0  |   0 |   0 |  0  |  0  | \n",
       "| 2349 | Gd  | TA  | NA  | Unf |  0  | Unf |  0  | 725 | 725 |  0  |  0  | \n",
       "| 2388 | NA  | NA  | NA  | NA  |  0  | NA  |  0  |   0 |   0 |  0  |  0  | \n",
       "| 2436 | NA  | NA  | NA  | NA  |  0  | NA  |  0  |   0 |   0 |  0  |  0  | \n",
       "| 2453 | NA  | NA  | NA  | NA  |  0  | NA  |  0  |   0 |   0 |  0  |  0  | \n",
       "| 2454 | NA  | NA  | NA  | NA  |  0  | NA  |  0  |   0 |   0 |  0  |  0  | \n",
       "| 2491 | NA  | NA  | NA  | NA  |  0  | NA  |  0  |   0 |   0 |  0  |  0  | \n",
       "| 2499 | NA  | NA  | NA  | NA  |  0  | NA  |  0  |   0 |   0 |  0  |  0  | \n",
       "| 2548 | NA  | NA  | NA  | NA  |  0  | NA  |  0  |   0 |   0 |  0  |  0  | \n",
       "| 2553 | NA  | NA  | NA  | NA  |  0  | NA  |  0  |   0 |   0 |  0  |  0  | \n",
       "| 2565 | NA  | NA  | NA  | NA  |  0  | NA  |  0  |   0 |   0 |  0  |  0  | \n",
       "| 2579 | NA  | NA  | NA  | NA  |  0  | NA  |  0  |   0 |   0 |  0  |  0  | \n",
       "| 2600 | NA  | NA  | NA  | NA  |  0  | NA  |  0  |   0 |   0 |  0  |  0  | \n",
       "| 2703 | NA  | NA  | NA  | NA  |  0  | NA  |  0  |   0 |   0 |  0  |  0  | \n",
       "| 2764 | NA  | NA  | NA  | NA  |  0  | NA  |  0  |   0 |   0 |  0  |  0  | \n",
       "| 2767 | NA  | NA  | NA  | NA  |  0  | NA  |  0  |   0 |   0 |  0  |  0  | \n",
       "| 2804 | NA  | NA  | NA  | NA  |  0  | NA  |  0  |   0 |   0 |  0  |  0  | \n",
       "| 2805 | NA  | NA  | NA  | NA  |  0  | NA  |  0  |   0 |   0 |  0  |  0  | \n",
       "| 2825 | NA  | NA  | NA  | NA  |  0  | NA  |  0  |   0 |   0 |  0  |  0  | \n",
       "| 2892 | NA  | NA  | NA  | NA  |  0  | NA  |  0  |   0 |   0 |  0  |  0  | \n",
       "| 2905 | NA  | NA  | NA  | NA  |  0  | NA  |  0  |   0 |   0 |  0  |  0  | \n",
       "\n",
       "\n"
      ],
      "text/plain": [
       "     BsmtQual BsmtCond BsmtExposure BsmtFinType1 BsmtFinSF1 BsmtFinType2\n",
       "18   NA       NA       NA           NA           0          NA          \n",
       "40   NA       NA       NA           NA           0          NA          \n",
       "91   NA       NA       NA           NA           0          NA          \n",
       "103  NA       NA       NA           NA           0          NA          \n",
       "157  NA       NA       NA           NA           0          NA          \n",
       "183  NA       NA       NA           NA           0          NA          \n",
       "260  NA       NA       NA           NA           0          NA          \n",
       "343  NA       NA       NA           NA           0          NA          \n",
       "363  NA       NA       NA           NA           0          NA          \n",
       "372  NA       NA       NA           NA           0          NA          \n",
       "393  NA       NA       NA           NA           0          NA          \n",
       "521  NA       NA       NA           NA           0          NA          \n",
       "533  NA       NA       NA           NA           0          NA          \n",
       "534  NA       NA       NA           NA           0          NA          \n",
       "554  NA       NA       NA           NA           0          NA          \n",
       "647  NA       NA       NA           NA           0          NA          \n",
       "706  NA       NA       NA           NA           0          NA          \n",
       "737  NA       NA       NA           NA           0          NA          \n",
       "750  NA       NA       NA           NA           0          NA          \n",
       "779  NA       NA       NA           NA           0          NA          \n",
       "869  NA       NA       NA           NA           0          NA          \n",
       "895  NA       NA       NA           NA           0          NA          \n",
       "898  NA       NA       NA           NA           0          NA          \n",
       "949  Gd       TA       NA           Unf          0          Unf         \n",
       "985  NA       NA       NA           NA           0          NA          \n",
       "1001 NA       NA       NA           NA           0          NA          \n",
       "1012 NA       NA       NA           NA           0          NA          \n",
       "1036 NA       NA       NA           NA           0          NA          \n",
       "1046 NA       NA       NA           NA           0          NA          \n",
       "1049 NA       NA       NA           NA           0          NA          \n",
       "...  ...      ...      ...          ...          ...        ...         \n",
       "2067 NA       NA       NA           NA            0         NA          \n",
       "2069 NA       NA       NA           NA            0         NA          \n",
       "2121 NA       NA       NA           NA           NA         NA          \n",
       "2123 NA       NA       NA           NA            0         NA          \n",
       "2189 NA       NA       NA           NA            0         NA          \n",
       "2190 NA       NA       NA           NA            0         NA          \n",
       "2191 NA       NA       NA           NA            0         NA          \n",
       "2194 NA       NA       NA           NA            0         NA          \n",
       "2217 NA       NA       NA           NA            0         NA          \n",
       "2225 NA       NA       NA           NA            0         NA          \n",
       "2349 Gd       TA       NA           Unf           0         Unf         \n",
       "2388 NA       NA       NA           NA            0         NA          \n",
       "2436 NA       NA       NA           NA            0         NA          \n",
       "2453 NA       NA       NA           NA            0         NA          \n",
       "2454 NA       NA       NA           NA            0         NA          \n",
       "2491 NA       NA       NA           NA            0         NA          \n",
       "2499 NA       NA       NA           NA            0         NA          \n",
       "2548 NA       NA       NA           NA            0         NA          \n",
       "2553 NA       NA       NA           NA            0         NA          \n",
       "2565 NA       NA       NA           NA            0         NA          \n",
       "2579 NA       NA       NA           NA            0         NA          \n",
       "2600 NA       NA       NA           NA            0         NA          \n",
       "2703 NA       NA       NA           NA            0         NA          \n",
       "2764 NA       NA       NA           NA            0         NA          \n",
       "2767 NA       NA       NA           NA            0         NA          \n",
       "2804 NA       NA       NA           NA            0         NA          \n",
       "2805 NA       NA       NA           NA            0         NA          \n",
       "2825 NA       NA       NA           NA            0         NA          \n",
       "2892 NA       NA       NA           NA            0         NA          \n",
       "2905 NA       NA       NA           NA            0         NA          \n",
       "     BsmtFinSF2 BsmtUnfSF TotalBsmtSF BsmtFullBath BsmtHalfBath\n",
       "18   0            0         0         0            0           \n",
       "40   0            0         0         0            0           \n",
       "91   0            0         0         0            0           \n",
       "103  0            0         0         0            0           \n",
       "157  0            0         0         0            0           \n",
       "183  0            0         0         0            0           \n",
       "260  0            0         0         0            0           \n",
       "343  0            0         0         0            0           \n",
       "363  0            0         0         0            0           \n",
       "372  0            0         0         0            0           \n",
       "393  0            0         0         0            0           \n",
       "521  0            0         0         0            0           \n",
       "533  0            0         0         0            0           \n",
       "534  0            0         0         0            0           \n",
       "554  0            0         0         0            0           \n",
       "647  0            0         0         0            0           \n",
       "706  0            0         0         0            0           \n",
       "737  0            0         0         0            0           \n",
       "750  0            0         0         0            0           \n",
       "779  0            0         0         0            0           \n",
       "869  0            0         0         0            0           \n",
       "895  0            0         0         0            0           \n",
       "898  0            0         0         0            0           \n",
       "949  0          936       936         0            0           \n",
       "985  0            0         0         0            0           \n",
       "1001 0            0         0         0            0           \n",
       "1012 0            0         0         0            0           \n",
       "1036 0            0         0         0            0           \n",
       "1046 0            0         0         0            0           \n",
       "1049 0            0         0         0            0           \n",
       "...  ...        ...       ...         ...          ...         \n",
       "2067  0           0         0          0            0          \n",
       "2069  0           0         0          0            0          \n",
       "2121 NA          NA        NA         NA           NA          \n",
       "2123  0           0         0          0            0          \n",
       "2189  0           0         0         NA           NA          \n",
       "2190  0           0         0          0            0          \n",
       "2191  0           0         0          0            0          \n",
       "2194  0           0         0          0            0          \n",
       "2217  0           0         0          0            0          \n",
       "2225  0           0         0          0            0          \n",
       "2349  0         725       725          0            0          \n",
       "2388  0           0         0          0            0          \n",
       "2436  0           0         0          0            0          \n",
       "2453  0           0         0          0            0          \n",
       "2454  0           0         0          0            0          \n",
       "2491  0           0         0          0            0          \n",
       "2499  0           0         0          0            0          \n",
       "2548  0           0         0          0            0          \n",
       "2553  0           0         0          0            0          \n",
       "2565  0           0         0          0            0          \n",
       "2579  0           0         0          0            0          \n",
       "2600  0           0         0          0            0          \n",
       "2703  0           0         0          0            0          \n",
       "2764  0           0         0          0            0          \n",
       "2767  0           0         0          0            0          \n",
       "2804  0           0         0          0            0          \n",
       "2805  0           0         0          0            0          \n",
       "2825  0           0         0          0            0          \n",
       "2892  0           0         0          0            0          \n",
       "2905  0           0         0          0            0          "
      ]
     },
     "metadata": {},
     "output_type": "display_data"
    }
   ],
   "source": [
    "# basement 관련 변수들 특징파악 (NA갯수) --> 하나의 변수로 정리\n",
    "bsmt.cols <- names(df.combined)[sapply(names(df.combined), function(x) str_detect(x, 'Bsmt'))]\n",
    "\n",
    "df.combined[is.na(df.combined$BsmtExposure), bsmt.cols]                                "
   ]
  },
  {
   "cell_type": "markdown",
   "metadata": {},
   "source": [
    "- ### BsmtExposure"
   ]
  },
  {
   "cell_type": "code",
   "execution_count": 21,
   "metadata": {},
   "outputs": [
    {
     "name": "stderr",
     "output_type": "stream",
     "text": [
      "Warning message:\n",
      "\"Removed 82 rows containing non-finite values (stat_count).\"Warning message:\n",
      "\"Removed 82 rows containing non-finite values (stat_count).\"Warning message:\n",
      "\"Removed 82 rows containing non-finite values (stat_count).\""
     ]
    },
    {
     "data": {
      "image/png": "[encoded data removed]",
      "text/plain": [
       "plot without title"
      ]
     },
     "metadata": {},
     "output_type": "display_data"
    }
   ],
   "source": [
    "plot.categoric('BsmtExposure', df.combined)"
   ]
  },
  {
   "cell_type": "code",
   "execution_count": 22,
   "metadata": {},
   "outputs": [],
   "source": [
    "# Row 949, 1488, 2349 는 bsmtExposure에만 NA값이 있다 --> 최빈값으로 처리\n",
    "df.combined[c(949, 1488, 2349), 'BsmtExposure'] = 'No'\n",
    "\n",
    "for(col in bsmt.cols){\n",
    "    if(sapply(df.combined[col], is.numeric) == TRUE){\n",
    "        df.combined[sapply(df.combined[col], is.na), col] = 0\n",
    "    }\n",
    "    else{\n",
    "        df.combined[sapply(df.combined[col], is.na), col] = 'None'\n",
    "    }\n",
    "}"
   ]
  },
  {
   "cell_type": "markdown",
   "metadata": {},
   "source": [
    "- ## Exterior : 외부\n",
    "    - Exterior1st : 집안의 외장\n",
    "    - Exterior2nd : 주택의 외장 (1개의 재료이상)"
   ]
  },
  {
   "cell_type": "code",
   "execution_count": 23,
   "metadata": {},
   "outputs": [
    {
     "name": "stderr",
     "output_type": "stream",
     "text": [
      "Warning message:\n",
      "\"Removed 1 rows containing non-finite values (stat_count).\"Warning message:\n",
      "\"Removed 1 rows containing non-finite values (stat_count).\"Warning message:\n",
      "\"Removed 1 rows containing non-finite values (stat_count).\"Warning message:\n",
      "\"Removed 1 rows containing non-finite values (stat_count).\"Warning message:\n",
      "\"Removed 1 rows containing non-finite values (stat_count).\"Warning message:\n",
      "\"Removed 1 rows containing non-finite values (stat_count).\""
     ]
    },
    {
     "data": {
      "image/png": "[encoded data removed]",
      "text/plain": [
       "plot without title"
      ]
     },
     "metadata": {},
     "output_type": "display_data"
    },
    {
     "data": {
      "image/png": "[encoded data removed]",
      "text/plain": [
       "plot without title"
      ]
     },
     "metadata": {},
     "output_type": "display_data"
    }
   ],
   "source": [
    "plot.categoric(c('Exterior1st', 'Exterior2nd'), df.combined)"
   ]
  },
  {
   "cell_type": "code",
   "execution_count": 24,
   "metadata": {},
   "outputs": [
    {
     "data": {
      "text/html": [
       "<table>\n",
       "<thead><tr><th></th><th scope=col>Exterior1st</th><th scope=col>Exterior2nd</th></tr></thead>\n",
       "<tbody>\n",
       "\t<tr><th scope=row>2152</th><td>NA</td><td>NA</td></tr>\n",
       "</tbody>\n",
       "</table>\n"
      ],
      "text/latex": [
       "\\begin{tabular}{r|ll}\n",
       "  & Exterior1st & Exterior2nd\\\\\n",
       "\\hline\n",
       "\t2152 & NA & NA\\\\\n",
       "\\end{tabular}\n"
      ],
      "text/markdown": [
       "\n",
       "| <!--/--> | Exterior1st | Exterior2nd | \n",
       "|---|\n",
       "| 2152 | NA | NA | \n",
       "\n",
       "\n"
      ],
      "text/plain": [
       "     Exterior1st Exterior2nd\n",
       "2152 NA          NA         "
      ]
     },
     "metadata": {},
     "output_type": "display_data"
    }
   ],
   "source": [
    "idx <- which(is.na(df.combined$Exterior1st) | is.na(df.combined$Exterior2nd))\n",
    "df.combined[idx, c('Exterior1st', 'Exterior2nd')]"
   ]
  },
  {
   "cell_type": "code",
   "execution_count": 25,
   "metadata": {},
   "outputs": [],
   "source": [
    "# Row 2152 의 한개의 결측값이 있다. 이는 아마 다른 외장재료를 써서 결측값이 되었을꺼라고 예상하여 'other' 로 처리한다.\n",
    "df.combined$Exterior1st[is.na(df.combined$Exterior1st)] = 'Other'\n",
    "df.combined$Exterior2nd[is.na(df.combined$Exterior2nd)] = 'Other'"
   ]
  },
  {
   "cell_type": "markdown",
   "metadata": {},
   "source": [
    "- ### SaleType: Type of sale"
   ]
  },
  {
   "cell_type": "code",
   "execution_count": 28,
   "metadata": {},
   "outputs": [
    {
     "name": "stderr",
     "output_type": "stream",
     "text": [
      "Warning message:\n",
      "\"Removed 1 rows containing non-finite values (stat_count).\"Warning message:\n",
      "\"Removed 1 rows containing non-finite values (stat_count).\"Warning message:\n",
      "\"Removed 1 rows containing non-finite values (stat_count).\""
     ]
    },
    {
     "data": {
      "image/png": "[encoded data removed]",
      "text/plain": [
       "plot without title"
      ]
     },
     "metadata": {},
     "output_type": "display_data"
    }
   ],
   "source": [
    "# 결측치 1개\n",
    "plot.categoric('SaleType', df.combined)"
   ]
  },
  {
   "cell_type": "code",
   "execution_count": 30,
   "metadata": {},
   "outputs": [
    {
     "data": {
      "text/html": [
       "'Normal'"
      ],
      "text/latex": [
       "'Normal'"
      ],
      "text/markdown": [
       "'Normal'"
      ],
      "text/plain": [
       "[1] \"Normal\""
      ]
     },
     "metadata": {},
     "output_type": "display_data"
    },
    {
     "data": {
      "text/plain": [
       "         \n",
       "           COD  Con ConLD ConLI ConLw  CWD  New  Oth   WD\n",
       "  Abnorml   46    0     3     2     0    1    0    5  133\n",
       "  AdjLand    0    0     0     0     0    0    0    0   12\n",
       "  Alloca     0    0     0     0     0    0    0    0   24\n",
       "  Family     2    0     1     2     1    1    0    1   38\n",
       "  Normal    39    4    21     5     7   10    0    1 2314\n",
       "  Partial    0    1     1     0     0    0  239    0    4"
      ]
     },
     "metadata": {},
     "output_type": "display_data"
    }
   ],
   "source": [
    "# SaleType 결측치의 SaleCondition \n",
    "df.combined[is.na(df.combined$SaleType), c('SaleCondition')]\n",
    "table(df.combined$SaleCondition, df.combined$SaleType)"
   ]
  },
  {
   "cell_type": "code",
   "execution_count": 31,
   "metadata": {},
   "outputs": [],
   "source": [
    "# 위의 테이블을 참조하면 (SaleType 과 SaleCondition의 관계 테이블)\n",
    "# SaleCondition,' Normal' --> 최빈값 --> SaleType, 'WD'\n",
    "# SaleType 의 최빈값 또한 -> 'WD'\n",
    "df.combined$SaleType[is.na(df.combined$SaleType)] = \"WD\""
   ]
  },
  {
   "cell_type": "markdown",
   "metadata": {},
   "source": [
    "- ### Functional: Home functionality rating"
   ]
  },
  {
   "cell_type": "code",
   "execution_count": 44,
   "metadata": {
    "scrolled": true
   },
   "outputs": [
    {
     "name": "stdout",
     "output_type": "stream",
     "text": [
      "Functional_na_index : 2919"
     ]
    },
    {
     "data": {
      "image/png": "[encoded data removed]",
      "text/plain": [
       "plot without title"
      ]
     },
     "metadata": {},
     "output_type": "display_data"
    }
   ],
   "source": [
    "plot.categoric('Functional', df.combined)\n",
    "cat(\"Functional_na_index :\",length(is.na(df.combined$Functional)))"
   ]
  },
  {
   "cell_type": "code",
   "execution_count": 41,
   "metadata": {},
   "outputs": [],
   "source": [
    "# Functional 의 최빈값으로 결측치 처리\n",
    "df.combined$Functional[is.na(df.combined$Functional)] = 'Typ'"
   ]
  },
  {
   "cell_type": "markdown",
   "metadata": {},
   "source": [
    "- ### Utilities: Type of utilities available"
   ]
  },
  {
   "cell_type": "code",
   "execution_count": 45,
   "metadata": {},
   "outputs": [
    {
     "name": "stderr",
     "output_type": "stream",
     "text": [
      "Warning message:\n",
      "\"Removed 2 rows containing non-finite values (stat_count).\"Warning message:\n",
      "\"Removed 2 rows containing non-finite values (stat_count).\"Warning message:\n",
      "\"Removed 2 rows containing non-finite values (stat_count).\""
     ]
    },
    {
     "data": {
      "image/png": "[encoded data removed]",
      "text/plain": [
       "plot without title"
      ]
     },
     "metadata": {},
     "output_type": "display_data"
    }
   ],
   "source": [
    "plot.categoric('Utilities', df.combined)"
   ]
  },
  {
   "cell_type": "code",
   "execution_count": 46,
   "metadata": {},
   "outputs": [
    {
     "data": {
      "text/html": [
       "945"
      ],
      "text/latex": [
       "945"
      ],
      "text/markdown": [
       "945"
      ],
      "text/plain": [
       "[1] 945"
      ]
     },
     "metadata": {},
     "output_type": "display_data"
    }
   ],
   "source": [
    "# Utilites 의 polt을 확인해본 결과, NoSsWa 는 1개의 값을 가지고 모두 AllPub임을 알 수 있다.\n",
    "# 따라서 NoSeWa 의 1개 변수를 제거 \n",
    "# 그럼 모든 값이 AllPub이므로 이는 예측 모델링에 도움이 안됨. --> utilities 가 집값에 주는 영향이 없다고 판단. \n",
    "\n",
    "# NoSeWa 피처 삭제\n",
    "which(df.combined$Utilities == 'NoSeWa')\n",
    "col.drops <- c('Utilities')\n",
    "# utilites 변수 삭제\n",
    "df.combined <- df.combined[,!names(df.combined) %in% c('Utilities')]"
   ]
  },
  {
   "cell_type": "markdown",
   "metadata": {},
   "source": [
    "- ### MSZoning : The general zoing classification\n",
    "- ### MSSubClass: The building class"
   ]
  },
  {
   "cell_type": "code",
   "execution_count": 48,
   "metadata": {},
   "outputs": [
    {
     "data": {
      "text/html": [
       "<table>\n",
       "<thead><tr><th></th><th scope=col>MSZoning</th><th scope=col>MSSubClass</th></tr></thead>\n",
       "<tbody>\n",
       "\t<tr><th scope=row>1916</th><td>NA</td><td>30</td></tr>\n",
       "\t<tr><th scope=row>2217</th><td>NA</td><td>20</td></tr>\n",
       "\t<tr><th scope=row>2251</th><td>NA</td><td>70</td></tr>\n",
       "\t<tr><th scope=row>2905</th><td>NA</td><td>20</td></tr>\n",
       "</tbody>\n",
       "</table>\n"
      ],
      "text/latex": [
       "\\begin{tabular}{r|ll}\n",
       "  & MSZoning & MSSubClass\\\\\n",
       "\\hline\n",
       "\t1916 & NA & 30\\\\\n",
       "\t2217 & NA & 20\\\\\n",
       "\t2251 & NA & 70\\\\\n",
       "\t2905 & NA & 20\\\\\n",
       "\\end{tabular}\n"
      ],
      "text/markdown": [
       "\n",
       "| <!--/--> | MSZoning | MSSubClass | \n",
       "|---|---|---|---|\n",
       "| 1916 | NA | 30 | \n",
       "| 2217 | NA | 20 | \n",
       "| 2251 | NA | 70 | \n",
       "| 2905 | NA | 20 | \n",
       "\n",
       "\n"
      ],
      "text/plain": [
       "     MSZoning MSSubClass\n",
       "1916 NA       30        \n",
       "2217 NA       20        \n",
       "2251 NA       70        \n",
       "2905 NA       20        "
      ]
     },
     "metadata": {},
     "output_type": "display_data"
    }
   ],
   "source": [
    "df.combined[is.na(df.combined$MSZoning), c('MSZoning', 'MSSubClass')]"
   ]
  },
  {
   "cell_type": "code",
   "execution_count": 49,
   "metadata": {},
   "outputs": [
    {
     "name": "stderr",
     "output_type": "stream",
     "text": [
      "Warning message:\n",
      "\"Removed 4 rows containing non-finite values (stat_count).\"Warning message:\n",
      "\"Removed 4 rows containing non-finite values (stat_count).\"Warning message:\n",
      "\"Removed 4 rows containing non-finite values (stat_count).\""
     ]
    },
    {
     "data": {
      "image/png": "[encoded data removed]",
      "text/plain": [
       "plot without title"
      ]
     },
     "metadata": {},
     "output_type": "display_data"
    }
   ],
   "source": [
    "plot.categoric('MSZoning', df.combined)"
   ]
  },
  {
   "cell_type": "code",
   "execution_count": 51,
   "metadata": {},
   "outputs": [
    {
     "data": {
      "text/plain": [
       "         \n",
       "            20   30   40   45   50   60   70   75   80   85   90  120  150  160\n",
       "  C (all)    3    8    0    0    7    0    4    0    0    0    0    0    0    0\n",
       "  FV        34    0    0    0    0   43    0    0    0    0    0   19    0   43\n",
       "  RH         4    2    0    1    2    0    3    0    0    0    4    6    0    0\n",
       "  RL      1016   61    4    6  159  529   57    9  115   47   92  117    1   21\n",
       "  RM        20   67    2   11  119    3   63   14    3    1   13   40    0   64\n",
       "         \n",
       "           180  190\n",
       "  C (all)    0    3\n",
       "  FV         0    0\n",
       "  RH         0    4\n",
       "  RL         0   31\n",
       "  RM        17   23"
      ]
     },
     "metadata": {},
     "output_type": "display_data"
    }
   ],
   "source": [
    "# MSZoning 과 MSSubClass 관계확인\n",
    "table(df.combined$MSZoning, df.combined$MSSubClass)"
   ]
  },
  {
   "cell_type": "code",
   "execution_count": 52,
   "metadata": {},
   "outputs": [],
   "source": [
    "# MSSubClass 와 비교하여 MSZoning 의 결측치 처리\n",
    "df.combined$MSZoning[c(2217, 2905)] = 'RL'\n",
    "df.combined$MSZoning[c(1916, 2251)] = 'RM'"
   ]
  },
  {
   "cell_type": "markdown",
   "metadata": {},
   "source": [
    "- ### MasVnrType: Masonry veneer type(벽돌 베니어 타입)\n",
    "    - 24 missing values\n",
    "- ### MasVnrArea: Masonry veneer area in square feet\n",
    "    - 23 missing values"
   ]
  },
  {
   "cell_type": "code",
   "execution_count": 53,
   "metadata": {},
   "outputs": [
    {
     "data": {
      "text/html": [
       "<table>\n",
       "<thead><tr><th></th><th scope=col>MasVnrType</th><th scope=col>MasVnrArea</th></tr></thead>\n",
       "<tbody>\n",
       "\t<tr><th scope=row>235</th><td>NA </td><td> NA</td></tr>\n",
       "\t<tr><th scope=row>530</th><td>NA </td><td> NA</td></tr>\n",
       "\t<tr><th scope=row>651</th><td>NA </td><td> NA</td></tr>\n",
       "\t<tr><th scope=row>937</th><td>NA </td><td> NA</td></tr>\n",
       "\t<tr><th scope=row>974</th><td>NA </td><td> NA</td></tr>\n",
       "\t<tr><th scope=row>978</th><td>NA </td><td> NA</td></tr>\n",
       "\t<tr><th scope=row>1244</th><td>NA </td><td> NA</td></tr>\n",
       "\t<tr><th scope=row>1279</th><td>NA </td><td> NA</td></tr>\n",
       "\t<tr><th scope=row>1692</th><td>NA </td><td> NA</td></tr>\n",
       "\t<tr><th scope=row>1707</th><td>NA </td><td> NA</td></tr>\n",
       "\t<tr><th scope=row>1883</th><td>NA </td><td> NA</td></tr>\n",
       "\t<tr><th scope=row>1993</th><td>NA </td><td> NA</td></tr>\n",
       "\t<tr><th scope=row>2005</th><td>NA </td><td> NA</td></tr>\n",
       "\t<tr><th scope=row>2042</th><td>NA </td><td> NA</td></tr>\n",
       "\t<tr><th scope=row>2312</th><td>NA </td><td> NA</td></tr>\n",
       "\t<tr><th scope=row>2326</th><td>NA </td><td> NA</td></tr>\n",
       "\t<tr><th scope=row>2341</th><td>NA </td><td> NA</td></tr>\n",
       "\t<tr><th scope=row>2350</th><td>NA </td><td> NA</td></tr>\n",
       "\t<tr><th scope=row>2369</th><td>NA </td><td> NA</td></tr>\n",
       "\t<tr><th scope=row>2593</th><td>NA </td><td> NA</td></tr>\n",
       "\t<tr><th scope=row>2611</th><td>NA </td><td>198</td></tr>\n",
       "\t<tr><th scope=row>2658</th><td>NA </td><td> NA</td></tr>\n",
       "\t<tr><th scope=row>2687</th><td>NA </td><td> NA</td></tr>\n",
       "\t<tr><th scope=row>2863</th><td>NA </td><td> NA</td></tr>\n",
       "</tbody>\n",
       "</table>\n"
      ],
      "text/latex": [
       "\\begin{tabular}{r|ll}\n",
       "  & MasVnrType & MasVnrArea\\\\\n",
       "\\hline\n",
       "\t235 & NA  &  NA\\\\\n",
       "\t530 & NA  &  NA\\\\\n",
       "\t651 & NA  &  NA\\\\\n",
       "\t937 & NA  &  NA\\\\\n",
       "\t974 & NA  &  NA\\\\\n",
       "\t978 & NA  &  NA\\\\\n",
       "\t1244 & NA  &  NA\\\\\n",
       "\t1279 & NA  &  NA\\\\\n",
       "\t1692 & NA  &  NA\\\\\n",
       "\t1707 & NA  &  NA\\\\\n",
       "\t1883 & NA  &  NA\\\\\n",
       "\t1993 & NA  &  NA\\\\\n",
       "\t2005 & NA  &  NA\\\\\n",
       "\t2042 & NA  &  NA\\\\\n",
       "\t2312 & NA  &  NA\\\\\n",
       "\t2326 & NA  &  NA\\\\\n",
       "\t2341 & NA  &  NA\\\\\n",
       "\t2350 & NA  &  NA\\\\\n",
       "\t2369 & NA  &  NA\\\\\n",
       "\t2593 & NA  &  NA\\\\\n",
       "\t2611 & NA  & 198\\\\\n",
       "\t2658 & NA  &  NA\\\\\n",
       "\t2687 & NA  &  NA\\\\\n",
       "\t2863 & NA  &  NA\\\\\n",
       "\\end{tabular}\n"
      ],
      "text/markdown": [
       "\n",
       "| <!--/--> | MasVnrType | MasVnrArea | \n",
       "|---|---|---|---|---|---|---|---|---|---|---|---|---|---|---|---|---|---|---|---|---|---|---|---|\n",
       "| 235 | NA  |  NA | \n",
       "| 530 | NA  |  NA | \n",
       "| 651 | NA  |  NA | \n",
       "| 937 | NA  |  NA | \n",
       "| 974 | NA  |  NA | \n",
       "| 978 | NA  |  NA | \n",
       "| 1244 | NA  |  NA | \n",
       "| 1279 | NA  |  NA | \n",
       "| 1692 | NA  |  NA | \n",
       "| 1707 | NA  |  NA | \n",
       "| 1883 | NA  |  NA | \n",
       "| 1993 | NA  |  NA | \n",
       "| 2005 | NA  |  NA | \n",
       "| 2042 | NA  |  NA | \n",
       "| 2312 | NA  |  NA | \n",
       "| 2326 | NA  |  NA | \n",
       "| 2341 | NA  |  NA | \n",
       "| 2350 | NA  |  NA | \n",
       "| 2369 | NA  |  NA | \n",
       "| 2593 | NA  |  NA | \n",
       "| 2611 | NA  | 198 | \n",
       "| 2658 | NA  |  NA | \n",
       "| 2687 | NA  |  NA | \n",
       "| 2863 | NA  |  NA | \n",
       "\n",
       "\n"
      ],
      "text/plain": [
       "     MasVnrType MasVnrArea\n",
       "235  NA          NA       \n",
       "530  NA          NA       \n",
       "651  NA          NA       \n",
       "937  NA          NA       \n",
       "974  NA          NA       \n",
       "978  NA          NA       \n",
       "1244 NA          NA       \n",
       "1279 NA          NA       \n",
       "1692 NA          NA       \n",
       "1707 NA          NA       \n",
       "1883 NA          NA       \n",
       "1993 NA          NA       \n",
       "2005 NA          NA       \n",
       "2042 NA          NA       \n",
       "2312 NA          NA       \n",
       "2326 NA          NA       \n",
       "2341 NA          NA       \n",
       "2350 NA          NA       \n",
       "2369 NA          NA       \n",
       "2593 NA          NA       \n",
       "2611 NA         198       \n",
       "2658 NA          NA       \n",
       "2687 NA          NA       \n",
       "2863 NA          NA       "
      ]
     },
     "metadata": {},
     "output_type": "display_data"
    }
   ],
   "source": [
    "df.combined[(is.na(df.combined$MasVnrType)) | (is.na(df.combined$MasVnrArea)), c('MasVnrType', 'MasVnrArea')]"
   ]
  },
  {
   "cell_type": "code",
   "execution_count": 67,
   "metadata": {},
   "outputs": [
    {
     "name": "stdout",
     "output_type": "stream",
     "text": [
      " *na.omit : object에 NA가 포함되어 있으면 이를 제외"
     ]
    },
    {
     "data": {
      "text/html": [
       "<table>\n",
       "<thead><tr><th scope=col>na.omit(MasVnrType)</th><th scope=col>MedianArea</th><th scope=col>counts</th></tr></thead>\n",
       "<tbody>\n",
       "\t<tr><td>None   </td><td>  0    </td><td>1765   </td></tr>\n",
       "\t<tr><td>BrkCmn </td><td>161    </td><td>  25   </td></tr>\n",
       "\t<tr><td>Stone  </td><td>200    </td><td> 249   </td></tr>\n",
       "\t<tr><td>BrkFace</td><td>203    </td><td> 880   </td></tr>\n",
       "</tbody>\n",
       "</table>\n"
      ],
      "text/latex": [
       "\\begin{tabular}{r|lll}\n",
       " na.omit(MasVnrType) & MedianArea & counts\\\\\n",
       "\\hline\n",
       "\t None    &   0     & 1765   \\\\\n",
       "\t BrkCmn  & 161     &   25   \\\\\n",
       "\t Stone   & 200     &  249   \\\\\n",
       "\t BrkFace & 203     &  880   \\\\\n",
       "\\end{tabular}\n"
      ],
      "text/markdown": [
       "\n",
       "na.omit(MasVnrType) | MedianArea | counts | \n",
       "|---|---|---|---|\n",
       "| None    |   0     | 1765    | \n",
       "| BrkCmn  | 161     |   25    | \n",
       "| Stone   | 200     |  249    | \n",
       "| BrkFace | 203     |  880    | \n",
       "\n",
       "\n"
      ],
      "text/plain": [
       "  na.omit(MasVnrType) MedianArea counts\n",
       "1 None                  0        1765  \n",
       "2 BrkCmn              161          25  \n",
       "3 Stone               200         249  \n",
       "4 BrkFace             203         880  "
      ]
     },
     "metadata": {},
     "output_type": "display_data"
    }
   ],
   "source": [
    "# MasVnrType 범위에 따른 MasVnrArea의 중위값과 counts\n",
    "# group_by(na.omit(MasVnrType))\n",
    "cat(\" *na.omit : object에 NA가 포함되어 있으면 이를 제외\")\n",
    "na.omit(df.combined[,c('MasVnrType','MasVnrArea')]) %>%\n",
    "  group_by(na.omit(MasVnrType)) %>%\n",
    "  summarise(MedianArea = median(MasVnrArea,na.rm = TRUE), counts = n()) %>%\n",
    "  arrange(MedianArea)"
   ]
  },
  {
   "cell_type": "code",
   "execution_count": 60,
   "metadata": {},
   "outputs": [],
   "source": [
    "df.combined[2611, 'MasVnrType'] = 'BrkFace'"
   ]
  },
  {
   "cell_type": "code",
   "execution_count": 62,
   "metadata": {},
   "outputs": [],
   "source": [
    "# 두 변수의 결측치를 각각 None 과 0 으로 처리 --> 결측치 자체를 벽돌 베니어가 없다고 가정\n",
    "df.combined$MasVnrType[is.na(df.combined$MasVnrType)] = 'None'\n",
    "df.combined$MasVnrArea[is.na(df.combined$MasVnrArea)] = 0"
   ]
  },
  {
   "cell_type": "markdown",
   "metadata": {},
   "source": [
    "- ### LotFrontage: Linear feet of street connected to property\n",
    "    - 486 missing values\n",
    "    - missing value를 다 0 으로 처리하지 못한다. --> neighborhood와 관련하여 결측값 처리"
   ]
  },
  {
   "cell_type": "code",
   "execution_count": 69,
   "metadata": {},
   "outputs": [
    {
     "data": {
      "text/html": [
       "<table>\n",
       "<thead><tr><th scope=col>Neighborhood</th><th scope=col>median</th></tr></thead>\n",
       "<tbody>\n",
       "\t<tr><td>Blmngtn</td><td>43.0   </td></tr>\n",
       "\t<tr><td>Blueste</td><td>24.0   </td></tr>\n",
       "\t<tr><td>BrDale </td><td>21.0   </td></tr>\n",
       "\t<tr><td>BrkSide</td><td>51.0   </td></tr>\n",
       "\t<tr><td>ClearCr</td><td>80.5   </td></tr>\n",
       "\t<tr><td>CollgCr</td><td>70.0   </td></tr>\n",
       "\t<tr><td>Crawfor</td><td>70.0   </td></tr>\n",
       "\t<tr><td>Edwards</td><td>65.0   </td></tr>\n",
       "\t<tr><td>Gilbert</td><td>64.0   </td></tr>\n",
       "\t<tr><td>IDOTRR </td><td>60.0   </td></tr>\n",
       "\t<tr><td>MeadowV</td><td>21.0   </td></tr>\n",
       "\t<tr><td>Mitchel</td><td>74.0   </td></tr>\n",
       "\t<tr><td>NAmes  </td><td>73.0   </td></tr>\n",
       "\t<tr><td>NoRidge</td><td>89.0   </td></tr>\n",
       "\t<tr><td>NPkVill</td><td>24.0   </td></tr>\n",
       "\t<tr><td>NridgHt</td><td>92.0   </td></tr>\n",
       "\t<tr><td>NWAmes </td><td>80.0   </td></tr>\n",
       "\t<tr><td>OldTown</td><td>60.0   </td></tr>\n",
       "\t<tr><td>Sawyer </td><td>72.0   </td></tr>\n",
       "\t<tr><td>SawyerW</td><td>67.0   </td></tr>\n",
       "\t<tr><td>Somerst</td><td>72.5   </td></tr>\n",
       "\t<tr><td>StoneBr</td><td>60.0   </td></tr>\n",
       "\t<tr><td>SWISU  </td><td>60.0   </td></tr>\n",
       "\t<tr><td>Timber </td><td>82.0   </td></tr>\n",
       "\t<tr><td>Veenker</td><td>80.0   </td></tr>\n",
       "</tbody>\n",
       "</table>\n"
      ],
      "text/latex": [
       "\\begin{tabular}{r|ll}\n",
       " Neighborhood & median\\\\\n",
       "\\hline\n",
       "\t Blmngtn & 43.0   \\\\\n",
       "\t Blueste & 24.0   \\\\\n",
       "\t BrDale  & 21.0   \\\\\n",
       "\t BrkSide & 51.0   \\\\\n",
       "\t ClearCr & 80.5   \\\\\n",
       "\t CollgCr & 70.0   \\\\\n",
       "\t Crawfor & 70.0   \\\\\n",
       "\t Edwards & 65.0   \\\\\n",
       "\t Gilbert & 64.0   \\\\\n",
       "\t IDOTRR  & 60.0   \\\\\n",
       "\t MeadowV & 21.0   \\\\\n",
       "\t Mitchel & 74.0   \\\\\n",
       "\t NAmes   & 73.0   \\\\\n",
       "\t NoRidge & 89.0   \\\\\n",
       "\t NPkVill & 24.0   \\\\\n",
       "\t NridgHt & 92.0   \\\\\n",
       "\t NWAmes  & 80.0   \\\\\n",
       "\t OldTown & 60.0   \\\\\n",
       "\t Sawyer  & 72.0   \\\\\n",
       "\t SawyerW & 67.0   \\\\\n",
       "\t Somerst & 72.5   \\\\\n",
       "\t StoneBr & 60.0   \\\\\n",
       "\t SWISU   & 60.0   \\\\\n",
       "\t Timber  & 82.0   \\\\\n",
       "\t Veenker & 80.0   \\\\\n",
       "\\end{tabular}\n"
      ],
      "text/markdown": [
       "\n",
       "Neighborhood | median | \n",
       "|---|---|---|---|---|---|---|---|---|---|---|---|---|---|---|---|---|---|---|---|---|---|---|---|---|\n",
       "| Blmngtn | 43.0    | \n",
       "| Blueste | 24.0    | \n",
       "| BrDale  | 21.0    | \n",
       "| BrkSide | 51.0    | \n",
       "| ClearCr | 80.5    | \n",
       "| CollgCr | 70.0    | \n",
       "| Crawfor | 70.0    | \n",
       "| Edwards | 65.0    | \n",
       "| Gilbert | 64.0    | \n",
       "| IDOTRR  | 60.0    | \n",
       "| MeadowV | 21.0    | \n",
       "| Mitchel | 74.0    | \n",
       "| NAmes   | 73.0    | \n",
       "| NoRidge | 89.0    | \n",
       "| NPkVill | 24.0    | \n",
       "| NridgHt | 92.0    | \n",
       "| NWAmes  | 80.0    | \n",
       "| OldTown | 60.0    | \n",
       "| Sawyer  | 72.0    | \n",
       "| SawyerW | 67.0    | \n",
       "| Somerst | 72.5    | \n",
       "| StoneBr | 60.0    | \n",
       "| SWISU   | 60.0    | \n",
       "| Timber  | 82.0    | \n",
       "| Veenker | 80.0    | \n",
       "\n",
       "\n"
      ],
      "text/plain": [
       "   Neighborhood median\n",
       "1  Blmngtn      43.0  \n",
       "2  Blueste      24.0  \n",
       "3  BrDale       21.0  \n",
       "4  BrkSide      51.0  \n",
       "5  ClearCr      80.5  \n",
       "6  CollgCr      70.0  \n",
       "7  Crawfor      70.0  \n",
       "8  Edwards      65.0  \n",
       "9  Gilbert      64.0  \n",
       "10 IDOTRR       60.0  \n",
       "11 MeadowV      21.0  \n",
       "12 Mitchel      74.0  \n",
       "13 NAmes        73.0  \n",
       "14 NoRidge      89.0  \n",
       "15 NPkVill      24.0  \n",
       "16 NridgHt      92.0  \n",
       "17 NWAmes       80.0  \n",
       "18 OldTown      60.0  \n",
       "19 Sawyer       72.0  \n",
       "20 SawyerW      67.0  \n",
       "21 Somerst      72.5  \n",
       "22 StoneBr      60.0  \n",
       "23 SWISU        60.0  \n",
       "24 Timber       82.0  \n",
       "25 Veenker      80.0  "
      ]
     },
     "metadata": {},
     "output_type": "display_data"
    }
   ],
   "source": [
    "# Neighborhood 변수에 따른 LotFrontage 의 중앙값 \n",
    "\n",
    "#df.combined['Nbrh.factor'] <- factor(df.combined$Neighborhood, levels = unique(df.combined$Neighborhood))\n",
    "lot.by.nbrh <- df.combined[,c('Neighborhood','LotFrontage')] %>%\n",
    "  group_by(Neighborhood) %>%\n",
    "  summarise(median = median(LotFrontage, na.rm = TRUE))\n",
    "lot.by.nbrh\n",
    "\n",
    "# LotFrontage 의 결측값 index가져오기\n",
    "# Neighborhood[index] 값의 중앙값(Lotfrontage)을 불러와 결측치 처리\n",
    "idx = which(is.na(df.combined$LotFrontage))\n",
    "for( i in idx){\n",
    "    # \n",
    "    lot.median <- lot.by.nbrh[lot.by.nbrh == df.combined$Neighborhood[i], 'median']\n",
    "    df.combined[i, 'LotFrontage'] <- lot.median[[1]]\n",
    "}"
   ]
  },
  {
   "cell_type": "markdown",
   "metadata": {},
   "source": [
    "- ### Fence: Fence quality\n",
    "    - 2348 missing value\n",
    "- ### MiscFeature \n",
    "    - 2814 missing value"
   ]
  },
  {
   "cell_type": "code",
   "execution_count": 71,
   "metadata": {},
   "outputs": [
    {
     "name": "stderr",
     "output_type": "stream",
     "text": [
      "Warning message:\n",
      "\"Removed 2348 rows containing non-finite values (stat_count).\"Warning message:\n",
      "\"Removed 2348 rows containing non-finite values (stat_count).\"Warning message:\n",
      "\"Removed 2348 rows containing non-finite values (stat_count).\""
     ]
    },
    {
     "data": {
      "image/png": "[encoded data removed]",
      "text/plain": [
       "plot without title"
      ]
     },
     "metadata": {},
     "output_type": "display_data"
    }
   ],
   "source": [
    "# fence 의 결측치 'none' 으로 처리\n",
    "plot.categoric('Fence', df.combined)\n",
    "df.combined$Fence[is.na(df.combined$Fence)] = 'None'"
   ]
  },
  {
   "cell_type": "code",
   "execution_count": 72,
   "metadata": {},
   "outputs": [
    {
     "data": {
      "text/plain": [
       "\n",
       "Gar2 Othr Shed TenC \n",
       "   5    4   95    1 "
      ]
     },
     "metadata": {},
     "output_type": "display_data"
    }
   ],
   "source": [
    "# miscFeature 결측치 'none'으로 처리\n",
    "table(df.combined$MiscFeature)\n",
    "df.combined$MiscFeature[is.na(df.combined$MiscFeature)] = 'None'"
   ]
  },
  {
   "cell_type": "markdown",
   "metadata": {},
   "source": [
    "- ### Fireplaces: Number of fireplaces\n",
    "- ### FireplaceQu: Fireplace quality\n",
    "    - 1420 missing values"
   ]
  },
  {
   "cell_type": "code",
   "execution_count": 73,
   "metadata": {},
   "outputs": [
    {
     "name": "stderr",
     "output_type": "stream",
     "text": [
      "Warning message:\n",
      "\"Removed 1420 rows containing non-finite values (stat_count).\"Warning message:\n",
      "\"Removed 1420 rows containing non-finite values (stat_count).\"Warning message:\n",
      "\"Removed 1420 rows containing non-finite values (stat_count).\""
     ]
    },
    {
     "data": {
      "image/png": "[encoded data removed]",
      "text/plain": [
       "plot without title"
      ]
     },
     "metadata": {},
     "output_type": "display_data"
    }
   ],
   "source": [
    "plot.categoric('FireplaceQu', df.combined)"
   ]
  },
  {
   "cell_type": "code",
   "execution_count": 76,
   "metadata": {},
   "outputs": [
    {
     "data": {
      "text/html": [],
      "text/latex": [],
      "text/markdown": [],
      "text/plain": [
       "integer(0)"
      ]
     },
     "metadata": {},
     "output_type": "display_data"
    }
   ],
   "source": [
    "# fireplace 가 1개 이상인 경우엔 fireplaceQu의 결측치가 없다 -> 벽난로가 없을 때, fireplaceQual 이 NA\n",
    "which((df.combined$Fireplaces > 0) & (is.na(df.combined$FireplaceQu)))\n",
    "df.combined$FireplaceQu[is.na(df.combined$FireplaceQu)] = 'None'"
   ]
  },
  {
   "cell_type": "markdown",
   "metadata": {},
   "source": [
    "- ### Alley: Type of alley access (골목길의 종류)\n",
    "    - 2721 missing values"
   ]
  },
  {
   "cell_type": "code",
   "execution_count": 78,
   "metadata": {},
   "outputs": [
    {
     "name": "stderr",
     "output_type": "stream",
     "text": [
      "Warning message:\n",
      "\"Removed 2721 rows containing non-finite values (stat_count).\"Warning message:\n",
      "\"Removed 2721 rows containing non-finite values (stat_count).\"Warning message:\n",
      "\"Removed 2721 rows containing non-finite values (stat_count).\""
     ]
    },
    {
     "data": {
      "image/png": "[encoded data removed]",
      "text/plain": [
       "plot without title"
      ]
     },
     "metadata": {},
     "output_type": "display_data"
    }
   ],
   "source": [
    "# 많은 결측치 -> alley 의 범주는 2개 , na 값은 alley 가없다라고 가정 -> 'none'\n",
    "plot.categoric('Alley', df.combined)\n",
    "df.combined$Alley[is.na(df.combined$Alley)] = 'None'"
   ]
  },
  {
   "cell_type": "code",
   "execution_count": 79,
   "metadata": {},
   "outputs": [],
   "source": [
    "df.combined$Alley[is.na(df.combined$Alley)] = 'None'"
   ]
  },
  {
   "cell_type": "code",
   "execution_count": 80,
   "metadata": {},
   "outputs": [
    {
     "data": {
      "text/html": [
       "'There are 0 missing values left'"
      ],
      "text/latex": [
       "'There are 0 missing values left'"
      ],
      "text/markdown": [
       "'There are 0 missing values left'"
      ],
      "text/plain": [
       "[1] \"There are 0 missing values left\""
      ]
     },
     "metadata": {},
     "output_type": "display_data"
    }
   ],
   "source": [
    "# 결측치 처리 다했는지 확인\n",
    "paste('There are', sum(sapply(df.combined, is.na)), 'missing values left')"
   ]
  },
  {
   "cell_type": "markdown",
   "metadata": {},
   "source": [
    "# Adding custom numeric features\n",
    "    - data set -> numeric set + categoric set\n",
    "    - 많은 정보를 유지하기 위해 numeric values로 변환\n",
    "    - categoric --> one-hot encoding --> binary features"
   ]
  },
  {
   "cell_type": "code",
   "execution_count": 81,
   "metadata": {},
   "outputs": [],
   "source": [
    "# data set을 2개로 나눔\n",
    "num_features <- names(which(sapply(df.combined, is.numeric)))\n",
    "cat_features <- names(which(sapply(df.combined, is.character)))\n",
    "\n",
    "# numeric 변수들을 새로운 데이터 프레임으로 만듦\n",
    "df.numeric <- df.combined[num_features]"
   ]
  },
  {
   "cell_type": "code",
   "execution_count": 83,
   "metadata": {},
   "outputs": [],
   "source": [
    "# train data set을 따로 group.df\n",
    "group.df <- df.combined[1:1460,]\n",
    "group.df$SalePrice <- train$SalePrice"
   ]
  },
  {
   "cell_type": "markdown",
   "metadata": {},
   "source": [
    "## Converting Categoric values to Numeric values Process"
   ]
  },
  {
   "cell_type": "code",
   "execution_count": 96,
   "metadata": {},
   "outputs": [],
   "source": [
    "# ** 다시 확인할 것\n",
    "# function that groups a column by its features and returns the mdedian saleprice for each unique feature. \n",
    "group.prices <- function(col) {\n",
    "  group.table <- group.df[,c(col, 'SalePrice', 'OverallQual')] %>%\n",
    "    group_by_(col) %>%\n",
    "    summarise(mean.Quality = round(mean(OverallQual),2),\n",
    "      mean.Price = mean(SalePrice), n = n()) %>%\n",
    "    arrange(mean.Quality)\n",
    "    \n",
    "  print(qplot(x=reorder(group.table[[col]], -group.table[['mean.Price']]), y=group.table[['mean.Price']]) +\n",
    "    geom_bar(stat='identity', fill='cornflowerblue') +\n",
    "    theme_minimal() +\n",
    "    scale_y_continuous(labels = dollar) +\n",
    "    labs(x=col, y='Mean SalePrice') +\n",
    "    theme(axis.text.x = element_text(angle = 45)))\n",
    "  \n",
    "  return(data.frame(group.table))\n",
    "}\n",
    "\n",
    "## functional to compute the mean overall quality for each quality\n",
    "quality.mean <- function(col) {\n",
    "  group.table <- df.combined[,c(col, 'OverallQual')] %>%\n",
    "    group_by_(col) %>%\n",
    "    summarise(mean.qual = mean(OverallQual)) %>%\n",
    "    arrange(mean.qual)\n",
    "  \n",
    "  return(data.frame(group.table))\n",
    "}\n",
    "\n",
    "\n",
    "# function that maps a categoric value to its corresponding numeric value and returns that column to the data frame\n",
    "map.fcn <- function(cols, map.list, df){\n",
    "  for (col in cols){\n",
    "    df[col] <- as.numeric(map.list[df.combined[,col]])\n",
    "  }\n",
    "  return(df)\n",
    "}"
   ]
  },
  {
   "cell_type": "code",
   "execution_count": 97,
   "metadata": {},
   "outputs": [],
   "source": [
    "# 컬럼명에 'Qual', ' Cond' 가 있는 컬럼 --> 특정 품질or 조건 --> 순서가 있다.\n",
    "# Ex = 5, GD = 4, TA = 3, Fa = 2, Po = 1, None = 0 (categoric->numeric)\n",
    "\n",
    "qual.cols <- c('ExterQual', 'ExterCond', 'GarageQual', 'GarageCond', 'FireplaceQu', 'KitchenQual', 'HeatingQC', 'BsmtQual')"
   ]
  },
  {
   "cell_type": "markdown",
   "metadata": {},
   "source": [
    "- ### \"FireplaceQu\" 의 특징 및 SalePrice 간의 관계"
   ]
  },
  {
   "cell_type": "code",
   "execution_count": 88,
   "metadata": {},
   "outputs": [
    {
     "data": {
      "text/html": [
       "<table>\n",
       "<thead><tr><th scope=col>FireplaceQu</th><th scope=col>mean.Quality</th><th scope=col>mean.Price</th><th scope=col>n</th></tr></thead>\n",
       "<tbody>\n",
       "\t<tr><td>Po      </td><td>4.95    </td><td>129764.1</td><td> 20     </td></tr>\n",
       "\t<tr><td>None    </td><td>5.46    </td><td>141331.5</td><td>690     </td></tr>\n",
       "\t<tr><td>Fa      </td><td>5.76    </td><td>167298.5</td><td> 33     </td></tr>\n",
       "\t<tr><td>TA      </td><td>6.48    </td><td>205723.5</td><td>313     </td></tr>\n",
       "\t<tr><td>Gd      </td><td>6.89    </td><td>226351.4</td><td>380     </td></tr>\n",
       "\t<tr><td>Ex      </td><td>8.38    </td><td>337712.5</td><td> 24     </td></tr>\n",
       "</tbody>\n",
       "</table>\n"
      ],
      "text/latex": [
       "\\begin{tabular}{r|llll}\n",
       " FireplaceQu & mean.Quality & mean.Price & n\\\\\n",
       "\\hline\n",
       "\t Po       & 4.95     & 129764.1 &  20     \\\\\n",
       "\t None     & 5.46     & 141331.5 & 690     \\\\\n",
       "\t Fa       & 5.76     & 167298.5 &  33     \\\\\n",
       "\t TA       & 6.48     & 205723.5 & 313     \\\\\n",
       "\t Gd       & 6.89     & 226351.4 & 380     \\\\\n",
       "\t Ex       & 8.38     & 337712.5 &  24     \\\\\n",
       "\\end{tabular}\n"
      ],
      "text/markdown": [
       "\n",
       "FireplaceQu | mean.Quality | mean.Price | n | \n",
       "|---|---|---|---|---|---|\n",
       "| Po       | 4.95     | 129764.1 |  20      | \n",
       "| None     | 5.46     | 141331.5 | 690      | \n",
       "| Fa       | 5.76     | 167298.5 |  33      | \n",
       "| TA       | 6.48     | 205723.5 | 313      | \n",
       "| Gd       | 6.89     | 226351.4 | 380      | \n",
       "| Ex       | 8.38     | 337712.5 |  24      | \n",
       "\n",
       "\n"
      ],
      "text/plain": [
       "  FireplaceQu mean.Quality mean.Price n  \n",
       "1 Po          4.95         129764.1    20\n",
       "2 None        5.46         141331.5   690\n",
       "3 Fa          5.76         167298.5    33\n",
       "4 TA          6.48         205723.5   313\n",
       "5 Gd          6.89         226351.4   380\n",
       "6 Ex          8.38         337712.5    24"
      ]
     },
     "metadata": {},
     "output_type": "display_data"
    },
    {
     "data": {
      "image/png": "[encoded data removed]",
      "text/plain": [
       "plot without title"
      ]
     },
     "metadata": {},
     "output_type": "display_data"
    }
   ],
   "source": [
    "group.prices('FireplaceQu')"
   ]
  },
  {
   "cell_type": "markdown",
   "metadata": {},
   "source": [
    "- ### \"BsmtQual\" 의 특징 및 SalePrice 간의 관계"
   ]
  },
  {
   "cell_type": "code",
   "execution_count": 89,
   "metadata": {},
   "outputs": [
    {
     "data": {
      "text/html": [
       "<table>\n",
       "<thead><tr><th scope=col>BsmtQual</th><th scope=col>mean.Quality</th><th scope=col>mean.Price</th><th scope=col>n</th></tr></thead>\n",
       "<tbody>\n",
       "\t<tr><td>None    </td><td>4.30    </td><td>105652.9</td><td> 37     </td></tr>\n",
       "\t<tr><td>Fa      </td><td>4.89    </td><td>115692.0</td><td> 35     </td></tr>\n",
       "\t<tr><td>TA      </td><td>5.33    </td><td>140759.8</td><td>649     </td></tr>\n",
       "\t<tr><td>Gd      </td><td>6.66    </td><td>202688.5</td><td>618     </td></tr>\n",
       "\t<tr><td>Ex      </td><td>8.26    </td><td>327041.0</td><td>121     </td></tr>\n",
       "</tbody>\n",
       "</table>\n"
      ],
      "text/latex": [
       "\\begin{tabular}{r|llll}\n",
       " BsmtQual & mean.Quality & mean.Price & n\\\\\n",
       "\\hline\n",
       "\t None     & 4.30     & 105652.9 &  37     \\\\\n",
       "\t Fa       & 4.89     & 115692.0 &  35     \\\\\n",
       "\t TA       & 5.33     & 140759.8 & 649     \\\\\n",
       "\t Gd       & 6.66     & 202688.5 & 618     \\\\\n",
       "\t Ex       & 8.26     & 327041.0 & 121     \\\\\n",
       "\\end{tabular}\n"
      ],
      "text/markdown": [
       "\n",
       "BsmtQual | mean.Quality | mean.Price | n | \n",
       "|---|---|---|---|---|\n",
       "| None     | 4.30     | 105652.9 |  37      | \n",
       "| Fa       | 4.89     | 115692.0 |  35      | \n",
       "| TA       | 5.33     | 140759.8 | 649      | \n",
       "| Gd       | 6.66     | 202688.5 | 618      | \n",
       "| Ex       | 8.26     | 327041.0 | 121      | \n",
       "\n",
       "\n"
      ],
      "text/plain": [
       "  BsmtQual mean.Quality mean.Price n  \n",
       "1 None     4.30         105652.9    37\n",
       "2 Fa       4.89         115692.0    35\n",
       "3 TA       5.33         140759.8   649\n",
       "4 Gd       6.66         202688.5   618\n",
       "5 Ex       8.26         327041.0   121"
      ]
     },
     "metadata": {},
     "output_type": "display_data"
    },
    {
     "data": {
      "image/png": "[encoded data removed]",
      "text/plain": [
       "plot without title"
      ]
     },
     "metadata": {},
     "output_type": "display_data"
    }
   ],
   "source": [
    "group.prices('BsmtQual')"
   ]
  },
  {
   "cell_type": "markdown",
   "metadata": {},
   "source": [
    "- ### \"KitchenQual\" 의 특징 및 SalePrice 간의 관계"
   ]
  },
  {
   "cell_type": "code",
   "execution_count": 90,
   "metadata": {},
   "outputs": [
    {
     "data": {
      "text/html": [
       "<table>\n",
       "<thead><tr><th scope=col>KitchenQual</th><th scope=col>mean.Quality</th><th scope=col>mean.Price</th><th scope=col>n</th></tr></thead>\n",
       "<tbody>\n",
       "\t<tr><td>Fa      </td><td>4.49    </td><td>105565.2</td><td> 39     </td></tr>\n",
       "\t<tr><td>TA      </td><td>5.34    </td><td>139962.5</td><td>735     </td></tr>\n",
       "\t<tr><td>Gd      </td><td>6.79    </td><td>212116.0</td><td>586     </td></tr>\n",
       "\t<tr><td>Ex      </td><td>8.27    </td><td>328554.7</td><td>100     </td></tr>\n",
       "</tbody>\n",
       "</table>\n"
      ],
      "text/latex": [
       "\\begin{tabular}{r|llll}\n",
       " KitchenQual & mean.Quality & mean.Price & n\\\\\n",
       "\\hline\n",
       "\t Fa       & 4.49     & 105565.2 &  39     \\\\\n",
       "\t TA       & 5.34     & 139962.5 & 735     \\\\\n",
       "\t Gd       & 6.79     & 212116.0 & 586     \\\\\n",
       "\t Ex       & 8.27     & 328554.7 & 100     \\\\\n",
       "\\end{tabular}\n"
      ],
      "text/markdown": [
       "\n",
       "KitchenQual | mean.Quality | mean.Price | n | \n",
       "|---|---|---|---|\n",
       "| Fa       | 4.49     | 105565.2 |  39      | \n",
       "| TA       | 5.34     | 139962.5 | 735      | \n",
       "| Gd       | 6.79     | 212116.0 | 586      | \n",
       "| Ex       | 8.27     | 328554.7 | 100      | \n",
       "\n",
       "\n"
      ],
      "text/plain": [
       "  KitchenQual mean.Quality mean.Price n  \n",
       "1 Fa          4.49         105565.2    39\n",
       "2 TA          5.34         139962.5   735\n",
       "3 Gd          6.79         212116.0   586\n",
       "4 Ex          8.27         328554.7   100"
      ]
     },
     "metadata": {},
     "output_type": "display_data"
    },
    {
     "data": {
      "image/png": "[encoded data removed]",
      "text/plain": [
       "plot without title"
      ]
     },
     "metadata": {},
     "output_type": "display_data"
    }
   ],
   "source": [
    "group.prices('KitchenQual')"
   ]
  },
  {
   "cell_type": "code",
   "execution_count": 93,
   "metadata": {},
   "outputs": [],
   "source": [
    "# 품질/조건 이 있는 categoric 변수를 numeric으로 변환  \n",
    "qual.list <- c('None' = 0, 'Po' = 1, 'Fa' = 2, 'TA' = 3, 'Gd' = 4, 'Ex' = 5)\n",
    "\n",
    "# qual.cols : qual, cond 가 들어가 있는 변수 \n",
    "# qual.list : 0~5 의 변환값\n",
    "# df.numeric : categoric 에서 numeric으로 변환된 col을 numeric 변수들로 만들었던 df.numeric에 추가\n",
    "df.numeric <- map.fcn(qual.cols, qual.list, df.numeric)"
   ]
  },
  {
   "cell_type": "markdown",
   "metadata": {},
   "source": [
    "- ### \"BsmtExposure\" 의 특징 및 SalePrice 간의 관계"
   ]
  },
  {
   "cell_type": "code",
   "execution_count": 94,
   "metadata": {},
   "outputs": [
    {
     "data": {
      "text/html": [
       "<table>\n",
       "<thead><tr><th scope=col>BsmtExposure</th><th scope=col>mean.Quality</th><th scope=col>mean.Price</th><th scope=col>n</th></tr></thead>\n",
       "<tbody>\n",
       "\t<tr><td>None    </td><td>4.30    </td><td>105652.9</td><td> 37     </td></tr>\n",
       "\t<tr><td>No      </td><td>5.92    </td><td>165680.4</td><td>954     </td></tr>\n",
       "\t<tr><td>Mn      </td><td>6.25    </td><td>192789.7</td><td>114     </td></tr>\n",
       "\t<tr><td>Av      </td><td>6.57    </td><td>206643.4</td><td>221     </td></tr>\n",
       "\t<tr><td>Gd      </td><td>6.96    </td><td>257689.8</td><td>134     </td></tr>\n",
       "</tbody>\n",
       "</table>\n"
      ],
      "text/latex": [
       "\\begin{tabular}{r|llll}\n",
       " BsmtExposure & mean.Quality & mean.Price & n\\\\\n",
       "\\hline\n",
       "\t None     & 4.30     & 105652.9 &  37     \\\\\n",
       "\t No       & 5.92     & 165680.4 & 954     \\\\\n",
       "\t Mn       & 6.25     & 192789.7 & 114     \\\\\n",
       "\t Av       & 6.57     & 206643.4 & 221     \\\\\n",
       "\t Gd       & 6.96     & 257689.8 & 134     \\\\\n",
       "\\end{tabular}\n"
      ],
      "text/markdown": [
       "\n",
       "BsmtExposure | mean.Quality | mean.Price | n | \n",
       "|---|---|---|---|---|\n",
       "| None     | 4.30     | 105652.9 |  37      | \n",
       "| No       | 5.92     | 165680.4 | 954      | \n",
       "| Mn       | 6.25     | 192789.7 | 114      | \n",
       "| Av       | 6.57     | 206643.4 | 221      | \n",
       "| Gd       | 6.96     | 257689.8 | 134      | \n",
       "\n",
       "\n"
      ],
      "text/plain": [
       "  BsmtExposure mean.Quality mean.Price n  \n",
       "1 None         4.30         105652.9    37\n",
       "2 No           5.92         165680.4   954\n",
       "3 Mn           6.25         192789.7   114\n",
       "4 Av           6.57         206643.4   221\n",
       "5 Gd           6.96         257689.8   134"
      ]
     },
     "metadata": {},
     "output_type": "display_data"
    },
    {
     "data": {
      "image/png": "[encoded data removed]",
      "text/plain": [
       "plot without title"
      ]
     },
     "metadata": {},
     "output_type": "display_data"
    }
   ],
   "source": [
    "group.prices('BsmtExposure')"
   ]
  },
  {
   "cell_type": "code",
   "execution_count": 95,
   "metadata": {},
   "outputs": [],
   "source": [
    "# bamtExposure도 qual/cond 와 마찬가지로 salePrice 와 관계를 파악하여 변환했음.\n",
    "bsmt.list <- c('None' = 0, 'No' = 1, 'Mn' = 2, 'Av' = 3, 'Gd' = 4)\n",
    "df.numeric = map.fcn(c('BsmtExposure'), bsmt.list, df.numeric)"
   ]
  },
  {
   "cell_type": "markdown",
   "metadata": {},
   "source": [
    "- ### \"BsmtFinType1\" 의 특징 및 SalePrice 간의 관계\n",
    "    - BsmtFinType1: Quality of basement finished area (지하실의 품질)\n",
    "    - BsmtFinSF1: Type 1 finished square feet (지하실의 평수)"
   ]
  },
  {
   "cell_type": "code",
   "execution_count": 98,
   "metadata": {},
   "outputs": [
    {
     "data": {
      "text/html": [
       "<table>\n",
       "<thead><tr><th scope=col>BsmtFinType1</th><th scope=col>mean.Quality</th><th scope=col>mean.Price</th><th scope=col>n</th></tr></thead>\n",
       "<tbody>\n",
       "\t<tr><td>None    </td><td>4.30    </td><td>105652.9</td><td> 37     </td></tr>\n",
       "\t<tr><td>BLQ     </td><td>5.35    </td><td>149493.7</td><td>148     </td></tr>\n",
       "\t<tr><td>Rec     </td><td>5.35    </td><td>146889.2</td><td>133     </td></tr>\n",
       "\t<tr><td>LwQ     </td><td>5.54    </td><td>151852.7</td><td> 74     </td></tr>\n",
       "\t<tr><td>ALQ     </td><td>5.55    </td><td>161573.1</td><td>220     </td></tr>\n",
       "\t<tr><td>Unf     </td><td>6.20    </td><td>170670.6</td><td>430     </td></tr>\n",
       "\t<tr><td>GLQ     </td><td>7.05    </td><td>235413.7</td><td>418     </td></tr>\n",
       "</tbody>\n",
       "</table>\n"
      ],
      "text/latex": [
       "\\begin{tabular}{r|llll}\n",
       " BsmtFinType1 & mean.Quality & mean.Price & n\\\\\n",
       "\\hline\n",
       "\t None     & 4.30     & 105652.9 &  37     \\\\\n",
       "\t BLQ      & 5.35     & 149493.7 & 148     \\\\\n",
       "\t Rec      & 5.35     & 146889.2 & 133     \\\\\n",
       "\t LwQ      & 5.54     & 151852.7 &  74     \\\\\n",
       "\t ALQ      & 5.55     & 161573.1 & 220     \\\\\n",
       "\t Unf      & 6.20     & 170670.6 & 430     \\\\\n",
       "\t GLQ      & 7.05     & 235413.7 & 418     \\\\\n",
       "\\end{tabular}\n"
      ],
      "text/markdown": [
       "\n",
       "BsmtFinType1 | mean.Quality | mean.Price | n | \n",
       "|---|---|---|---|---|---|---|\n",
       "| None     | 4.30     | 105652.9 |  37      | \n",
       "| BLQ      | 5.35     | 149493.7 | 148      | \n",
       "| Rec      | 5.35     | 146889.2 | 133      | \n",
       "| LwQ      | 5.54     | 151852.7 |  74      | \n",
       "| ALQ      | 5.55     | 161573.1 | 220      | \n",
       "| Unf      | 6.20     | 170670.6 | 430      | \n",
       "| GLQ      | 7.05     | 235413.7 | 418      | \n",
       "\n",
       "\n"
      ],
      "text/plain": [
       "  BsmtFinType1 mean.Quality mean.Price n  \n",
       "1 None         4.30         105652.9    37\n",
       "2 BLQ          5.35         149493.7   148\n",
       "3 Rec          5.35         146889.2   133\n",
       "4 LwQ          5.54         151852.7    74\n",
       "5 ALQ          5.55         161573.1   220\n",
       "6 Unf          6.20         170670.6   430\n",
       "7 GLQ          7.05         235413.7   418"
      ]
     },
     "metadata": {},
     "output_type": "display_data"
    },
    {
     "data": {
      "image/png": "[encoded data removed]",
      "text/plain": [
       "plot without title"
      ]
     },
     "metadata": {},
     "output_type": "display_data"
    }
   ],
   "source": [
    "group.prices('BsmtFinType1')"
   ]
  },
  {
   "cell_type": "code",
   "execution_count": 99,
   "metadata": {},
   "outputs": [
    {
     "data": {},
     "metadata": {},
     "output_type": "display_data"
    },
    {
     "data": {
      "image/png": "[encoded data removed]",
      "text/plain": [
       "plot without title"
      ]
     },
     "metadata": {},
     "output_type": "display_data"
    }
   ],
   "source": [
    "# 앞서 BsmtFinType1 과 평균 saleprice 간의 관계로는 각 범주를 판단하기 어려움\n",
    "# 따라서 BsmtFinSF1 의 중앙값과의 관계로 파악하려함. \n",
    "df.combined[,c('BsmtFinType1', 'BsmtFinSF1')] %>%\n",
    "  group_by(BsmtFinType1) %>%\n",
    "  summarise(medianArea = median(BsmtFinSF1), counts = n()) %>%\n",
    "  arrange(medianArea) %>%\n",
    "  ggplot(aes(x=reorder(BsmtFinType1,-medianArea), y=medianArea)) +\n",
    "  geom_bar(stat = 'identity', fill='cornflowerblue') +\n",
    "  labs(x='BsmtFinType2', y='Median of BsmtFinSF2') +\n",
    "  geom_text(aes(label = sort(medianArea)), vjust = -0.5) +\n",
    "  scale_y_continuous(limits = c(0,850)) +\n",
    "  theme_minimal()"
   ]
  },
  {
   "cell_type": "code",
   "execution_count": 101,
   "metadata": {},
   "outputs": [],
   "source": [
    "# 위의 결과를 바탕으로 순서가 있는 numeric으로 변환한 후 df.numeric 데이터 셋에 추가\n",
    "#‘None’ < ‘Unf’ < ‘LwQ’ < ‘BLQ’ < ‘Rec’ < ‘ALQ’ < ‘GLQ’.\n",
    "bsmt.fin.list <- c('None' = 0, 'Unf' = 1, 'LwQ' = 2,'Rec'= 3, 'BLQ' = 4, 'ALQ' = 5, 'GLQ' = 6)\n",
    "df.numeric <- map.fcn(c('BsmtFinType1','BsmtFinType2'), bsmt.fin.list, df.numeric)"
   ]
  },
  {
   "cell_type": "markdown",
   "metadata": {},
   "source": [
    "- ### \"Functional\" 의 특징 및 SalePrice 간의 관계\n",
    "    - 다른 변수와의 관계로 파악하기 어려운 변수 --> saleprice로 판단"
   ]
  },
  {
   "cell_type": "code",
   "execution_count": 102,
   "metadata": {},
   "outputs": [
    {
     "data": {
      "text/html": [
       "<table>\n",
       "<thead><tr><th scope=col>Functional</th><th scope=col>mean.Quality</th><th scope=col>mean.Price</th><th scope=col>n</th></tr></thead>\n",
       "<tbody>\n",
       "\t<tr><td>Min2    </td><td>4.97    </td><td>144240.6</td><td>  34    </td></tr>\n",
       "\t<tr><td>Maj2    </td><td>5.00    </td><td> 85800.0</td><td>   5    </td></tr>\n",
       "\t<tr><td>Min1    </td><td>5.26    </td><td>146385.5</td><td>  31    </td></tr>\n",
       "\t<tr><td>Mod     </td><td>5.40    </td><td>168393.3</td><td>  15    </td></tr>\n",
       "\t<tr><td>Maj1    </td><td>5.50    </td><td>153948.1</td><td>  14    </td></tr>\n",
       "\t<tr><td>Sev     </td><td>6.00    </td><td>129000.0</td><td>   1    </td></tr>\n",
       "\t<tr><td>Typ     </td><td>6.16    </td><td>183429.1</td><td>1360    </td></tr>\n",
       "</tbody>\n",
       "</table>\n"
      ],
      "text/latex": [
       "\\begin{tabular}{r|llll}\n",
       " Functional & mean.Quality & mean.Price & n\\\\\n",
       "\\hline\n",
       "\t Min2     & 4.97     & 144240.6 &   34    \\\\\n",
       "\t Maj2     & 5.00     &  85800.0 &    5    \\\\\n",
       "\t Min1     & 5.26     & 146385.5 &   31    \\\\\n",
       "\t Mod      & 5.40     & 168393.3 &   15    \\\\\n",
       "\t Maj1     & 5.50     & 153948.1 &   14    \\\\\n",
       "\t Sev      & 6.00     & 129000.0 &    1    \\\\\n",
       "\t Typ      & 6.16     & 183429.1 & 1360    \\\\\n",
       "\\end{tabular}\n"
      ],
      "text/markdown": [
       "\n",
       "Functional | mean.Quality | mean.Price | n | \n",
       "|---|---|---|---|---|---|---|\n",
       "| Min2     | 4.97     | 144240.6 |   34     | \n",
       "| Maj2     | 5.00     |  85800.0 |    5     | \n",
       "| Min1     | 5.26     | 146385.5 |   31     | \n",
       "| Mod      | 5.40     | 168393.3 |   15     | \n",
       "| Maj1     | 5.50     | 153948.1 |   14     | \n",
       "| Sev      | 6.00     | 129000.0 |    1     | \n",
       "| Typ      | 6.16     | 183429.1 | 1360     | \n",
       "\n",
       "\n"
      ],
      "text/plain": [
       "  Functional mean.Quality mean.Price n   \n",
       "1 Min2       4.97         144240.6     34\n",
       "2 Maj2       5.00          85800.0      5\n",
       "3 Min1       5.26         146385.5     31\n",
       "4 Mod        5.40         168393.3     15\n",
       "5 Maj1       5.50         153948.1     14\n",
       "6 Sev        6.00         129000.0      1\n",
       "7 Typ        6.16         183429.1   1360"
      ]
     },
     "metadata": {},
     "output_type": "display_data"
    },
    {
     "data": {
      "image/png": "[encoded data removed]",
      "text/plain": [
       "plot without title"
      ]
     },
     "metadata": {},
     "output_type": "display_data"
    }
   ],
   "source": [
    "group.prices('Functional')"
   ]
  },
  {
   "cell_type": "code",
   "execution_count": 103,
   "metadata": {},
   "outputs": [],
   "source": [
    "functional.list <- c('None' = 0, 'Sal' = 1, 'Sev' = 2, 'Maj2' = 3, 'Maj1' = 4, 'Mod' = 5, 'Min2' = 6, 'Min1' = 7, 'Typ'= 8)\n",
    "\n",
    "df.numeric['Functional'] <- as.numeric(functional.list[df.combined$Functional])"
   ]
  },
  {
   "cell_type": "markdown",
   "metadata": {},
   "source": [
    "- ### \"GarageFinish\" 의 특징 및 SalePrice 간의 관계"
   ]
  },
  {
   "cell_type": "code",
   "execution_count": 104,
   "metadata": {},
   "outputs": [
    {
     "data": {
      "text/html": [
       "<table>\n",
       "<thead><tr><th scope=col>GarageFinish</th><th scope=col>mean.Quality</th><th scope=col>mean.Price</th><th scope=col>n</th></tr></thead>\n",
       "<tbody>\n",
       "\t<tr><td>None    </td><td>4.60    </td><td>103317.3</td><td> 81     </td></tr>\n",
       "\t<tr><td>Unf     </td><td>5.40    </td><td>142156.4</td><td>605     </td></tr>\n",
       "\t<tr><td>RFn     </td><td>6.57    </td><td>202068.9</td><td>422     </td></tr>\n",
       "\t<tr><td>Fin     </td><td>7.07    </td><td>240052.7</td><td>352     </td></tr>\n",
       "</tbody>\n",
       "</table>\n"
      ],
      "text/latex": [
       "\\begin{tabular}{r|llll}\n",
       " GarageFinish & mean.Quality & mean.Price & n\\\\\n",
       "\\hline\n",
       "\t None     & 4.60     & 103317.3 &  81     \\\\\n",
       "\t Unf      & 5.40     & 142156.4 & 605     \\\\\n",
       "\t RFn      & 6.57     & 202068.9 & 422     \\\\\n",
       "\t Fin      & 7.07     & 240052.7 & 352     \\\\\n",
       "\\end{tabular}\n"
      ],
      "text/markdown": [
       "\n",
       "GarageFinish | mean.Quality | mean.Price | n | \n",
       "|---|---|---|---|\n",
       "| None     | 4.60     | 103317.3 |  81      | \n",
       "| Unf      | 5.40     | 142156.4 | 605      | \n",
       "| RFn      | 6.57     | 202068.9 | 422      | \n",
       "| Fin      | 7.07     | 240052.7 | 352      | \n",
       "\n",
       "\n"
      ],
      "text/plain": [
       "  GarageFinish mean.Quality mean.Price n  \n",
       "1 None         4.60         103317.3    81\n",
       "2 Unf          5.40         142156.4   605\n",
       "3 RFn          6.57         202068.9   422\n",
       "4 Fin          7.07         240052.7   352"
      ]
     },
     "metadata": {},
     "output_type": "display_data"
    },
    {
     "data": {
      "image/png": "[encoded data removed]",
      "text/plain": [
       "plot without title"
      ]
     },
     "metadata": {},
     "output_type": "display_data"
    }
   ],
   "source": [
    "group.prices('GarageFinish')"
   ]
  },
  {
   "cell_type": "code",
   "execution_count": 105,
   "metadata": {},
   "outputs": [],
   "source": [
    "garage.fin.list <- c('None' = 0,'Unf' = 1, 'RFn' = 1, 'Fin' = 2)\n",
    "\n",
    "df.numeric['GarageFinish'] <- as.numeric(garage.fin.list[df.combined$GarageFinish])"
   ]
  },
  {
   "cell_type": "markdown",
   "metadata": {},
   "source": [
    "- ### \"Fence\" 의 특징 및 SalePrice 간의 관계"
   ]
  },
  {
   "cell_type": "code",
   "execution_count": 106,
   "metadata": {},
   "outputs": [
    {
     "data": {
      "text/html": [
       "<table>\n",
       "<thead><tr><th scope=col>Fence</th><th scope=col>mean.Quality</th><th scope=col>mean.Price</th><th scope=col>n</th></tr></thead>\n",
       "<tbody>\n",
       "\t<tr><td>GdWo    </td><td>5.17    </td><td>140379.3</td><td>  54    </td></tr>\n",
       "\t<tr><td>MnWw    </td><td>5.18    </td><td>134286.4</td><td>  11    </td></tr>\n",
       "\t<tr><td>MnPrv   </td><td>5.45    </td><td>148751.1</td><td> 157    </td></tr>\n",
       "\t<tr><td>None    </td><td>6.23    </td><td>187596.8</td><td>1179    </td></tr>\n",
       "\t<tr><td>GdPrv   </td><td>6.31    </td><td>178927.5</td><td>  59    </td></tr>\n",
       "</tbody>\n",
       "</table>\n"
      ],
      "text/latex": [
       "\\begin{tabular}{r|llll}\n",
       " Fence & mean.Quality & mean.Price & n\\\\\n",
       "\\hline\n",
       "\t GdWo     & 5.17     & 140379.3 &   54    \\\\\n",
       "\t MnWw     & 5.18     & 134286.4 &   11    \\\\\n",
       "\t MnPrv    & 5.45     & 148751.1 &  157    \\\\\n",
       "\t None     & 6.23     & 187596.8 & 1179    \\\\\n",
       "\t GdPrv    & 6.31     & 178927.5 &   59    \\\\\n",
       "\\end{tabular}\n"
      ],
      "text/markdown": [
       "\n",
       "Fence | mean.Quality | mean.Price | n | \n",
       "|---|---|---|---|---|\n",
       "| GdWo     | 5.17     | 140379.3 |   54     | \n",
       "| MnWw     | 5.18     | 134286.4 |   11     | \n",
       "| MnPrv    | 5.45     | 148751.1 |  157     | \n",
       "| None     | 6.23     | 187596.8 | 1179     | \n",
       "| GdPrv    | 6.31     | 178927.5 |   59     | \n",
       "\n",
       "\n"
      ],
      "text/plain": [
       "  Fence mean.Quality mean.Price n   \n",
       "1 GdWo  5.17         140379.3     54\n",
       "2 MnWw  5.18         134286.4     11\n",
       "3 MnPrv 5.45         148751.1    157\n",
       "4 None  6.23         187596.8   1179\n",
       "5 GdPrv 6.31         178927.5     59"
      ]
     },
     "metadata": {},
     "output_type": "display_data"
    },
    {
     "data": {
      "image/png": "[encoded data removed]",
      "text/plain": [
       "plot without title"
      ]
     },
     "metadata": {},
     "output_type": "display_data"
    }
   ],
   "source": [
    "group.prices('Fence')"
   ]
  },
  {
   "cell_type": "code",
   "execution_count": 107,
   "metadata": {},
   "outputs": [],
   "source": [
    "fence.list <- c('None' = 0, 'MnWw' = 1, 'GdWo' = 1, 'MnPrv' = 2, 'GdPrv' = 4)\n",
    "\n",
    "df.numeric['Fence'] <- as.numeric(fence.list[df.combined$Fence])"
   ]
  },
  {
   "cell_type": "markdown",
   "metadata": {},
   "source": [
    "- ### \"MSSubClass\" -> \"NewerDwelling\"\n",
    "    - MSSubClass 를 character화 --> MSdwelling.list로 numeric 화 --> df.numeric에 'NewerDwelling' 으로 추가"
   ]
  },
  {
   "cell_type": "code",
   "execution_count": 108,
   "metadata": {},
   "outputs": [],
   "source": [
    "MSdwelling.list <- c('20' = 1, '30'= 0, '40' = 0, '45' = 0,'50' = 0, '60' = 1, '70' = 0, '75' = 0, '80' = 0, '85' = 0, '90' = 0, '120' = 1, '150' = 0, '160' = 0, '180' = 0, '190' = 0)\n",
    "\n",
    "df.numeric['NewerDwelling'] <- as.numeric(MSdwelling.list[as.character(df.combined$MSSubClass)])"
   ]
  },
  {
   "cell_type": "markdown",
   "metadata": {},
   "source": [
    "## 변환된 numeric 변수들과 salePrice 에 영향력을 많이 주는 변수를 찾아낼것 ( 상관계수 이용 )"
   ]
  },
  {
   "cell_type": "code",
   "execution_count": 109,
   "metadata": {},
   "outputs": [
    {
     "data": {
      "image/png": "[encoded data removed]",
      "text/plain": [
       "Plot with title \"\""
      ]
     },
     "metadata": {},
     "output_type": "display_data"
    }
   ],
   "source": [
    "# salePrice col추가\n",
    "corr.df <- cbind(df.numeric[1:1460,], train['SalePrice'])\n",
    "# 변수들간의 상관관계\n",
    "correlations <- cor(corr.df)\n",
    "#SalePrice 와 강한 상관계수를 보이는 col이 궁금함. 내림차순으로\n",
    "corr.SalePrice <- as.matrix(sort(correlations[,'SalePrice'], decreasing = TRUE))\n",
    "# \n",
    "corr.idx <- names(which(apply(corr.SalePrice, 1, function(x) (x > 0.5 | x < -0.5))))\n",
    "\n",
    "corrplot(as.matrix(correlations[corr.idx,corr.idx]), type = 'upper', method='color', addCoef.col = 'black', tl.cex = .7,cl.cex = .7, number.cex=.7)"
   ]
  },
  {
   "cell_type": "code",
   "execution_count": 114,
   "metadata": {},
   "outputs": [
    {
     "name": "stderr",
     "output_type": "stream",
     "text": [
      "Warning message in simpleLoess(y, x, w, span, degree = degree, parametric = parametric, :\n",
      "\"pseudoinverse used at 1.985\"Warning message in simpleLoess(y, x, w, span, degree = degree, parametric = parametric, :\n",
      "\"neighborhood radius 2.015\"Warning message in simpleLoess(y, x, w, span, degree = degree, parametric = parametric, :\n",
      "\"reciprocal condition number  6.2259e-015\"Warning message in simpleLoess(y, x, w, span, degree = degree, parametric = parametric, :\n",
      "\"There are other near singularities as well. 4.0602\"Warning message in predLoess(object$y, object$x, newx = if (is.null(newdata)) object$x else if (is.data.frame(newdata)) as.matrix(model.frame(delete.response(terms(object)), :\n",
      "\"pseudoinverse used at 1.985\"Warning message in predLoess(object$y, object$x, newx = if (is.null(newdata)) object$x else if (is.data.frame(newdata)) as.matrix(model.frame(delete.response(terms(object)), :\n",
      "\"neighborhood radius 2.015\"Warning message in predLoess(object$y, object$x, newx = if (is.null(newdata)) object$x else if (is.data.frame(newdata)) as.matrix(model.frame(delete.response(terms(object)), :\n",
      "\"reciprocal condition number  6.2259e-015\"Warning message in predLoess(object$y, object$x, newx = if (is.null(newdata)) object$x else if (is.data.frame(newdata)) as.matrix(model.frame(delete.response(terms(object)), :\n",
      "\"There are other near singularities as well. 4.0602\"Warning message in simpleLoess(y, x, w, span, degree = degree, parametric = parametric, :\n",
      "\"pseudoinverse used at 1.985\"Warning message in simpleLoess(y, x, w, span, degree = degree, parametric = parametric, :\n",
      "\"neighborhood radius 2.015\"Warning message in simpleLoess(y, x, w, span, degree = degree, parametric = parametric, :\n",
      "\"reciprocal condition number  6.2259e-015\"Warning message in simpleLoess(y, x, w, span, degree = degree, parametric = parametric, :\n",
      "\"There are other near singularities as well. 4.0602\"Warning message in predLoess(object$y, object$x, newx = if (is.null(newdata)) object$x else if (is.data.frame(newdata)) as.matrix(model.frame(delete.response(terms(object)), :\n",
      "\"pseudoinverse used at 1.985\"Warning message in predLoess(object$y, object$x, newx = if (is.null(newdata)) object$x else if (is.data.frame(newdata)) as.matrix(model.frame(delete.response(terms(object)), :\n",
      "\"neighborhood radius 2.015\"Warning message in predLoess(object$y, object$x, newx = if (is.null(newdata)) object$x else if (is.data.frame(newdata)) as.matrix(model.frame(delete.response(terms(object)), :\n",
      "\"reciprocal condition number  6.2259e-015\"Warning message in predLoess(object$y, object$x, newx = if (is.null(newdata)) object$x else if (is.data.frame(newdata)) as.matrix(model.frame(delete.response(terms(object)), :\n",
      "\"There are other near singularities as well. 4.0602\"Warning message in simpleLoess(y, x, w, span, degree = degree, parametric = parametric, :\n",
      "\"pseudoinverse used at 1.985\"Warning message in simpleLoess(y, x, w, span, degree = degree, parametric = parametric, :\n",
      "\"neighborhood radius 2.015\"Warning message in simpleLoess(y, x, w, span, degree = degree, parametric = parametric, :\n",
      "\"reciprocal condition number  7.9741e-015\"Warning message in simpleLoess(y, x, w, span, degree = degree, parametric = parametric, :\n",
      "\"There are other near singularities as well. 4.0602\"Warning message in predLoess(object$y, object$x, newx = if (is.null(newdata)) object$x else if (is.data.frame(newdata)) as.matrix(model.frame(delete.response(terms(object)), :\n",
      "\"pseudoinverse used at 1.985\"Warning message in predLoess(object$y, object$x, newx = if (is.null(newdata)) object$x else if (is.data.frame(newdata)) as.matrix(model.frame(delete.response(terms(object)), :\n",
      "\"neighborhood radius 2.015\"Warning message in predLoess(object$y, object$x, newx = if (is.null(newdata)) object$x else if (is.data.frame(newdata)) as.matrix(model.frame(delete.response(terms(object)), :\n",
      "\"reciprocal condition number  7.9741e-015\"Warning message in predLoess(object$y, object$x, newx = if (is.null(newdata)) object$x else if (is.data.frame(newdata)) as.matrix(model.frame(delete.response(terms(object)), :\n",
      "\"There are other near singularities as well. 4.0602\""
     ]
    },
    {
     "data": {},
     "metadata": {},
     "output_type": "display_data"
    },
    {
     "name": "stderr",
     "output_type": "stream",
     "text": [
      "Warning message in simpleLoess(y, x, w, span, degree = degree, parametric = parametric, :\n",
      "\"pseudoinverse used at 5.025\"Warning message in simpleLoess(y, x, w, span, degree = degree, parametric = parametric, :\n",
      "\"neighborhood radius 2.025\"Warning message in simpleLoess(y, x, w, span, degree = degree, parametric = parametric, :\n",
      "\"reciprocal condition number  9.4237e-015\"Warning message in simpleLoess(y, x, w, span, degree = degree, parametric = parametric, :\n",
      "\"There are other near singularities as well. 1\"Warning message in predLoess(object$y, object$x, newx = if (is.null(newdata)) object$x else if (is.data.frame(newdata)) as.matrix(model.frame(delete.response(terms(object)), :\n",
      "\"pseudoinverse used at 5.025\"Warning message in predLoess(object$y, object$x, newx = if (is.null(newdata)) object$x else if (is.data.frame(newdata)) as.matrix(model.frame(delete.response(terms(object)), :\n",
      "\"neighborhood radius 2.025\"Warning message in predLoess(object$y, object$x, newx = if (is.null(newdata)) object$x else if (is.data.frame(newdata)) as.matrix(model.frame(delete.response(terms(object)), :\n",
      "\"reciprocal condition number  9.4237e-015\"Warning message in predLoess(object$y, object$x, newx = if (is.null(newdata)) object$x else if (is.data.frame(newdata)) as.matrix(model.frame(delete.response(terms(object)), :\n",
      "\"There are other near singularities as well. 1\""
     ]
    },
    {
     "data": {},
     "metadata": {},
     "output_type": "display_data"
    },
    {
     "data": {
      "image/png": "[encoded data removed]",
      "text/plain": [
       "plot without title"
      ]
     },
     "metadata": {},
     "output_type": "display_data"
    },
    {
     "data": {
      "image/png": "[encoded data removed]",
      "text/plain": [
       "plot without title"
      ]
     },
     "metadata": {},
     "output_type": "display_data"
    }
   ],
   "source": [
    "# GGally 패키지를 이용하여 앞서 나왔던 상위10개의 상관관계를 다시 분석\n",
    "# GGally 설치시 오류 발생\n",
    "# 해결방법) R에서 library(devtools)\n",
    "#install_github(\"ggobi/ggally\")\n",
    "\n",
    "require(GGally)\n",
    "lm.plt <- function(data, mapping, ...){\n",
    "   plt <- ggplot(data = data, mapping = mapping) + \n",
    "    geom_point(shape = 20, alpha = 0.7, color = 'darkseagreen') +\n",
    "    geom_smooth(method=loess, fill=\"red\", color=\"red\") +\n",
    "    geom_smooth(method=lm, fill=\"blue\", color=\"blue\") +\n",
    "    theme_minimal()\n",
    "  return(plt)\n",
    "}\n",
    "# 1:6\n",
    "ggpairs(corr.df, corr.idx[1:6], lower = list(continuous = lm.plt))\n",
    "# 7:11\n",
    "ggpairs(corr.df, corr.idx[c(1,7:11)], lower = list(continuous = lm.plt))"
   ]
  },
  {
   "cell_type": "markdown",
   "metadata": {},
   "source": [
    "### nominal(명목형) 변수에서 특정값(최빈값)에 포함되면 1, 아니면 0으로 Binaray feature로 만들어준다. --> One-hot Encoding"
   ]
  },
  {
   "cell_type": "markdown",
   "metadata": {},
   "source": [
    "- ### LotShape \n",
    "    - LandContour: Flatness of the property\n",
    "    - LandSlope: Slope of property\n",
    "    - Electrical: Electrical system\n",
    "    - GarageType: Garage location\n",
    "    - PavedDrive: Paved driveway\n",
    "    - MiscFeature: Miscellaneous feature not covered in other categories"
   ]
  },
  {
   "cell_type": "code",
   "execution_count": 115,
   "metadata": {},
   "outputs": [
    {
     "data": {
      "image/png": "[encoded data removed]",
      "text/plain": [
       "plot without title"
      ]
     },
     "metadata": {},
     "output_type": "display_data"
    }
   ],
   "source": [
    "plot.categoric('LotShape', df.combined)"
   ]
  },
  {
   "cell_type": "code",
   "execution_count": 116,
   "metadata": {},
   "outputs": [],
   "source": [
    "# LotShape : 1개의 Regular shape과 3개의 Irregular shape\n",
    "df.numeric['RegularLotShape'] <- (df.combined$LotShape == 'Reg') * 1"
   ]
  },
  {
   "cell_type": "code",
   "execution_count": 117,
   "metadata": {},
   "outputs": [],
   "source": [
    "# LotShape 와 같은 방법 적용\n",
    "df.numeric['LandLeveled'] <- (df.combined$LandContour == 'Lvl') * 1\n",
    "df.numeric['LandSlopeGentle'] <- (df.combined$LandSlope == 'Gtl') * 1\n",
    "df.numeric['ElectricalSB'] <- (df.combined$Electrical == 'SBrkr') * 1\n",
    "df.numeric['GarageDetchd'] <- (df.combined$GarageType == 'Detchd') * 1\n",
    "df.numeric['HasPavedDrive'] <- (df.combined$PavedDrive == 'Y') * 1\n",
    "df.numeric['HasWoodDeck'] <- (df.combined$WoodDeckSF > 0) * 1\n",
    "df.numeric['Has2ndFlr'] <- (df.combined$X2ndFlrSF > 0) * 1\n",
    "df.numeric['HasMasVnr'] <- (df.combined$MasVnrArea > 0) * 1\n",
    "df.numeric['HasShed'] <- (df.combined$MiscFeature == 'Shed') * 1"
   ]
  },
  {
   "cell_type": "markdown",
   "metadata": {},
   "source": [
    "- ### YearBuilt: Original construction date\n",
    "- ### YearRemodAdd: Remodel date"
   ]
  },
  {
   "cell_type": "code",
   "execution_count": 118,
   "metadata": {},
   "outputs": [],
   "source": [
    "# 거의 대부분 YearBlt 와 YearRemodAdd 가 같음 --> remodeling 을 안했단 얘기\n",
    "# 다를 경우 Remodeled 된 것으로 판단하여 리모델링 했는지 안했는지 더미 변수 생성\n",
    "df.numeric['Remodeled'] <- (df.combined$YearBuilt != df.combined$YearRemodAdd) * 1"
   ]
  },
  {
   "cell_type": "code",
   "execution_count": 119,
   "metadata": {},
   "outputs": [],
   "source": [
    "# Remodeling 된 집 중에서도 최근에 했는지에 따른 더미 변수 생성\n",
    "# 기준 : 판매 된 해 이후에 리모델링 된 주택은 1, 아니면 0\n",
    "df.numeric['RecentRemodel'] <- (df.combined$YearRemodAdd >= df.combined$YrSold) * 1"
   ]
  },
  {
   "cell_type": "code",
   "execution_count": 120,
   "metadata": {},
   "outputs": [],
   "source": [
    "# 지어진 날짜(YearBlt)와 판매된 날짜(YearSold)가 같으면 --> 인기있는 집이라고 (잠재적)가정\n",
    "df.numeric['NewHouse'] <- (df.combined$YearBuilt == df.combined$YrSold) * 1"
   ]
  },
  {
   "cell_type": "markdown",
   "metadata": {},
   "source": [
    "### house area에 관하여 \n",
    "    - feature가 0 인 경우      --> 0\n",
    "    - feature 가 0 이상인 경우 --> 1"
   ]
  },
  {
   "cell_type": "code",
   "execution_count": 121,
   "metadata": {},
   "outputs": [],
   "source": [
    "cols.binary <- c('X2ndFlrSF', 'MasVnrArea', 'WoodDeckSF', 'OpenPorchSF', 'EnclosedPorch', 'X3SsnPorch', 'ScreenPorch')\n",
    "for (col in cols.binary){\n",
    "  df.numeric[str_c('Has',col)] <- (df.combined[,col] != 0) * 1\n",
    "}"
   ]
  },
  {
   "cell_type": "code",
   "execution_count": 122,
   "metadata": {},
   "outputs": [
    {
     "data": {},
     "metadata": {},
     "output_type": "display_data"
    },
    {
     "data": {
      "image/png": "[encoded data removed]",
      "text/plain": [
       "plot without title"
      ]
     },
     "metadata": {},
     "output_type": "display_data"
    }
   ],
   "source": [
    "# 판매된 month 에 관한 ggplot\n",
    "ggplot(df.combined, aes(x=MoSold)) +\n",
    "  geom_bar(fill = 'cornflowerblue') +\n",
    "  geom_text(aes(label=..count..), stat='count', vjust = -.5) +\n",
    "  theme_minimal() +\n",
    "  scale_x_continuous(breaks = 1:12)"
   ]
  },
  {
   "cell_type": "code",
   "execution_count": 123,
   "metadata": {},
   "outputs": [],
   "source": [
    "# ggplot 으로 확인한 결과, 여름 시즌에 판매율이 높음(5월,)6월,7월 --> HighSeanson으로 더미 변수 생성\n",
    "df.numeric['HighSeason'] <- (df.combined$MoSold %in% c(5,6,7)) * 1"
   ]
  },
  {
   "cell_type": "markdown",
   "metadata": {},
   "source": [
    "## Neighborhoods "
   ]
  },
  {
   "cell_type": "code",
   "execution_count": 124,
   "metadata": {},
   "outputs": [
    {
     "data": {},
     "metadata": {},
     "output_type": "display_data"
    },
    {
     "data": {
      "image/png": "[encoded data removed]",
      "text/plain": [
       "plot without title"
      ]
     },
     "metadata": {},
     "output_type": "display_data"
    }
   ],
   "source": [
    "#neighborhoods 와 saleprice간의 관계\n",
    "train[,c('Neighborhood','SalePrice')] %>%\n",
    "  group_by(Neighborhood) %>%\n",
    "  summarise(median.price = median(SalePrice, na.rm = TRUE)) %>%\n",
    "  arrange(median.price) %>%\n",
    "  mutate(nhbr.sorted = factor(Neighborhood, levels=Neighborhood)) %>%\n",
    "  ggplot(aes(x=nhbr.sorted, y=median.price)) +\n",
    "  geom_point() +\n",
    "  geom_text(aes(label = median.price, angle = 45), vjust = 2) +\n",
    "  theme_minimal() +\n",
    "  labs(x='Neighborhood', y='Median price') +\n",
    "  theme(text = element_text(size=12),\n",
    "        axis.text.x = element_text(angle=45))"
   ]
  },
  {
   "cell_type": "code",
   "execution_count": 125,
   "metadata": {},
   "outputs": [
    {
     "data": {},
     "metadata": {},
     "output_type": "display_data"
    },
    {
     "data": {
      "image/png": "[encoded data removed]",
      "text/plain": [
       "plot without title"
      ]
     },
     "metadata": {},
     "output_type": "display_data"
    }
   ],
   "source": [
    "# 확인결과 ) StoneBr, NoRidge, NridgHt 가 가장 높음 \n",
    "# 그러나, 이곳에서 이상치인지 아닌지 확인할 필요가 있음 --> 이상치 x\n",
    "\n",
    "other.nbrh <- unique(df.combined$Neighborhood)[!unique(df.combined$Neighborhood) %in% c('StoneBr', 'NoRidge','NridgHt')]\n",
    "\n",
    "ggplot(train, aes(x=SalePrice, y=GrLivArea, colour=Neighborhood)) +\n",
    "  geom_point(shape=16, alpha=.8, size=4) +\n",
    "  scale_color_manual(limits = c(other.nbrh, 'StoneBr', 'NoRidge', 'NridgHt'), values = c(rep('black', length(other.nbrh)), 'indianred',\n",
    "                                    'cornflowerblue', 'darkseagreen')) +\n",
    "  theme_minimal() +\n",
    "  scale_x_continuous(label=dollar)"
   ]
  },
  {
   "cell_type": "code",
   "execution_count": 126,
   "metadata": {},
   "outputs": [],
   "source": [
    "# neighborhood 상위 값 3개에서 --> 6개로 늘려서 새변수 설정\n",
    "# rich -> 1 / others -> 0\n",
    "nbrh.rich <- c('Crawfor', 'Somerst, Timber', 'StoneBr', 'NoRidge', 'NridgeHt')\n",
    "df.numeric['NbrhRich'] <- (df.combined$Neighborhood %in% nbrh.rich) *1"
   ]
  },
  {
   "cell_type": "code",
   "execution_count": 127,
   "metadata": {},
   "outputs": [
    {
     "data": {
      "text/html": [
       "<table>\n",
       "<thead><tr><th scope=col>Neighborhood</th><th scope=col>mean.Quality</th><th scope=col>mean.Price</th><th scope=col>n</th></tr></thead>\n",
       "<tbody>\n",
       "\t<tr><td>MeadowV  </td><td>4.47     </td><td> 98576.47</td><td> 17      </td></tr>\n",
       "\t<tr><td>IDOTRR   </td><td>4.76     </td><td>100123.78</td><td> 37      </td></tr>\n",
       "\t<tr><td>Sawyer   </td><td>5.03     </td><td>136793.14</td><td> 74      </td></tr>\n",
       "\t<tr><td>BrkSide  </td><td>5.05     </td><td>124834.05</td><td> 58      </td></tr>\n",
       "\t<tr><td>Edwards  </td><td>5.08     </td><td>128219.70</td><td>100      </td></tr>\n",
       "\t<tr><td>NAmes    </td><td>5.36     </td><td>145847.08</td><td>225      </td></tr>\n",
       "\t<tr><td>OldTown  </td><td>5.39     </td><td>128225.30</td><td>113      </td></tr>\n",
       "\t<tr><td>SWISU    </td><td>5.44     </td><td>142591.36</td><td> 25      </td></tr>\n",
       "\t<tr><td>Mitchel  </td><td>5.59     </td><td>156270.12</td><td> 49      </td></tr>\n",
       "\t<tr><td>BrDale   </td><td>5.69     </td><td>104493.75</td><td> 16      </td></tr>\n",
       "\t<tr><td>ClearCr  </td><td>5.89     </td><td>212565.43</td><td> 28      </td></tr>\n",
       "\t<tr><td>Blueste  </td><td>6.00     </td><td>137500.00</td><td>  2      </td></tr>\n",
       "\t<tr><td>NPkVill  </td><td>6.00     </td><td>142694.44</td><td>  9      </td></tr>\n",
       "\t<tr><td>Crawfor  </td><td>6.27     </td><td>210624.73</td><td> 51      </td></tr>\n",
       "\t<tr><td>SawyerW  </td><td>6.32     </td><td>186555.80</td><td> 59      </td></tr>\n",
       "\t<tr><td>NWAmes   </td><td>6.33     </td><td>189050.07</td><td> 73      </td></tr>\n",
       "\t<tr><td>Gilbert  </td><td>6.56     </td><td>192854.51</td><td> 79      </td></tr>\n",
       "\t<tr><td>CollgCr  </td><td>6.64     </td><td>197965.77</td><td>150      </td></tr>\n",
       "\t<tr><td>Veenker  </td><td>6.73     </td><td>238772.73</td><td> 11      </td></tr>\n",
       "\t<tr><td>Timber   </td><td>7.16     </td><td>242247.45</td><td> 38      </td></tr>\n",
       "\t<tr><td>Blmngtn  </td><td>7.18     </td><td>194870.88</td><td> 17      </td></tr>\n",
       "\t<tr><td>Somerst  </td><td>7.34     </td><td>225379.84</td><td> 86      </td></tr>\n",
       "\t<tr><td>NoRidge  </td><td>7.93     </td><td>335295.32</td><td> 41      </td></tr>\n",
       "\t<tr><td>StoneBr  </td><td>8.16     </td><td>310499.00</td><td> 25      </td></tr>\n",
       "\t<tr><td>NridgHt  </td><td>8.26     </td><td>316270.62</td><td> 77      </td></tr>\n",
       "</tbody>\n",
       "</table>\n"
      ],
      "text/latex": [
       "\\begin{tabular}{r|llll}\n",
       " Neighborhood & mean.Quality & mean.Price & n\\\\\n",
       "\\hline\n",
       "\t MeadowV   & 4.47      &  98576.47 &  17      \\\\\n",
       "\t IDOTRR    & 4.76      & 100123.78 &  37      \\\\\n",
       "\t Sawyer    & 5.03      & 136793.14 &  74      \\\\\n",
       "\t BrkSide   & 5.05      & 124834.05 &  58      \\\\\n",
       "\t Edwards   & 5.08      & 128219.70 & 100      \\\\\n",
       "\t NAmes     & 5.36      & 145847.08 & 225      \\\\\n",
       "\t OldTown   & 5.39      & 128225.30 & 113      \\\\\n",
       "\t SWISU     & 5.44      & 142591.36 &  25      \\\\\n",
       "\t Mitchel   & 5.59      & 156270.12 &  49      \\\\\n",
       "\t BrDale    & 5.69      & 104493.75 &  16      \\\\\n",
       "\t ClearCr   & 5.89      & 212565.43 &  28      \\\\\n",
       "\t Blueste   & 6.00      & 137500.00 &   2      \\\\\n",
       "\t NPkVill   & 6.00      & 142694.44 &   9      \\\\\n",
       "\t Crawfor   & 6.27      & 210624.73 &  51      \\\\\n",
       "\t SawyerW   & 6.32      & 186555.80 &  59      \\\\\n",
       "\t NWAmes    & 6.33      & 189050.07 &  73      \\\\\n",
       "\t Gilbert   & 6.56      & 192854.51 &  79      \\\\\n",
       "\t CollgCr   & 6.64      & 197965.77 & 150      \\\\\n",
       "\t Veenker   & 6.73      & 238772.73 &  11      \\\\\n",
       "\t Timber    & 7.16      & 242247.45 &  38      \\\\\n",
       "\t Blmngtn   & 7.18      & 194870.88 &  17      \\\\\n",
       "\t Somerst   & 7.34      & 225379.84 &  86      \\\\\n",
       "\t NoRidge   & 7.93      & 335295.32 &  41      \\\\\n",
       "\t StoneBr   & 8.16      & 310499.00 &  25      \\\\\n",
       "\t NridgHt   & 8.26      & 316270.62 &  77      \\\\\n",
       "\\end{tabular}\n"
      ],
      "text/markdown": [
       "\n",
       "Neighborhood | mean.Quality | mean.Price | n | \n",
       "|---|---|---|---|---|---|---|---|---|---|---|---|---|---|---|---|---|---|---|---|---|---|---|---|---|\n",
       "| MeadowV   | 4.47      |  98576.47 |  17       | \n",
       "| IDOTRR    | 4.76      | 100123.78 |  37       | \n",
       "| Sawyer    | 5.03      | 136793.14 |  74       | \n",
       "| BrkSide   | 5.05      | 124834.05 |  58       | \n",
       "| Edwards   | 5.08      | 128219.70 | 100       | \n",
       "| NAmes     | 5.36      | 145847.08 | 225       | \n",
       "| OldTown   | 5.39      | 128225.30 | 113       | \n",
       "| SWISU     | 5.44      | 142591.36 |  25       | \n",
       "| Mitchel   | 5.59      | 156270.12 |  49       | \n",
       "| BrDale    | 5.69      | 104493.75 |  16       | \n",
       "| ClearCr   | 5.89      | 212565.43 |  28       | \n",
       "| Blueste   | 6.00      | 137500.00 |   2       | \n",
       "| NPkVill   | 6.00      | 142694.44 |   9       | \n",
       "| Crawfor   | 6.27      | 210624.73 |  51       | \n",
       "| SawyerW   | 6.32      | 186555.80 |  59       | \n",
       "| NWAmes    | 6.33      | 189050.07 |  73       | \n",
       "| Gilbert   | 6.56      | 192854.51 |  79       | \n",
       "| CollgCr   | 6.64      | 197965.77 | 150       | \n",
       "| Veenker   | 6.73      | 238772.73 |  11       | \n",
       "| Timber    | 7.16      | 242247.45 |  38       | \n",
       "| Blmngtn   | 7.18      | 194870.88 |  17       | \n",
       "| Somerst   | 7.34      | 225379.84 |  86       | \n",
       "| NoRidge   | 7.93      | 335295.32 |  41       | \n",
       "| StoneBr   | 8.16      | 310499.00 |  25       | \n",
       "| NridgHt   | 8.26      | 316270.62 |  77       | \n",
       "\n",
       "\n"
      ],
      "text/plain": [
       "   Neighborhood mean.Quality mean.Price n  \n",
       "1  MeadowV      4.47          98576.47   17\n",
       "2  IDOTRR       4.76         100123.78   37\n",
       "3  Sawyer       5.03         136793.14   74\n",
       "4  BrkSide      5.05         124834.05   58\n",
       "5  Edwards      5.08         128219.70  100\n",
       "6  NAmes        5.36         145847.08  225\n",
       "7  OldTown      5.39         128225.30  113\n",
       "8  SWISU        5.44         142591.36   25\n",
       "9  Mitchel      5.59         156270.12   49\n",
       "10 BrDale       5.69         104493.75   16\n",
       "11 ClearCr      5.89         212565.43   28\n",
       "12 Blueste      6.00         137500.00    2\n",
       "13 NPkVill      6.00         142694.44    9\n",
       "14 Crawfor      6.27         210624.73   51\n",
       "15 SawyerW      6.32         186555.80   59\n",
       "16 NWAmes       6.33         189050.07   73\n",
       "17 Gilbert      6.56         192854.51   79\n",
       "18 CollgCr      6.64         197965.77  150\n",
       "19 Veenker      6.73         238772.73   11\n",
       "20 Timber       7.16         242247.45   38\n",
       "21 Blmngtn      7.18         194870.88   17\n",
       "22 Somerst      7.34         225379.84   86\n",
       "23 NoRidge      7.93         335295.32   41\n",
       "24 StoneBr      8.16         310499.00   25\n",
       "25 NridgHt      8.26         316270.62   77"
      ]
     },
     "metadata": {},
     "output_type": "display_data"
    },
    {
     "data": {
      "image/png": "[encoded data removed]",
      "text/plain": [
       "plot without title"
      ]
     },
     "metadata": {},
     "output_type": "display_data"
    }
   ],
   "source": [
    "# 더 높은 품질의 더 높은 판매가격\n",
    "# categoric to numeric --> NeighorhoodBin으로\n",
    "group.prices('Neighborhood')"
   ]
  },
  {
   "cell_type": "code",
   "execution_count": 128,
   "metadata": {},
   "outputs": [],
   "source": [
    "nbrh.map <- c('MeadowV' = 0, 'IDOTRR' = 1, 'Sawyer' = 1, 'BrDale' = 1, 'OldTown' = 1, 'Edwards' = 1, \n",
    "             'BrkSide' = 1, 'Blueste' = 1, 'SWISU' = 2, 'NAmes' = 2, 'NPkVill' = 2, 'Mitchel' = 2,\n",
    "             'SawyerW' = 2, 'Gilbert' = 2, 'NWAmes' = 2, 'Blmngtn' = 2, 'CollgCr' = 2, 'ClearCr' = 3, \n",
    "             'Crawfor' = 3, 'Veenker' = 3, 'Somerst' = 3, 'Timber' = 3, 'StoneBr' = 4, 'NoRidge' = 4, \n",
    "             'NridgHt' = 4)\n",
    "\n",
    "df.numeric['NeighborhoodBin'] <- as.numeric(nbrh.map[df.combined$Neighborhood])"
   ]
  },
  {
   "cell_type": "markdown",
   "metadata": {},
   "source": [
    "### SaleCondition "
   ]
  },
  {
   "cell_type": "code",
   "execution_count": 129,
   "metadata": {},
   "outputs": [
    {
     "data": {
      "text/html": [
       "<table>\n",
       "<thead><tr><th scope=col>SaleCondition</th><th scope=col>mean.Quality</th><th scope=col>mean.Price</th><th scope=col>n</th></tr></thead>\n",
       "<tbody>\n",
       "\t<tr><td>AdjLand </td><td>5.00    </td><td>104125.0</td><td>   4    </td></tr>\n",
       "\t<tr><td>Alloca  </td><td>5.42    </td><td>167377.4</td><td>  12    </td></tr>\n",
       "\t<tr><td>Abnorml </td><td>5.57    </td><td>146526.6</td><td> 101    </td></tr>\n",
       "\t<tr><td>Family  </td><td>5.80    </td><td>149600.0</td><td>  20    </td></tr>\n",
       "\t<tr><td>Normal  </td><td>6.01    </td><td>175202.2</td><td>1198    </td></tr>\n",
       "\t<tr><td>Partial </td><td>7.56    </td><td>272291.8</td><td> 125    </td></tr>\n",
       "</tbody>\n",
       "</table>\n"
      ],
      "text/latex": [
       "\\begin{tabular}{r|llll}\n",
       " SaleCondition & mean.Quality & mean.Price & n\\\\\n",
       "\\hline\n",
       "\t AdjLand  & 5.00     & 104125.0 &    4    \\\\\n",
       "\t Alloca   & 5.42     & 167377.4 &   12    \\\\\n",
       "\t Abnorml  & 5.57     & 146526.6 &  101    \\\\\n",
       "\t Family   & 5.80     & 149600.0 &   20    \\\\\n",
       "\t Normal   & 6.01     & 175202.2 & 1198    \\\\\n",
       "\t Partial  & 7.56     & 272291.8 &  125    \\\\\n",
       "\\end{tabular}\n"
      ],
      "text/markdown": [
       "\n",
       "SaleCondition | mean.Quality | mean.Price | n | \n",
       "|---|---|---|---|---|---|\n",
       "| AdjLand  | 5.00     | 104125.0 |    4     | \n",
       "| Alloca   | 5.42     | 167377.4 |   12     | \n",
       "| Abnorml  | 5.57     | 146526.6 |  101     | \n",
       "| Family   | 5.80     | 149600.0 |   20     | \n",
       "| Normal   | 6.01     | 175202.2 | 1198     | \n",
       "| Partial  | 7.56     | 272291.8 |  125     | \n",
       "\n",
       "\n"
      ],
      "text/plain": [
       "  SaleCondition mean.Quality mean.Price n   \n",
       "1 AdjLand       5.00         104125.0      4\n",
       "2 Alloca        5.42         167377.4     12\n",
       "3 Abnorml       5.57         146526.6    101\n",
       "4 Family        5.80         149600.0     20\n",
       "5 Normal        6.01         175202.2   1198\n",
       "6 Partial       7.56         272291.8    125"
      ]
     },
     "metadata": {},
     "output_type": "display_data"
    },
    {
     "data": {
      "image/png": "[encoded data removed]",
      "text/plain": [
       "plot without title"
      ]
     },
     "metadata": {},
     "output_type": "display_data"
    }
   ],
   "source": [
    "group.prices('SaleCondition')"
   ]
  },
  {
   "cell_type": "code",
   "execution_count": 130,
   "metadata": {},
   "outputs": [],
   "source": [
    "# partial ->1 / others -> 0\n",
    "df.numeric['PartialPlan'] <- (df.combined$SaleCondition == 'Partial') * 1"
   ]
  },
  {
   "cell_type": "markdown",
   "metadata": {},
   "source": [
    "### HeatingQC"
   ]
  },
  {
   "cell_type": "code",
   "execution_count": 131,
   "metadata": {
    "scrolled": true
   },
   "outputs": [
    {
     "data": {
      "text/html": [
       "<table>\n",
       "<thead><tr><th scope=col>HeatingQC</th><th scope=col>mean.Quality</th><th scope=col>mean.Price</th><th scope=col>n</th></tr></thead>\n",
       "<tbody>\n",
       "\t<tr><td>Fa      </td><td>5.00    </td><td>123919.5</td><td> 49     </td></tr>\n",
       "\t<tr><td>Po      </td><td>5.00    </td><td> 87000.0</td><td>  1     </td></tr>\n",
       "\t<tr><td>TA      </td><td>5.37    </td><td>142362.9</td><td>428     </td></tr>\n",
       "\t<tr><td>Gd      </td><td>5.70    </td><td>156858.9</td><td>241     </td></tr>\n",
       "\t<tr><td>Ex      </td><td>6.72    </td><td>214914.4</td><td>741     </td></tr>\n",
       "</tbody>\n",
       "</table>\n"
      ],
      "text/latex": [
       "\\begin{tabular}{r|llll}\n",
       " HeatingQC & mean.Quality & mean.Price & n\\\\\n",
       "\\hline\n",
       "\t Fa       & 5.00     & 123919.5 &  49     \\\\\n",
       "\t Po       & 5.00     &  87000.0 &   1     \\\\\n",
       "\t TA       & 5.37     & 142362.9 & 428     \\\\\n",
       "\t Gd       & 5.70     & 156858.9 & 241     \\\\\n",
       "\t Ex       & 6.72     & 214914.4 & 741     \\\\\n",
       "\\end{tabular}\n"
      ],
      "text/markdown": [
       "\n",
       "HeatingQC | mean.Quality | mean.Price | n | \n",
       "|---|---|---|---|---|\n",
       "| Fa       | 5.00     | 123919.5 |  49      | \n",
       "| Po       | 5.00     |  87000.0 |   1      | \n",
       "| TA       | 5.37     | 142362.9 | 428      | \n",
       "| Gd       | 5.70     | 156858.9 | 241      | \n",
       "| Ex       | 6.72     | 214914.4 | 741      | \n",
       "\n",
       "\n"
      ],
      "text/plain": [
       "  HeatingQC mean.Quality mean.Price n  \n",
       "1 Fa        5.00         123919.5    49\n",
       "2 Po        5.00          87000.0     1\n",
       "3 TA        5.37         142362.9   428\n",
       "4 Gd        5.70         156858.9   241\n",
       "5 Ex        6.72         214914.4   741"
      ]
     },
     "metadata": {},
     "output_type": "display_data"
    },
    {
     "data": {
      "image/png": "[encoded data removed]",
      "text/plain": [
       "plot without title"
      ]
     },
     "metadata": {},
     "output_type": "display_data"
    }
   ],
   "source": [
    "group.prices('HeatingQC')"
   ]
  },
  {
   "cell_type": "code",
   "execution_count": 132,
   "metadata": {},
   "outputs": [],
   "source": [
    "# numeric 화\n",
    "heating.list <- c('Po' = 0, 'Fa' = 1, 'TA' = 2, 'Gd' = 3, 'Ex' = 4)\n",
    "\n",
    "df.numeric['HeatingScale'] <- as.numeric(heating.list[df.combined$HeatingQC])"
   ]
  },
  {
   "cell_type": "markdown",
   "metadata": {},
   "source": [
    "## Area 에 관한 변수"
   ]
  },
  {
   "cell_type": "code",
   "execution_count": 133,
   "metadata": {},
   "outputs": [],
   "source": [
    "# Total area\n",
    "area.cols <- c('LotFrontage', 'LotArea', 'MasVnrArea', 'BsmtFinSF1', 'BsmtFinSF2', 'BsmtUnfSF',\n",
    "             'TotalBsmtSF', 'X1stFlrSF', 'X2ndFlrSF', 'GrLivArea', 'GarageArea', 'WoodDeckSF', \n",
    "             'OpenPorchSF', 'EnclosedPorch', 'X3SsnPorch', 'ScreenPorch', 'LowQualFinSF', 'PoolArea')\n",
    "\n",
    "df.numeric['TotalArea'] <- as.numeric(rowSums(df.combined[,area.cols]))\n",
    "\n",
    "# Area Inside ( 집 내부 영역)\n",
    "df.numeric['AreaInside'] <- as.numeric(df.combined$X1stFlrSF + df.combined$X2ndFlrSF)"
   ]
  },
  {
   "cell_type": "markdown",
   "metadata": {},
   "source": [
    "## 집의 연식 관련한 더미변수들"
   ]
  },
  {
   "cell_type": "code",
   "execution_count": 134,
   "metadata": {},
   "outputs": [],
   "source": [
    "# 데이터가 2010 년 이전의 작성된 데이터이기때문에 2010 년 기준으로 집의 연식 계산\n",
    "df.numeric['Age'] <- as.numeric(2010 - df.combined$YearBuilt)\n",
    "# 2010 - 판매된 년도\n",
    "df.numeric['TimeSinceSold'] <- as.numeric(2010 - df.combined$YrSold)\n",
    "# 리모델링 된 후 판매 년도와의 관계\n",
    "df.numeric['YearSinceRemodel'] <- as.numeric(df.combined$YrSold - df.combined$YearRemodAdd)"
   ]
  },
  {
   "cell_type": "markdown",
   "metadata": {},
   "source": [
    "## OverallQual 과의 상관관계"
   ]
  },
  {
   "cell_type": "code",
   "execution_count": 135,
   "metadata": {},
   "outputs": [
    {
     "data": {
      "image/png": "[encoded data removed]",
      "text/plain": [
       "Plot with title \"\""
      ]
     },
     "metadata": {},
     "output_type": "display_data"
    }
   ],
   "source": [
    "corr.OverallQual <- as.matrix(sort(correlations[,'OverallQual'], decreasing = TRUE))\n",
    "\n",
    "corr.idx <- names(which(apply(corr.OverallQual, 1, function(x) (x > 0.5 | x < -0.5))))\n",
    "\n",
    "corrplot(as.matrix(correlations[corr.idx, corr.idx]), type = 'upper',\n",
    "         method = 'color', addCoef.col = 'black', tl.cex =.7, cl.cex = .7,\n",
    "         number.cex = .7)"
   ]
  },
  {
   "cell_type": "markdown",
   "metadata": {},
   "source": [
    "# Outliers 이상치"
   ]
  },
  {
   "cell_type": "code",
   "execution_count": 136,
   "metadata": {},
   "outputs": [
    {
     "name": "stderr",
     "output_type": "stream",
     "text": [
      "`stat_bin()` using `bins = 30`. Pick better value with `binwidth`.\n"
     ]
    },
    {
     "data": {},
     "metadata": {},
     "output_type": "display_data"
    },
    {
     "data": {
      "image/png": "[encoded data removed]",
      "text/plain": [
       "plot without title"
      ]
     },
     "metadata": {},
     "output_type": "display_data"
    }
   ],
   "source": [
    "# 앞서 neighborhood 에서 본 것처럼, GrLivArea에서 이상로 의심되는 데이터가 있다.\n",
    "# 이상치 의심 근거: 판매가격은 낮은데 GrLiveArea가 큼\n",
    "\n",
    "# train set 과 test set을 다시 합침\n",
    "train.test.df <- rbind(dplyr::select(train,-SalePrice), test)\n",
    "train.test.df$type <- c(rep('train',1460),rep('test',1459))\n",
    "\n",
    "#train set에서 GrLivArea 에 대한 히스토그램을 그림\n",
    "ggplot(train, aes(x=GrLivArea)) +\n",
    "  geom_histogram(fill='lightblue',color='white') +\n",
    "  theme_minimal()"
   ]
  },
  {
   "cell_type": "code",
   "execution_count": 139,
   "metadata": {},
   "outputs": [
    {
     "data": {
      "image/png": "[encoded data removed]",
      "text/plain": [
       "Plot with title \"GrLivArea\""
      ]
     },
     "metadata": {},
     "output_type": "display_data"
    }
   ],
   "source": [
    "#GrLivArea 의 boxplot 그려줌 <-- boxplot 만으로 이상치 확인 가능\n",
    "boxplot(train$GrLivArea, main=\"GrLivArea\", boxwex=0.1)\n",
    "\n",
    "# outlier변수 설정\n",
    "outlier_values <- boxplot.stats(train$GrLivArea)$out\n",
    "\n",
    "# outlier의 GrLivArea 값\n",
    "mtext(paste(\"Outliers: \", paste(outlier_values[outlier_values>4000], collapse=\", \")), cex=0.6)"
   ]
  },
  {
   "cell_type": "code",
   "execution_count": 140,
   "metadata": {},
   "outputs": [
    {
     "data": {},
     "metadata": {},
     "output_type": "display_data"
    },
    {
     "data": {
      "image/png": "[encoded data removed]",
      "text/plain": [
       "plot without title"
      ]
     },
     "metadata": {},
     "output_type": "display_data"
    }
   ],
   "source": [
    "ggplot(train.test.df, aes(x=type, y=GrLivArea, fill=type)) +\n",
    "  geom_boxplot() + #<- 이상치 보여줌\n",
    "  theme_minimal() +\n",
    "  scale_fill_manual(breaks = c(\"test\", \"train\"), values = c(\"indianred\", \"lightblue\"))"
   ]
  },
  {
   "cell_type": "code",
   "execution_count": 141,
   "metadata": {},
   "outputs": [
    {
     "data": {
      "text/html": [
       "<ol class=list-inline>\n",
       "\t<li>2915</li>\n",
       "\t<li>81</li>\n",
       "</ol>\n"
      ],
      "text/latex": [
       "\\begin{enumerate*}\n",
       "\\item 2915\n",
       "\\item 81\n",
       "\\end{enumerate*}\n"
      ],
      "text/markdown": [
       "1. 2915\n",
       "2. 81\n",
       "\n",
       "\n"
      ],
      "text/plain": [
       "[1] 2915   81"
      ]
     },
     "metadata": {},
     "output_type": "display_data"
    }
   ],
   "source": [
    " idx.outliers <- which(train$GrLivArea > 4000)\n",
    "df.numeric <- df.numeric[!1:nrow(df.numeric) %in% idx.outliers,]\n",
    "df.combined <- df.combined[!1:nrow(df.combined) %in% idx.outliers,]\n",
    "\n",
    "# df.numeric의 속성 확인 \n",
    "dim(df.numeric)"
   ]
  },
  {
   "cell_type": "markdown",
   "metadata": {},
   "source": [
    "# Preprocessing"
   ]
  },
  {
   "cell_type": "code",
   "execution_count": 142,
   "metadata": {},
   "outputs": [
    {
     "name": "stderr",
     "output_type": "stream",
     "text": [
      "Loading required package: psych\n",
      "Warning message:\n",
      "\"package 'psych' was built under R version 3.3.3\"\n",
      "Attaching package: 'psych'\n",
      "\n",
      "The following objects are masked from 'package:scales':\n",
      "\n",
      "    alpha, rescale\n",
      "\n",
      "The following object is masked from 'package:randomForest':\n",
      "\n",
      "    outlier\n",
      "\n",
      "The following objects are masked from 'package:ggplot2':\n",
      "\n",
      "    %+%, alpha\n",
      "\n",
      "Warning message in ks.test(df.numeric[i], rnorm(1000)):\n",
      "\"p-value will be approximate in the presence of ties\"Warning message in ks.test(df.numeric[i], rnorm(1000)):\n",
      "\"p-value will be approximate in the presence of ties\"Warning message in ks.test(df.numeric[i], rnorm(1000)):\n",
      "\"p-value will be approximate in the presence of ties\"Warning message in ks.test(df.numeric[i], rnorm(1000)):\n",
      "\"p-value will be approximate in the presence of ties\"Warning message in ks.test(df.numeric[i], rnorm(1000)):\n",
      "\"p-value will be approximate in the presence of ties\"Warning message in ks.test(df.numeric[i], rnorm(1000)):\n",
      "\"p-value will be approximate in the presence of ties\"Warning message in ks.test(df.numeric[i], rnorm(1000)):\n",
      "\"p-value will be approximate in the presence of ties\"Warning message in ks.test(df.numeric[i], rnorm(1000)):\n",
      "\"p-value will be approximate in the presence of ties\"Warning message in ks.test(df.numeric[i], rnorm(1000)):\n",
      "\"p-value will be approximate in the presence of ties\"Warning message in ks.test(df.numeric[i], rnorm(1000)):\n",
      "\"p-value will be approximate in the presence of ties\"Warning message in ks.test(df.numeric[i], rnorm(1000)):\n",
      "\"p-value will be approximate in the presence of ties\"Warning message in ks.test(df.numeric[i], rnorm(1000)):\n",
      "\"p-value will be approximate in the presence of ties\"Warning message in ks.test(df.numeric[i], rnorm(1000)):\n",
      "\"p-value will be approximate in the presence of ties\"Warning message in ks.test(df.numeric[i], rnorm(1000)):\n",
      "\"p-value will be approximate in the presence of ties\"Warning message in ks.test(df.numeric[i], rnorm(1000)):\n",
      "\"p-value will be approximate in the presence of ties\"Warning message in ks.test(df.numeric[i], rnorm(1000)):\n",
      "\"p-value will be approximate in the presence of ties\"Warning message in ks.test(df.numeric[i], rnorm(1000)):\n",
      "\"p-value will be approximate in the presence of ties\"Warning message in ks.test(df.numeric[i], rnorm(1000)):\n",
      "\"p-value will be approximate in the presence of ties\"Warning message in ks.test(df.numeric[i], rnorm(1000)):\n",
      "\"p-value will be approximate in the presence of ties\"Warning message in ks.test(df.numeric[i], rnorm(1000)):\n",
      "\"p-value will be approximate in the presence of ties\"Warning message in ks.test(df.numeric[i], rnorm(1000)):\n",
      "\"p-value will be approximate in the presence of ties\"Warning message in ks.test(df.numeric[i], rnorm(1000)):\n",
      "\"p-value will be approximate in the presence of ties\"Warning message in ks.test(df.numeric[i], rnorm(1000)):\n",
      "\"p-value will be approximate in the presence of ties\"Warning message in ks.test(df.numeric[i], rnorm(1000)):\n",
      "\"p-value will be approximate in the presence of ties\"Warning message in ks.test(df.numeric[i], rnorm(1000)):\n",
      "\"p-value will be approximate in the presence of ties\"Warning message in ks.test(df.numeric[i], rnorm(1000)):\n",
      "\"p-value will be approximate in the presence of ties\"Warning message in ks.test(df.numeric[i], rnorm(1000)):\n",
      "\"p-value will be approximate in the presence of ties\"Warning message in ks.test(df.numeric[i], rnorm(1000)):\n",
      "\"p-value will be approximate in the presence of ties\"Warning message in ks.test(df.numeric[i], rnorm(1000)):\n",
      "\"p-value will be approximate in the presence of ties\"Warning message in ks.test(df.numeric[i], rnorm(1000)):\n",
      "\"p-value will be approximate in the presence of ties\"Warning message in ks.test(df.numeric[i], rnorm(1000)):\n",
      "\"p-value will be approximate in the presence of ties\"Warning message in ks.test(df.numeric[i], rnorm(1000)):\n",
      "\"p-value will be approximate in the presence of ties\"Warning message in ks.test(df.numeric[i], rnorm(1000)):\n",
      "\"p-value will be approximate in the presence of ties\"Warning message in ks.test(df.numeric[i], rnorm(1000)):\n",
      "\"p-value will be approximate in the presence of ties\"Warning message in ks.test(df.numeric[i], rnorm(1000)):\n",
      "\"p-value will be approximate in the presence of ties\"Warning message in ks.test(df.numeric[i], rnorm(1000)):\n",
      "\"p-value will be approximate in the presence of ties\"Warning message in ks.test(df.numeric[i], rnorm(1000)):\n",
      "\"p-value will be approximate in the presence of ties\"Warning message in ks.test(df.numeric[i], rnorm(1000)):\n",
      "\"p-value will be approximate in the presence of ties\"Warning message in ks.test(df.numeric[i], rnorm(1000)):\n",
      "\"p-value will be approximate in the presence of ties\"Warning message in ks.test(df.numeric[i], rnorm(1000)):\n",
      "\"p-value will be approximate in the presence of ties\"Warning message in ks.test(df.numeric[i], rnorm(1000)):\n",
      "\"p-value will be approximate in the presence of ties\"Warning message in ks.test(df.numeric[i], rnorm(1000)):\n",
      "\"p-value will be approximate in the presence of ties\"Warning message in ks.test(df.numeric[i], rnorm(1000)):\n",
      "\"p-value will be approximate in the presence of ties\"Warning message in ks.test(df.numeric[i], rnorm(1000)):\n",
      "\"p-value will be approximate in the presence of ties\"Warning message in ks.test(df.numeric[i], rnorm(1000)):\n",
      "\"p-value will be approximate in the presence of ties\"Warning message in ks.test(df.numeric[i], rnorm(1000)):\n",
      "\"p-value will be approximate in the presence of ties\"Warning message in ks.test(df.numeric[i], rnorm(1000)):\n",
      "\"p-value will be approximate in the presence of ties\"Warning message in ks.test(df.numeric[i], rnorm(1000)):\n",
      "\"p-value will be approximate in the presence of ties\"Warning message in ks.test(df.numeric[i], rnorm(1000)):\n",
      "\"p-value will be approximate in the presence of ties\"Warning message in ks.test(df.numeric[i], rnorm(1000)):\n",
      "\"p-value will be approximate in the presence of ties\"Warning message in ks.test(df.numeric[i], rnorm(1000)):\n",
      "\"p-value will be approximate in the presence of ties\"Warning message in ks.test(df.numeric[i], rnorm(1000)):\n",
      "\"p-value will be approximate in the presence of ties\"Warning message in ks.test(df.numeric[i], rnorm(1000)):\n",
      "\"p-value will be approximate in the presence of ties\"Warning message in ks.test(df.numeric[i], rnorm(1000)):\n",
      "\"p-value will be approximate in the presence of ties\"Warning message in ks.test(df.numeric[i], rnorm(1000)):\n",
      "\"p-value will be approximate in the presence of ties\"Warning message in ks.test(df.numeric[i], rnorm(1000)):\n",
      "\"p-value will be approximate in the presence of ties\"Warning message in ks.test(df.numeric[i], rnorm(1000)):\n",
      "\"p-value will be approximate in the presence of ties\"Warning message in ks.test(df.numeric[i], rnorm(1000)):\n",
      "\"p-value will be approximate in the presence of ties\"Warning message in ks.test(df.numeric[i], rnorm(1000)):\n",
      "\"p-value will be approximate in the presence of ties\"Warning message in ks.test(df.numeric[i], rnorm(1000)):\n",
      "\"p-value will be approximate in the presence of ties\"Warning message in ks.test(df.numeric[i], rnorm(1000)):\n",
      "\"p-value will be approximate in the presence of ties\"Warning message in ks.test(df.numeric[i], rnorm(1000)):\n",
      "\"p-value will be approximate in the presence of ties\"Warning message in ks.test(df.numeric[i], rnorm(1000)):\n",
      "\"p-value will be approximate in the presence of ties\"Warning message in ks.test(df.numeric[i], rnorm(1000)):\n",
      "\"p-value will be approximate in the presence of ties\"Warning message in ks.test(df.numeric[i], rnorm(1000)):\n",
      "\"p-value will be approximate in the presence of ties\"Warning message in ks.test(df.numeric[i], rnorm(1000)):\n",
      "\"p-value will be approximate in the presence of ties\"Warning message in ks.test(df.numeric[i], rnorm(1000)):\n",
      "\"p-value will be approximate in the presence of ties\"Warning message in ks.test(df.numeric[i], rnorm(1000)):\n",
      "\"p-value will be approximate in the presence of ties\"Warning message in ks.test(df.numeric[i], rnorm(1000)):\n",
      "\"p-value will be approximate in the presence of ties\"Warning message in ks.test(df.numeric[i], rnorm(1000)):\n",
      "\"p-value will be approximate in the presence of ties\"Warning message in ks.test(df.numeric[i], rnorm(1000)):\n",
      "\"p-value will be approximate in the presence of ties\"Warning message in ks.test(df.numeric[i], rnorm(1000)):\n"
     ]
    },
    {
     "name": "stderr",
     "output_type": "stream",
     "text": [
      "\"p-value will be approximate in the presence of ties\"Warning message in ks.test(df.numeric[i], rnorm(1000)):\n",
      "\"p-value will be approximate in the presence of ties\"Warning message in ks.test(df.numeric[i], rnorm(1000)):\n",
      "\"p-value will be approximate in the presence of ties\"Warning message in ks.test(df.numeric[i], rnorm(1000)):\n",
      "\"p-value will be approximate in the presence of ties\"Warning message in ks.test(df.numeric[i], rnorm(1000)):\n",
      "\"p-value will be approximate in the presence of ties\"Warning message in ks.test(df.numeric[i], rnorm(1000)):\n",
      "\"p-value will be approximate in the presence of ties\"Warning message in ks.test(df.numeric[i], rnorm(1000)):\n",
      "\"p-value will be approximate in the presence of ties\"Warning message in ks.test(df.numeric[i], rnorm(1000)):\n",
      "\"p-value will be approximate in the presence of ties\"Warning message in ks.test(df.numeric[i], rnorm(1000)):\n",
      "\"p-value will be approximate in the presence of ties\"Warning message in ks.test(df.numeric[i], rnorm(1000)):\n",
      "\"p-value will be approximate in the presence of ties\""
     ]
    }
   ],
   "source": [
    "# Kolmogorov-Smirnof 검정 사용 \n",
    "require(psych)\n",
    "# linear models assume normality from dependant variables \n",
    "# transform any skewed data into normal\n",
    "skewed <- apply(df.numeric, 2, skewness)\n",
    "skewed <- skewed[(skewed > 0.8) | (skewed < -0.8)]\n",
    "\n",
    "kurtosis <- apply(df.numeric, 2, kurtosi)\n",
    "kurtosis <- kurtosis[(kurtosis > 3.0) | (kurtosis < -3.0)]\n",
    "\n",
    "# not very useful in our case\n",
    "ks.p.val <- NULL\n",
    "for (i in 1:length(df.numeric)) {\n",
    "  test.stat <- ks.test(df.numeric[i], rnorm(1000))\n",
    "  ks.p.val[i] <- test.stat$p.value\n",
    "}\n",
    "\n",
    "for(col in names(skewed)){\n",
    "  if(0 %in% df.numeric[, col]) {\n",
    "    df.numeric[,col] <- log(1+df.numeric[,col])\n",
    "  }\n",
    "  else {\n",
    "    df.numeric[,col] <- log(df.numeric[,col])\n",
    "  }\n",
    "}\n",
    "\n",
    "# normalize the data\n",
    "scaler <- preProcess(df.numeric)\n",
    "df.numeric <- predict(scaler, df.numeric)"
   ]
  },
  {
   "cell_type": "code",
   "execution_count": 143,
   "metadata": {},
   "outputs": [],
   "source": [
    "# 카테고리 변수 --> 원핫 인코딩\n",
    "dummy <- dummyVars(\" ~ .\",data=df.combined[,cat_features])\n",
    "df.categoric <- data.frame(predict(dummy,newdata=df.combined[,cat_features]))"
   ]
  },
  {
   "cell_type": "code",
   "execution_count": 145,
   "metadata": {},
   "outputs": [],
   "source": [
    "# saleprice와 상관계수가 높은 YearBuilt, GarageYrBlt and YearRemodAdd\n",
    "# 1871년도 부터 20년 간격으로 2010 까지 총 7개의 bin을 생성 --> 시대에 따른 주택,차고 차별화\n",
    "year.map = function(col.combined, col.name) {\n",
    "  for (i in 1:7) {\n",
    "    year.seq = seq(1871+(i-1)*20, 1871+i*20-1)\n",
    "    idx = which(df.combined[,col.combined] %in% year.seq)\n",
    "    df.categoric[idx,col.name] = i\n",
    "  }\n",
    "  return(df.categoric)\n",
    "}\n",
    "\n",
    "df.categoric['GarageYrBltBin'] = 0\n",
    "df.categoric <- year.map('GarageYrBlt', 'GarageYrBltBin')\n",
    "df.categoric['YearBuiltBin'] = 0\n",
    "df.categoric <- year.map('YearBuilt','YearBuiltBin')\n",
    "df.categoric['YearRemodAddBin'] = 0\n",
    "df.categoric <- year.map('YearRemodAdd', 'YearRemodAddBin')"
   ]
  },
  {
   "cell_type": "code",
   "execution_count": 146,
   "metadata": {},
   "outputs": [],
   "source": [
    "# * 뭐하는거지??\n",
    "bin.cols <- c('GarageYrBltBin', 'YearBuiltBin', 'YearRemodAddBin')\n",
    "\n",
    "for (col in bin.cols) {\n",
    "  df.categoric <- cbind(df.categoric, model.matrix(~.-1, df.categoric[col]))\n",
    "}\n",
    "# lets drop the orginal 'GarageYrBltBin', 'YearBuiltBin', 'YearRemodAddBin' from our dataframe\n",
    "df.categoric <- df.categoric[,!names(df.categoric) %in% bin.cols]"
   ]
  },
  {
   "cell_type": "code",
   "execution_count": 147,
   "metadata": {},
   "outputs": [],
   "source": [
    "# 각 카테고리에 대한 작업 완료 후, 하나의 데이터 프레임으로 합침\n",
    "df <- cbind(df.numeric, df.categoric)"
   ]
  },
  {
   "cell_type": "code",
   "execution_count": 148,
   "metadata": {},
   "outputs": [
    {
     "name": "stderr",
     "output_type": "stream",
     "text": [
      "Loading required package: WVPlots\n",
      "Warning message in library(package, lib.loc = lib.loc, character.only = TRUE, logical.return = TRUE, :\n",
      "\"there is no package called 'WVPlots'\""
     ]
    },
    {
     "data": {},
     "metadata": {},
     "output_type": "display_data"
    },
    {
     "data": {
      "image/png": "[encoded data removed]",
      "text/plain": [
       "plot without title"
      ]
     },
     "metadata": {},
     "output_type": "display_data"
    }
   ],
   "source": [
    "require(WVPlots)\n",
    "y.true <- train$SalePrice[which(!1:1460 %in% idx.outliers)]\n",
    "\n",
    "qplot(y.true, geom='density') +# +(train, aes(x=SalePrice)) +\n",
    "  geom_histogram(aes(y=..density..), color='white', \n",
    "                 fill='lightblue', alpha=.5, bins = 60) +\n",
    "  geom_line(aes(y=..density..), color='cornflowerblue', lwd = 1, stat = 'density') + \n",
    "  stat_function(fun = dnorm, colour = 'indianred', lwd = 1, args = \n",
    "                  list(mean(train$SalePrice), sd(train$SalePrice))) +\n",
    "  scale_x_continuous(breaks = seq(0,800000,100000), labels = dollar) +\n",
    "  scale_y_continuous(labels = comma) +\n",
    "  theme_minimal() +\n",
    "  annotate('text', label = paste('skewness =', signif(skewness(train$SalePrice),4)),\n",
    "           x=500000,y=7.5e-06)\n"
   ]
  },
  {
   "cell_type": "code",
   "execution_count": 149,
   "metadata": {},
   "outputs": [
    {
     "data": {
      "image/png": "[encoded data removed]",
      "text/plain": [
       "Plot with title \"Normal Q-Q Plot\""
      ]
     },
     "metadata": {},
     "output_type": "display_data"
    }
   ],
   "source": [
    "qqnorm(train$SalePrice)\n",
    "qqline(train$SalePrice)"
   ]
  },
  {
   "cell_type": "code",
   "execution_count": 150,
   "metadata": {},
   "outputs": [
    {
     "data": {},
     "metadata": {},
     "output_type": "display_data"
    },
    {
     "data": {
      "image/png": "[encoded data removed]",
      "text/plain": [
       "plot without title"
      ]
     },
     "metadata": {},
     "output_type": "display_data"
    }
   ],
   "source": [
    "# salePrice 가 right-skew이므로 log 변환을 통해 정규화\n",
    "y_train <- log(y.true+1)\n",
    "\n",
    "qplot(y_train, geom = 'density') +\n",
    "  geom_histogram(aes(y=..density..), color = 'white', fill = 'lightblue', alpha = .5, bins = 60) +\n",
    "  scale_x_continuous(breaks = seq(0,800000,100000), labels = comma) +\n",
    "  geom_line(aes(y=..density..), color='dodgerblue4', lwd = 1, stat = 'density') + \n",
    "  stat_function(fun = dnorm, colour = 'indianred', lwd = 1, args = \n",
    "                  list(mean(y_train), sd(y_train))) +\n",
    "  #scale_x_continuous(breaks = seq(0,800000,100000), labels = dollar) +\n",
    "  scale_y_continuous(labels = comma) +\n",
    "  theme_minimal() +\n",
    "  annotate('text', label = paste('skewness =', signif(skewness(y_train),4)),\n",
    "           x=13,y=1) +\n",
    "  labs(x = 'log(SalePrice + 1)') "
   ]
  },
  {
   "cell_type": "code",
   "execution_count": 151,
   "metadata": {},
   "outputs": [
    {
     "data": {
      "image/png": "[encoded data removed]",
      "text/plain": [
       "Plot with title \"Normal Q-Q Plot\""
      ]
     },
     "metadata": {},
     "output_type": "display_data"
    }
   ],
   "source": [
    "qqnorm(y_train)\n",
    "qqline(y_train)"
   ]
  },
  {
   "cell_type": "code",
   "execution_count": 152,
   "metadata": {},
   "outputs": [
    {
     "data": {
      "text/html": [
       "'The dataframe has 2915 rows and 345 columns'"
      ],
      "text/latex": [
       "'The dataframe has 2915 rows and 345 columns'"
      ],
      "text/markdown": [
       "'The dataframe has 2915 rows and 345 columns'"
      ],
      "text/plain": [
       "[1] \"The dataframe has 2915 rows and 345 columns\""
      ]
     },
     "metadata": {},
     "output_type": "display_data"
    }
   ],
   "source": [
    "#log 변환 결과 정규성을 따름을 확인할 수 있다.\n",
    "paste('The dataframe has', dim(df)[1], 'rows and', dim(df)[2], 'columns')"
   ]
  },
  {
   "cell_type": "code",
   "execution_count": 153,
   "metadata": {},
   "outputs": [
    {
     "data": {
      "text/html": [
       "'The dataframe now has 2915 rows and 162 columns'"
      ],
      "text/latex": [
       "'The dataframe now has 2915 rows and 162 columns'"
      ],
      "text/markdown": [
       "'The dataframe now has 2915 rows and 162 columns'"
      ],
      "text/plain": [
       "[1] \"The dataframe now has 2915 rows and 162 columns\""
      ]
     },
     "metadata": {},
     "output_type": "display_data"
    }
   ],
   "source": [
    "# 345 ocl = 기존 변수들 + 새로운 변수들\n",
    "# 이중에서 Near-Zero Variance를 가지는 데이터를 빼준다 --> 이유) 과적합 야기\n",
    "nzv.data <- nearZeroVar(df, saveMetrics = TRUE)\n",
    "\n",
    "# take any of the near-zero-variance perdictors\n",
    "drop.cols <- rownames(nzv.data)[nzv.data$nzv == TRUE]\n",
    "\n",
    "df <- df[,!names(df) %in% drop.cols]\n",
    "\n",
    "paste('The dataframe now has', dim(df)[1], 'rows and', dim(df)[2], 'columns')"
   ]
  },
  {
   "cell_type": "markdown",
   "metadata": {},
   "source": [
    "# Modeling with XGBoost "
   ]
  },
  {
   "cell_type": "code",
   "execution_count": 154,
   "metadata": {},
   "outputs": [],
   "source": [
    "# train set 과 test set 으로 나눠줌 \n",
    "x_train <- df[1:1456,]\n",
    "\n",
    "x_test <- df[1457:nrow(df),]\n",
    "\n",
    "\n",
    "dtrain <- xgb.DMatrix(as.matrix(x_train), label = y_train)\n",
    "dtest <- xgb.DMatrix(as.matrix(x_test))"
   ]
  },
  {
   "cell_type": "code",
   "execution_count": 155,
   "metadata": {},
   "outputs": [],
   "source": [
    "cv.ctrl <- trainControl(method = \"repeatedcv\", repeats = 1,number = 4, \n",
    "                        allowParallel=T)\n",
    "\n",
    "    xgb.grid <- expand.grid(nrounds = 750,\n",
    "        eta = c(0.01,0.005,0.001),\n",
    "        max_depth = c(4,6,8),\n",
    "        colsample_bytree=c(0,1,10),\n",
    "        min_child_weight = 2,\n",
    "        subsample=c(0,0.2,0.4,0.6),\n",
    "        gamma=0.01)\n",
    "set.seed(45)\n",
    "    #xgb_tune <- train(as.matrix(x_train),\n",
    "    #        y_train,\n",
    "    #        method=\"xgbTree\",\n",
    "    #        trControl=cv.ctrl,\n",
    "    #        tuneGrid=xgb.grid,\n",
    "    #        verbose=T,\n",
    "    #        metric=\"RMSE\",\n",
    "    #        nthread =3)\n",
    "\n",
    "xgb_params <- list(\n",
    "  booster = 'gbtree',\n",
    "  objective = 'reg:linear',\n",
    "  colsample_bytree=1,\n",
    "  eta=0.005,\n",
    "  max_depth=4,\n",
    "  min_child_weight=3,\n",
    "  alpha=0.3,\n",
    "  lambda=0.4,\n",
    "  gamma=0.01, # less overfit\n",
    "  subsample=0.6,\n",
    "  seed=5,\n",
    "  silent=TRUE)\n",
    "\n",
    "#xgb.cv(xgb_params, dtrain, nrounds = 5000, nfold = 4, early_stopping_rounds = 500)"
   ]
  },
  {
   "cell_type": "code",
   "execution_count": 156,
   "metadata": {},
   "outputs": [],
   "source": [
    "bst <- xgb.train(xgb_params,dtrain, nrounds = 1000)#, early_stopping_rounds = 300, watchlist = list(train=dtrain))"
   ]
  },
  {
   "cell_type": "code",
   "execution_count": 157,
   "metadata": {},
   "outputs": [],
   "source": [
    "rmse_eval <- function(y.true, y.pred) {\n",
    "  mse_eval <- sum((y.true - exp(y.pred)-1)^2) / length(y.true)\n",
    "  return(sqrt(mse_eval))\n",
    "}\n"
   ]
  },
  {
   "cell_type": "markdown",
   "metadata": {},
   "source": [
    "## * issue\n",
    "- MasVrnType 에서 MasVarArea 가 198 일때의 결측치 처리 --> 왜 BrkFace? // 내생각: Stone\n",
    "- ln(66) 주석처리부분 -> 왜 한건지 이해안됨."
   ]
  }
 ],
 "metadata": {
  "kernelspec": {
   "display_name": "R",
   "language": "R",
   "name": "ir"
  },
  "language_info": {
   "codemirror_mode": "r",
   "file_extension": ".r",
   "mimetype": "text/x-r-source",
   "name": "R",
   "pygments_lexer": "r",
   "version": "3.3.0"
  }
 },
 "nbformat": 4,
 "nbformat_minor": 2
}
